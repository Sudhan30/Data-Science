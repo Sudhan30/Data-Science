{
 "cells": [
  {
   "cell_type": "code",
   "execution_count": 1,
   "metadata": {
    "colab": {},
    "colab_type": "code",
    "id": "Be0toGwdaQTW"
   },
   "outputs": [],
   "source": [
    "#Importing Libraries\n",
    "import os\n",
    "import pandas as pd\n",
    "import matplotlib.pyplot as plt\n",
    "from sklearn import tree\n",
    "from sklearn.svm import SVC\n",
    "from sklearn.metrics import roc_curve, roc_auc_score\n",
    "from IPython.display import display, HTML\n",
    "from sklearn.metrics import accuracy_score\n",
    "from sklearn.ensemble import AdaBoostClassifier\n",
    "from sklearn.tree import DecisionTreeClassifier\n",
    "from sklearn.model_selection import GridSearchCV\n",
    "from sklearn.model_selection import train_test_split\n",
    "from sklearn.metrics import classification_report, confusion_matrix"
   ]
  },
  {
   "cell_type": "code",
   "execution_count": 2,
   "metadata": {
    "colab": {
     "base_uri": "https://localhost:8080/",
     "height": 223
    },
    "colab_type": "code",
    "id": "y9Nzu8pqaVO4",
    "outputId": "2d327c2f-c665-46e3-cd95-586bf5ef12e9"
   },
   "outputs": [
    {
     "data": {
      "text/html": [
       "<div>\n",
       "<style scoped>\n",
       "    .dataframe tbody tr th:only-of-type {\n",
       "        vertical-align: middle;\n",
       "    }\n",
       "\n",
       "    .dataframe tbody tr th {\n",
       "        vertical-align: top;\n",
       "    }\n",
       "\n",
       "    .dataframe thead th {\n",
       "        text-align: right;\n",
       "    }\n",
       "</style>\n",
       "<table border=\"1\" class=\"dataframe\">\n",
       "  <thead>\n",
       "    <tr style=\"text-align: right;\">\n",
       "      <th></th>\n",
       "      <th>Appliances</th>\n",
       "      <th>lights</th>\n",
       "      <th>T1</th>\n",
       "      <th>RH_1</th>\n",
       "      <th>T2</th>\n",
       "      <th>RH_2</th>\n",
       "      <th>T3</th>\n",
       "      <th>RH_3</th>\n",
       "      <th>T4</th>\n",
       "      <th>RH_4</th>\n",
       "      <th>...</th>\n",
       "      <th>T9</th>\n",
       "      <th>RH_9</th>\n",
       "      <th>T_out</th>\n",
       "      <th>Press_mm_hg</th>\n",
       "      <th>RH_out</th>\n",
       "      <th>Windspeed</th>\n",
       "      <th>Visibility</th>\n",
       "      <th>Tdewpoint</th>\n",
       "      <th>rv1</th>\n",
       "      <th>rv2</th>\n",
       "    </tr>\n",
       "  </thead>\n",
       "  <tbody>\n",
       "    <tr>\n",
       "      <th>0</th>\n",
       "      <td>60</td>\n",
       "      <td>30</td>\n",
       "      <td>19.89</td>\n",
       "      <td>47.596667</td>\n",
       "      <td>19.2</td>\n",
       "      <td>44.790000</td>\n",
       "      <td>19.79</td>\n",
       "      <td>44.730000</td>\n",
       "      <td>19.000000</td>\n",
       "      <td>45.566667</td>\n",
       "      <td>...</td>\n",
       "      <td>17.033333</td>\n",
       "      <td>45.53</td>\n",
       "      <td>6.600000</td>\n",
       "      <td>733.5</td>\n",
       "      <td>92.0</td>\n",
       "      <td>7.000000</td>\n",
       "      <td>63.000000</td>\n",
       "      <td>5.3</td>\n",
       "      <td>13.275433</td>\n",
       "      <td>13.275433</td>\n",
       "    </tr>\n",
       "    <tr>\n",
       "      <th>1</th>\n",
       "      <td>60</td>\n",
       "      <td>30</td>\n",
       "      <td>19.89</td>\n",
       "      <td>46.693333</td>\n",
       "      <td>19.2</td>\n",
       "      <td>44.722500</td>\n",
       "      <td>19.79</td>\n",
       "      <td>44.790000</td>\n",
       "      <td>19.000000</td>\n",
       "      <td>45.992500</td>\n",
       "      <td>...</td>\n",
       "      <td>17.066667</td>\n",
       "      <td>45.56</td>\n",
       "      <td>6.483333</td>\n",
       "      <td>733.6</td>\n",
       "      <td>92.0</td>\n",
       "      <td>6.666667</td>\n",
       "      <td>59.166667</td>\n",
       "      <td>5.2</td>\n",
       "      <td>18.606195</td>\n",
       "      <td>18.606195</td>\n",
       "    </tr>\n",
       "    <tr>\n",
       "      <th>2</th>\n",
       "      <td>50</td>\n",
       "      <td>30</td>\n",
       "      <td>19.89</td>\n",
       "      <td>46.300000</td>\n",
       "      <td>19.2</td>\n",
       "      <td>44.626667</td>\n",
       "      <td>19.79</td>\n",
       "      <td>44.933333</td>\n",
       "      <td>18.926667</td>\n",
       "      <td>45.890000</td>\n",
       "      <td>...</td>\n",
       "      <td>17.000000</td>\n",
       "      <td>45.50</td>\n",
       "      <td>6.366667</td>\n",
       "      <td>733.7</td>\n",
       "      <td>92.0</td>\n",
       "      <td>6.333333</td>\n",
       "      <td>55.333333</td>\n",
       "      <td>5.1</td>\n",
       "      <td>28.642668</td>\n",
       "      <td>28.642668</td>\n",
       "    </tr>\n",
       "    <tr>\n",
       "      <th>3</th>\n",
       "      <td>50</td>\n",
       "      <td>40</td>\n",
       "      <td>19.89</td>\n",
       "      <td>46.066667</td>\n",
       "      <td>19.2</td>\n",
       "      <td>44.590000</td>\n",
       "      <td>19.79</td>\n",
       "      <td>45.000000</td>\n",
       "      <td>18.890000</td>\n",
       "      <td>45.723333</td>\n",
       "      <td>...</td>\n",
       "      <td>17.000000</td>\n",
       "      <td>45.40</td>\n",
       "      <td>6.250000</td>\n",
       "      <td>733.8</td>\n",
       "      <td>92.0</td>\n",
       "      <td>6.000000</td>\n",
       "      <td>51.500000</td>\n",
       "      <td>5.0</td>\n",
       "      <td>45.410389</td>\n",
       "      <td>45.410389</td>\n",
       "    </tr>\n",
       "    <tr>\n",
       "      <th>4</th>\n",
       "      <td>60</td>\n",
       "      <td>40</td>\n",
       "      <td>19.89</td>\n",
       "      <td>46.333333</td>\n",
       "      <td>19.2</td>\n",
       "      <td>44.530000</td>\n",
       "      <td>19.79</td>\n",
       "      <td>45.000000</td>\n",
       "      <td>18.890000</td>\n",
       "      <td>45.530000</td>\n",
       "      <td>...</td>\n",
       "      <td>17.000000</td>\n",
       "      <td>45.40</td>\n",
       "      <td>6.133333</td>\n",
       "      <td>733.9</td>\n",
       "      <td>92.0</td>\n",
       "      <td>5.666667</td>\n",
       "      <td>47.666667</td>\n",
       "      <td>4.9</td>\n",
       "      <td>10.084097</td>\n",
       "      <td>10.084097</td>\n",
       "    </tr>\n",
       "  </tbody>\n",
       "</table>\n",
       "<p>5 rows × 28 columns</p>\n",
       "</div>"
      ],
      "text/plain": [
       "   Appliances  lights     T1       RH_1    T2       RH_2     T3       RH_3  \\\n",
       "0          60      30  19.89  47.596667  19.2  44.790000  19.79  44.730000   \n",
       "1          60      30  19.89  46.693333  19.2  44.722500  19.79  44.790000   \n",
       "2          50      30  19.89  46.300000  19.2  44.626667  19.79  44.933333   \n",
       "3          50      40  19.89  46.066667  19.2  44.590000  19.79  45.000000   \n",
       "4          60      40  19.89  46.333333  19.2  44.530000  19.79  45.000000   \n",
       "\n",
       "          T4       RH_4  ...         T9   RH_9     T_out  Press_mm_hg  RH_out  \\\n",
       "0  19.000000  45.566667  ...  17.033333  45.53  6.600000        733.5    92.0   \n",
       "1  19.000000  45.992500  ...  17.066667  45.56  6.483333        733.6    92.0   \n",
       "2  18.926667  45.890000  ...  17.000000  45.50  6.366667        733.7    92.0   \n",
       "3  18.890000  45.723333  ...  17.000000  45.40  6.250000        733.8    92.0   \n",
       "4  18.890000  45.530000  ...  17.000000  45.40  6.133333        733.9    92.0   \n",
       "\n",
       "   Windspeed  Visibility  Tdewpoint        rv1        rv2  \n",
       "0   7.000000   63.000000        5.3  13.275433  13.275433  \n",
       "1   6.666667   59.166667        5.2  18.606195  18.606195  \n",
       "2   6.333333   55.333333        5.1  28.642668  28.642668  \n",
       "3   6.000000   51.500000        5.0  45.410389  45.410389  \n",
       "4   5.666667   47.666667        4.9  10.084097  10.084097  \n",
       "\n",
       "[5 rows x 28 columns]"
      ]
     },
     "execution_count": 2,
     "metadata": {},
     "output_type": "execute_result"
    }
   ],
   "source": [
    "#Loading Dataset\n",
    "df=pd.read_csv(\"energydata_complete.csv\",sep=',')\n",
    "#printing the head of the Dataset\n",
    "df=df.drop(['date'], axis=1) #Dropping Date Column in the Dataset\n",
    "df.head()"
   ]
  },
  {
   "cell_type": "code",
   "execution_count": 3,
   "metadata": {
    "colab": {},
    "colab_type": "code",
    "id": "Hy9mO0_kbKBu"
   },
   "outputs": [],
   "source": [
    "#Converting Energy consumption into a Binary Classification Problem\n",
    "df['Appliances']=(df['Appliances']>int(df['Appliances'].mean())).astype(int)\n",
    "#Splitting x and y\n",
    "y=df['Appliances'].values\n",
    "X=df.drop(['Appliances'], axis=1)\n",
    "#X=df[['lights', 'T1', 'RH_1', 'T2', 'RH_2', 'T3',]].values\n",
    "#Test Train Split\n",
    "X_train, X_test, y_train, y_test = train_test_split(X, y, test_size = 0.20,random_state=100)"
   ]
  },
  {
   "cell_type": "code",
   "execution_count": 4,
   "metadata": {},
   "outputs": [],
   "source": [
    "def ROC_Plot(y,y_pred,label):\n",
    "    '''Function to plot ROC characteristics of the model'''\n",
    "    #Calculating True and False Positive Rate\n",
    "    fpr, tpr, _ = roc_curve(y,  y_pred)\n",
    "    \n",
    "    #Caculating ROC Score\n",
    "    auc = roc_auc_score(y, y_pred)\n",
    "    \n",
    "    #ROC Plot\n",
    "    plt.plot(fpr,tpr,label=label+\", auc=\"+str(auc))\n",
    "    plt.legend(loc=4)\n",
    "    plt.plot([0, 1], [0, 1],'r--')\n",
    "    plt.title('ROC Curve')\n",
    "    plt.xlabel('False Positive Rate')\n",
    "    plt.ylabel('True Positive Rate')\n",
    "    plt.show()"
   ]
  },
  {
   "cell_type": "code",
   "execution_count": 5,
   "metadata": {},
   "outputs": [],
   "source": [
    "def Model_Evaluation(model,X,y,label,class0,class1):\n",
    "    '''Function to evaluate model performance'''\n",
    "    #To Print the text in Bold\n",
    "    start = \"\\033[1m\"\n",
    "    end = \"\\033[0;0m\"\n",
    "    print(start+ label + \"ing Data - Model Evaluation\" +end + \"\\n\")\n",
    "    #Fitting the trained Model\n",
    "    y_pred = model.predict(X)\n",
    "\n",
    "    #Calculating Accuracy\n",
    "    print (label + \"ing Accuracy is:\", format((accuracy_score(y,y_pred)*100), '.2f'))\n",
    "\n",
    "    #Printing Confusion Matrix\n",
    "    print(start + \"\\n\\t\\t Confusion Matrix\" + end)\n",
    "    display(pd.DataFrame(\n",
    "        confusion_matrix(y,y_pred),\n",
    "        columns=[class0, class1],\n",
    "        index=[class0, class1]\n",
    "    ))\n",
    "\n",
    "    #Printing Classification Report\n",
    "    print(start + \"\\n\\t\\t Classification Report\\n\" + end)\n",
    "    print(classification_report(y,y_pred))\n",
    "\n",
    "    #Plotting ROC\n",
    "    print(start + \"\\n\\t\\t\\tROC Curve\\n\" + end)\n",
    "    ROC_Plot(y,y_pred,label=label)"
   ]
  },
  {
   "cell_type": "markdown",
   "metadata": {
    "colab_type": "text",
    "id": "889afhzy47l3"
   },
   "source": [
    "### Support Vecor Machines"
   ]
  },
  {
   "cell_type": "markdown",
   "metadata": {
    "colab_type": "text",
    "id": "ilM7QXSaBVK8"
   },
   "source": [
    "Linear Kernel"
   ]
  },
  {
   "cell_type": "code",
   "execution_count": 6,
   "metadata": {
    "colab": {
     "base_uri": "https://localhost:8080/",
     "height": 86
    },
    "colab_type": "code",
    "id": "7Id_tT1PbRHS",
    "outputId": "3f13a352-e343-4731-ee07-459dc4726863"
   },
   "outputs": [
    {
     "data": {
      "text/plain": [
       "SVC(C=1.0, cache_size=200, class_weight=None, coef0=0.0,\n",
       "  decision_function_shape='ovr', degree=3, gamma='auto_deprecated',\n",
       "  kernel='linear', max_iter=-1, probability=False, random_state=None,\n",
       "  shrinking=True, tol=0.001, verbose=False)"
      ]
     },
     "execution_count": 6,
     "metadata": {},
     "output_type": "execute_result"
    }
   ],
   "source": [
    "#SVM Linear Kernel\n",
    "svclassifier = SVC(kernel='linear')\n",
    "svclassifier.fit(X_train, y_train)"
   ]
  },
  {
   "cell_type": "code",
   "execution_count": 7,
   "metadata": {},
   "outputs": [
    {
     "name": "stdout",
     "output_type": "stream",
     "text": [
      "\u001b[1mSVM (Linear Kernel) Training Data - Model Evaluation\u001b[0;0m\n",
      "\n",
      "SVM (Linear Kernel) Training Accuracy is: 79.60\n",
      "\u001b[1m\n",
      "\t\t Confusion Matrix\u001b[0;0m\n"
     ]
    },
    {
     "data": {
      "text/html": [
       "<div>\n",
       "<style scoped>\n",
       "    .dataframe tbody tr th:only-of-type {\n",
       "        vertical-align: middle;\n",
       "    }\n",
       "\n",
       "    .dataframe tbody tr th {\n",
       "        vertical-align: top;\n",
       "    }\n",
       "\n",
       "    .dataframe thead th {\n",
       "        text-align: right;\n",
       "    }\n",
       "</style>\n",
       "<table border=\"1\" class=\"dataframe\">\n",
       "  <thead>\n",
       "    <tr style=\"text-align: right;\">\n",
       "      <th></th>\n",
       "      <th>Energy Not Consumed</th>\n",
       "      <th>Energy Consumed</th>\n",
       "    </tr>\n",
       "  </thead>\n",
       "  <tbody>\n",
       "    <tr>\n",
       "      <th>Energy Not Consumed</th>\n",
       "      <td>10810</td>\n",
       "      <td>778</td>\n",
       "    </tr>\n",
       "    <tr>\n",
       "      <th>Energy Consumed</th>\n",
       "      <td>2442</td>\n",
       "      <td>1758</td>\n",
       "    </tr>\n",
       "  </tbody>\n",
       "</table>\n",
       "</div>"
      ],
      "text/plain": [
       "                     Energy Not Consumed  Energy Consumed\n",
       "Energy Not Consumed                10810              778\n",
       "Energy Consumed                     2442             1758"
      ]
     },
     "metadata": {},
     "output_type": "display_data"
    },
    {
     "name": "stdout",
     "output_type": "stream",
     "text": [
      "\u001b[1m\n",
      "\t\t Classification Report\n",
      "\u001b[0;0m\n",
      "              precision    recall  f1-score   support\n",
      "\n",
      "           0       0.82      0.93      0.87     11588\n",
      "           1       0.69      0.42      0.52      4200\n",
      "\n",
      "   micro avg       0.80      0.80      0.80     15788\n",
      "   macro avg       0.75      0.68      0.70     15788\n",
      "weighted avg       0.78      0.80      0.78     15788\n",
      "\n",
      "\u001b[1m\n",
      "\t\t\tROC Curve\n",
      "\u001b[0;0m\n"
     ]
    },
    {
     "data": {
      "image/png": "[encoded data removed]",
      "text/plain": [
       "<Figure size 432x288 with 1 Axes>"
      ]
     },
     "metadata": {
      "needs_background": "light"
     },
     "output_type": "display_data"
    }
   ],
   "source": [
    "Model_Evaluation(svclassifier,X_train,y_train,label=\"SVM (Linear Kernel) Train\",class0='Energy Not Consumed',class1='Energy Consumed')"
   ]
  },
  {
   "cell_type": "code",
   "execution_count": 8,
   "metadata": {},
   "outputs": [
    {
     "name": "stdout",
     "output_type": "stream",
     "text": [
      "\u001b[1mSVM (Linear Kernel) Testing Data - Model Evaluation\u001b[0;0m\n",
      "\n",
      "SVM (Linear Kernel) Testing Accuracy is: 80.42\n",
      "\u001b[1m\n",
      "\t\t Confusion Matrix\u001b[0;0m\n"
     ]
    },
    {
     "data": {
      "text/html": [
       "<div>\n",
       "<style scoped>\n",
       "    .dataframe tbody tr th:only-of-type {\n",
       "        vertical-align: middle;\n",
       "    }\n",
       "\n",
       "    .dataframe tbody tr th {\n",
       "        vertical-align: top;\n",
       "    }\n",
       "\n",
       "    .dataframe thead th {\n",
       "        text-align: right;\n",
       "    }\n",
       "</style>\n",
       "<table border=\"1\" class=\"dataframe\">\n",
       "  <thead>\n",
       "    <tr style=\"text-align: right;\">\n",
       "      <th></th>\n",
       "      <th>Energy Not Consumed</th>\n",
       "      <th>Energy Consumed</th>\n",
       "    </tr>\n",
       "  </thead>\n",
       "  <tbody>\n",
       "    <tr>\n",
       "      <th>Energy Not Consumed</th>\n",
       "      <td>2737</td>\n",
       "      <td>199</td>\n",
       "    </tr>\n",
       "    <tr>\n",
       "      <th>Energy Consumed</th>\n",
       "      <td>574</td>\n",
       "      <td>437</td>\n",
       "    </tr>\n",
       "  </tbody>\n",
       "</table>\n",
       "</div>"
      ],
      "text/plain": [
       "                     Energy Not Consumed  Energy Consumed\n",
       "Energy Not Consumed                 2737              199\n",
       "Energy Consumed                      574              437"
      ]
     },
     "metadata": {},
     "output_type": "display_data"
    },
    {
     "name": "stdout",
     "output_type": "stream",
     "text": [
      "\u001b[1m\n",
      "\t\t Classification Report\n",
      "\u001b[0;0m\n",
      "              precision    recall  f1-score   support\n",
      "\n",
      "           0       0.83      0.93      0.88      2936\n",
      "           1       0.69      0.43      0.53      1011\n",
      "\n",
      "   micro avg       0.80      0.80      0.80      3947\n",
      "   macro avg       0.76      0.68      0.70      3947\n",
      "weighted avg       0.79      0.80      0.79      3947\n",
      "\n",
      "\u001b[1m\n",
      "\t\t\tROC Curve\n",
      "\u001b[0;0m\n"
     ]
    },
    {
     "data": {
      "image/png": "[encoded data removed]",
      "text/plain": [
       "<Figure size 432x288 with 1 Axes>"
      ]
     },
     "metadata": {
      "needs_background": "light"
     },
     "output_type": "display_data"
    }
   ],
   "source": [
    "Model_Evaluation(svclassifier,X_test,y_test,label=\"SVM (Linear Kernel) Test\",class0='Energy Not Consumed',class1='Energy Consumed')"
   ]
  },
  {
   "cell_type": "markdown",
   "metadata": {
    "colab_type": "text",
    "id": "ilM7QXSaBVK8"
   },
   "source": [
    "Gaussian Kernel"
   ]
  },
  {
   "cell_type": "code",
   "execution_count": 9,
   "metadata": {
    "colab": {
     "base_uri": "https://localhost:8080/",
     "height": 86
    },
    "colab_type": "code",
    "id": "53pGm3ZTcep4",
    "outputId": "2919c116-80e3-41ea-cea9-0c8251d2178e"
   },
   "outputs": [
    {
     "data": {
      "text/plain": [
       "SVC(C=1.0, cache_size=200, class_weight=None, coef0=0.0,\n",
       "  decision_function_shape='ovr', degree=3, gamma=0.001, kernel='rbf',\n",
       "  max_iter=-1, probability=False, random_state=None, shrinking=True,\n",
       "  tol=0.001, verbose=False)"
      ]
     },
     "execution_count": 9,
     "metadata": {},
     "output_type": "execute_result"
    }
   ],
   "source": [
    "#SVM Gaussian Kernel\n",
    "C=1.0\n",
    "svclassifier_gauss = SVC(kernel='rbf',gamma=0.001,C=C)\n",
    "svclassifier_gauss.fit(X_train, y_train)"
   ]
  },
  {
   "cell_type": "code",
   "execution_count": 10,
   "metadata": {},
   "outputs": [
    {
     "name": "stdout",
     "output_type": "stream",
     "text": [
      "\u001b[1mSVM (Gaussian Kernel) Training Data - Model Evaluation\u001b[0;0m\n",
      "\n",
      "SVM (Gaussian Kernel) Training Accuracy is: 83.82\n",
      "\u001b[1m\n",
      "\t\t Confusion Matrix\u001b[0;0m\n"
     ]
    },
    {
     "data": {
      "text/html": [
       "<div>\n",
       "<style scoped>\n",
       "    .dataframe tbody tr th:only-of-type {\n",
       "        vertical-align: middle;\n",
       "    }\n",
       "\n",
       "    .dataframe tbody tr th {\n",
       "        vertical-align: top;\n",
       "    }\n",
       "\n",
       "    .dataframe thead th {\n",
       "        text-align: right;\n",
       "    }\n",
       "</style>\n",
       "<table border=\"1\" class=\"dataframe\">\n",
       "  <thead>\n",
       "    <tr style=\"text-align: right;\">\n",
       "      <th></th>\n",
       "      <th>Energy Not Consumed</th>\n",
       "      <th>Energy Consumed</th>\n",
       "    </tr>\n",
       "  </thead>\n",
       "  <tbody>\n",
       "    <tr>\n",
       "      <th>Energy Not Consumed</th>\n",
       "      <td>11069</td>\n",
       "      <td>519</td>\n",
       "    </tr>\n",
       "    <tr>\n",
       "      <th>Energy Consumed</th>\n",
       "      <td>2035</td>\n",
       "      <td>2165</td>\n",
       "    </tr>\n",
       "  </tbody>\n",
       "</table>\n",
       "</div>"
      ],
      "text/plain": [
       "                     Energy Not Consumed  Energy Consumed\n",
       "Energy Not Consumed                11069              519\n",
       "Energy Consumed                     2035             2165"
      ]
     },
     "metadata": {},
     "output_type": "display_data"
    },
    {
     "name": "stdout",
     "output_type": "stream",
     "text": [
      "\u001b[1m\n",
      "\t\t Classification Report\n",
      "\u001b[0;0m\n",
      "              precision    recall  f1-score   support\n",
      "\n",
      "           0       0.84      0.96      0.90     11588\n",
      "           1       0.81      0.52      0.63      4200\n",
      "\n",
      "   micro avg       0.84      0.84      0.84     15788\n",
      "   macro avg       0.83      0.74      0.76     15788\n",
      "weighted avg       0.83      0.84      0.83     15788\n",
      "\n",
      "\u001b[1m\n",
      "\t\t\tROC Curve\n",
      "\u001b[0;0m\n"
     ]
    },
    {
     "data": {
      "image/png": "[encoded data removed]",
      "text/plain": [
       "<Figure size 432x288 with 1 Axes>"
      ]
     },
     "metadata": {
      "needs_background": "light"
     },
     "output_type": "display_data"
    }
   ],
   "source": [
    "Model_Evaluation(svclassifier_gauss,X_train,y_train,label=\"SVM (Gaussian Kernel) Train\",class0='Energy Not Consumed',class1='Energy Consumed')"
   ]
  },
  {
   "cell_type": "code",
   "execution_count": 11,
   "metadata": {},
   "outputs": [
    {
     "name": "stdout",
     "output_type": "stream",
     "text": [
      "\u001b[1mSVM (Gaussian Kernel) Testing Data - Model Evaluation\u001b[0;0m\n",
      "\n",
      "SVM (Gaussian Kernel) Testing Accuracy is: 82.24\n",
      "\u001b[1m\n",
      "\t\t Confusion Matrix\u001b[0;0m\n"
     ]
    },
    {
     "data": {
      "text/html": [
       "<div>\n",
       "<style scoped>\n",
       "    .dataframe tbody tr th:only-of-type {\n",
       "        vertical-align: middle;\n",
       "    }\n",
       "\n",
       "    .dataframe tbody tr th {\n",
       "        vertical-align: top;\n",
       "    }\n",
       "\n",
       "    .dataframe thead th {\n",
       "        text-align: right;\n",
       "    }\n",
       "</style>\n",
       "<table border=\"1\" class=\"dataframe\">\n",
       "  <thead>\n",
       "    <tr style=\"text-align: right;\">\n",
       "      <th></th>\n",
       "      <th>Energy Not Consumed</th>\n",
       "      <th>Energy Consumed</th>\n",
       "    </tr>\n",
       "  </thead>\n",
       "  <tbody>\n",
       "    <tr>\n",
       "      <th>Energy Not Consumed</th>\n",
       "      <td>2779</td>\n",
       "      <td>157</td>\n",
       "    </tr>\n",
       "    <tr>\n",
       "      <th>Energy Consumed</th>\n",
       "      <td>544</td>\n",
       "      <td>467</td>\n",
       "    </tr>\n",
       "  </tbody>\n",
       "</table>\n",
       "</div>"
      ],
      "text/plain": [
       "                     Energy Not Consumed  Energy Consumed\n",
       "Energy Not Consumed                 2779              157\n",
       "Energy Consumed                      544              467"
      ]
     },
     "metadata": {},
     "output_type": "display_data"
    },
    {
     "name": "stdout",
     "output_type": "stream",
     "text": [
      "\u001b[1m\n",
      "\t\t Classification Report\n",
      "\u001b[0;0m\n",
      "              precision    recall  f1-score   support\n",
      "\n",
      "           0       0.84      0.95      0.89      2936\n",
      "           1       0.75      0.46      0.57      1011\n",
      "\n",
      "   micro avg       0.82      0.82      0.82      3947\n",
      "   macro avg       0.79      0.70      0.73      3947\n",
      "weighted avg       0.81      0.82      0.81      3947\n",
      "\n",
      "\u001b[1m\n",
      "\t\t\tROC Curve\n",
      "\u001b[0;0m\n"
     ]
    },
    {
     "data": {
      "image/png": "[encoded data removed]",
      "text/plain": [
       "<Figure size 432x288 with 1 Axes>"
      ]
     },
     "metadata": {
      "needs_background": "light"
     },
     "output_type": "display_data"
    }
   ],
   "source": [
    "Model_Evaluation(svclassifier_gauss,X_test,y_test,label=\"SVM (Gaussian Kernel) Test\",class0='Energy Not Consumed',class1='Energy Consumed')"
   ]
  },
  {
   "cell_type": "code",
   "execution_count": 12,
   "metadata": {
    "colab": {
     "base_uri": "https://localhost:8080/",
     "height": 140
    },
    "colab_type": "code",
    "id": "utvpuUG-d-h5",
    "outputId": "e9309247-714a-4bef-a619-6592e69a424f"
   },
   "outputs": [
    {
     "data": {
      "text/plain": [
       "SVC(C=1.0, cache_size=200, class_weight=None, coef0=0.0,\n",
       "  decision_function_shape='ovr', degree=3, gamma=0.001, kernel='sigmoid',\n",
       "  max_iter=-1, probability=False, random_state=None, shrinking=True,\n",
       "  tol=0.001, verbose=False)"
      ]
     },
     "execution_count": 12,
     "metadata": {},
     "output_type": "execute_result"
    }
   ],
   "source": [
    "#SVM Sigmoid Kernel\n",
    "svclassifier_sig = SVC(kernel='sigmoid',gamma=0.001,C=C)\n",
    "svclassifier_sig.fit(X_train, y_train)"
   ]
  },
  {
   "cell_type": "code",
   "execution_count": 13,
   "metadata": {},
   "outputs": [
    {
     "name": "stdout",
     "output_type": "stream",
     "text": [
      "\u001b[1mSVM (Sigmoid Kernel) Training Data - Model Evaluation\u001b[0;0m\n",
      "\n",
      "SVM (Sigmoid Kernel) Training Accuracy is: 73.40\n",
      "\u001b[1m\n",
      "\t\t Confusion Matrix\u001b[0;0m\n"
     ]
    },
    {
     "data": {
      "text/html": [
       "<div>\n",
       "<style scoped>\n",
       "    .dataframe tbody tr th:only-of-type {\n",
       "        vertical-align: middle;\n",
       "    }\n",
       "\n",
       "    .dataframe tbody tr th {\n",
       "        vertical-align: top;\n",
       "    }\n",
       "\n",
       "    .dataframe thead th {\n",
       "        text-align: right;\n",
       "    }\n",
       "</style>\n",
       "<table border=\"1\" class=\"dataframe\">\n",
       "  <thead>\n",
       "    <tr style=\"text-align: right;\">\n",
       "      <th></th>\n",
       "      <th>Energy Not Consumed</th>\n",
       "      <th>Energy Consumed</th>\n",
       "    </tr>\n",
       "  </thead>\n",
       "  <tbody>\n",
       "    <tr>\n",
       "      <th>Energy Not Consumed</th>\n",
       "      <td>11588</td>\n",
       "      <td>0</td>\n",
       "    </tr>\n",
       "    <tr>\n",
       "      <th>Energy Consumed</th>\n",
       "      <td>4200</td>\n",
       "      <td>0</td>\n",
       "    </tr>\n",
       "  </tbody>\n",
       "</table>\n",
       "</div>"
      ],
      "text/plain": [
       "                     Energy Not Consumed  Energy Consumed\n",
       "Energy Not Consumed                11588                0\n",
       "Energy Consumed                     4200                0"
      ]
     },
     "metadata": {},
     "output_type": "display_data"
    },
    {
     "name": "stdout",
     "output_type": "stream",
     "text": [
      "\u001b[1m\n",
      "\t\t Classification Report\n",
      "\u001b[0;0m\n",
      "              precision    recall  f1-score   support\n",
      "\n",
      "           0       0.73      1.00      0.85     11588\n",
      "           1       0.00      0.00      0.00      4200\n",
      "\n",
      "   micro avg       0.73      0.73      0.73     15788\n",
      "   macro avg       0.37      0.50      0.42     15788\n",
      "weighted avg       0.54      0.73      0.62     15788\n",
      "\n",
      "\u001b[1m\n",
      "\t\t\tROC Curve\n",
      "\u001b[0;0m\n"
     ]
    },
    {
     "name": "stderr",
     "output_type": "stream",
     "text": [
      "C:\\Users\\sudha\\Anaconda3\\lib\\site-packages\\sklearn\\metrics\\classification.py:1143: UndefinedMetricWarning: Precision and F-score are ill-defined and being set to 0.0 in labels with no predicted samples.\n",
      "  'precision', 'predicted', average, warn_for)\n"
     ]
    },
    {
     "data": {
      "image/png": "[encoded data removed]",
      "text/plain": [
       "<Figure size 432x288 with 1 Axes>"
      ]
     },
     "metadata": {
      "needs_background": "light"
     },
     "output_type": "display_data"
    }
   ],
   "source": [
    "Model_Evaluation(svclassifier_sig,X_train,y_train,label=\"SVM (Sigmoid Kernel) Train\",class0='Energy Not Consumed',class1='Energy Consumed')"
   ]
  },
  {
   "cell_type": "code",
   "execution_count": 14,
   "metadata": {},
   "outputs": [
    {
     "name": "stdout",
     "output_type": "stream",
     "text": [
      "\u001b[1mSVM (Sigmoid Kernel) Testing Data - Model Evaluation\u001b[0;0m\n",
      "\n",
      "SVM (Sigmoid Kernel) Testing Accuracy is: 74.39\n",
      "\u001b[1m\n",
      "\t\t Confusion Matrix\u001b[0;0m\n"
     ]
    },
    {
     "data": {
      "text/html": [
       "<div>\n",
       "<style scoped>\n",
       "    .dataframe tbody tr th:only-of-type {\n",
       "        vertical-align: middle;\n",
       "    }\n",
       "\n",
       "    .dataframe tbody tr th {\n",
       "        vertical-align: top;\n",
       "    }\n",
       "\n",
       "    .dataframe thead th {\n",
       "        text-align: right;\n",
       "    }\n",
       "</style>\n",
       "<table border=\"1\" class=\"dataframe\">\n",
       "  <thead>\n",
       "    <tr style=\"text-align: right;\">\n",
       "      <th></th>\n",
       "      <th>Energy Not Consumed</th>\n",
       "      <th>Energy Consumed</th>\n",
       "    </tr>\n",
       "  </thead>\n",
       "  <tbody>\n",
       "    <tr>\n",
       "      <th>Energy Not Consumed</th>\n",
       "      <td>2936</td>\n",
       "      <td>0</td>\n",
       "    </tr>\n",
       "    <tr>\n",
       "      <th>Energy Consumed</th>\n",
       "      <td>1011</td>\n",
       "      <td>0</td>\n",
       "    </tr>\n",
       "  </tbody>\n",
       "</table>\n",
       "</div>"
      ],
      "text/plain": [
       "                     Energy Not Consumed  Energy Consumed\n",
       "Energy Not Consumed                 2936                0\n",
       "Energy Consumed                     1011                0"
      ]
     },
     "metadata": {},
     "output_type": "display_data"
    },
    {
     "name": "stdout",
     "output_type": "stream",
     "text": [
      "\u001b[1m\n",
      "\t\t Classification Report\n",
      "\u001b[0;0m\n",
      "              precision    recall  f1-score   support\n",
      "\n",
      "           0       0.74      1.00      0.85      2936\n",
      "           1       0.00      0.00      0.00      1011\n",
      "\n",
      "   micro avg       0.74      0.74      0.74      3947\n",
      "   macro avg       0.37      0.50      0.43      3947\n",
      "weighted avg       0.55      0.74      0.63      3947\n",
      "\n",
      "\u001b[1m\n",
      "\t\t\tROC Curve\n",
      "\u001b[0;0m\n"
     ]
    },
    {
     "name": "stderr",
     "output_type": "stream",
     "text": [
      "C:\\Users\\sudha\\Anaconda3\\lib\\site-packages\\sklearn\\metrics\\classification.py:1143: UndefinedMetricWarning: Precision and F-score are ill-defined and being set to 0.0 in labels with no predicted samples.\n",
      "  'precision', 'predicted', average, warn_for)\n"
     ]
    },
    {
     "data": {
      "image/png": "[encoded data removed]",
      "text/plain": [
       "<Figure size 432x288 with 1 Axes>"
      ]
     },
     "metadata": {
      "needs_background": "light"
     },
     "output_type": "display_data"
    }
   ],
   "source": [
    "Model_Evaluation(svclassifier_sig,X_test,y_test,label=\"SVM (Sigmoid Kernel) Test\",class0='Energy Not Consumed',class1='Energy Consumed')"
   ]
  },
  {
   "cell_type": "code",
   "execution_count": 15,
   "metadata": {
    "colab": {
     "base_uri": "https://localhost:8080/",
     "height": 278
    },
    "colab_type": "code",
    "id": "YnGz9y_l5Eza",
    "outputId": "f7fe18da-af03-4e94-da8b-297980ea4e67"
   },
   "outputs": [
    {
     "name": "stderr",
     "output_type": "stream",
     "text": [
      "C:\\Users\\sudha\\Anaconda3\\lib\\site-packages\\sklearn\\model_selection\\_split.py:2053: FutureWarning: You should specify a value for 'cv' instead of relying on the default value. The default value will change from 3 to 5 in version 0.22.\n",
      "  warnings.warn(CV_WARNING, FutureWarning)\n"
     ]
    },
    {
     "data": {
      "text/plain": [
       "GridSearchCV(cv='warn', error_score='raise-deprecating',\n",
       "       estimator=SVC(C=1.0, cache_size=200, class_weight=None, coef0=0.0,\n",
       "  decision_function_shape='ovr', degree=3, gamma='auto_deprecated',\n",
       "  kernel='rbf', max_iter=-1, probability=False, random_state=None,\n",
       "  shrinking=True, tol=0.001, verbose=False),\n",
       "       fit_params=None, iid='warn', n_jobs=None,\n",
       "       param_grid=[{'C': [1, 10, 100, 1000], 'kernel': ['linear']}, {'C': [1, 10, 100, 1000], 'gamma': [0.001, 0.0001], 'kernel': ['rbf']}],\n",
       "       pre_dispatch='2*n_jobs', refit=True, return_train_score='warn',\n",
       "       scoring=None, verbose=0)"
      ]
     },
     "execution_count": 15,
     "metadata": {},
     "output_type": "execute_result"
    }
   ],
   "source": [
    "#Cross Validated SVM\n",
    "param_grid = [\n",
    "  {'C': [1, 10, 100, 1000], 'kernel': ['linear']},\n",
    "  {'C': [1, 10, 100, 1000], 'gamma': [0.001, 0.0001], 'kernel': ['rbf']},\n",
    " ]\n",
    "svclassifier_grid = SVC()\n",
    "\n",
    "grid_svm = GridSearchCV(svclassifier_grid, param_grid)\n",
    "grid_svm.fit(X_train, y_train)"
   ]
  },
  {
   "cell_type": "code",
   "execution_count": 16,
   "metadata": {
    "colab": {
     "base_uri": "https://localhost:8080/",
     "height": 34
    },
    "colab_type": "code",
    "id": "JVGZU3bP6E8F",
    "outputId": "aa8801d3-216d-4581-a3b2-0ef554998c51"
   },
   "outputs": [
    {
     "name": "stdout",
     "output_type": "stream",
     "text": [
      "Best score for SVM: {'C': 1000, 'gamma': 0.0001, 'kernel': 'rbf'}\n"
     ]
    }
   ],
   "source": [
    "print('Best score for SVM:', grid_svm.best_params_) "
   ]
  },
  {
   "cell_type": "code",
   "execution_count": 17,
   "metadata": {
    "colab": {
     "base_uri": "https://localhost:8080/",
     "height": 34
    },
    "colab_type": "code",
    "id": "23qjZrv0_RCk",
    "outputId": "54ba79de-e928-4ef6-a248-d75c75c2a4e5"
   },
   "outputs": [
    {
     "name": "stdout",
     "output_type": "stream",
     "text": [
      "\u001b[1mSVM (Grid Search) Training Data - Model Evaluation\u001b[0;0m\n",
      "\n",
      "SVM (Grid Search) Training Accuracy is: 87.28\n",
      "\u001b[1m\n",
      "\t\t Confusion Matrix\u001b[0;0m\n"
     ]
    },
    {
     "data": {
      "text/html": [
       "<div>\n",
       "<style scoped>\n",
       "    .dataframe tbody tr th:only-of-type {\n",
       "        vertical-align: middle;\n",
       "    }\n",
       "\n",
       "    .dataframe tbody tr th {\n",
       "        vertical-align: top;\n",
       "    }\n",
       "\n",
       "    .dataframe thead th {\n",
       "        text-align: right;\n",
       "    }\n",
       "</style>\n",
       "<table border=\"1\" class=\"dataframe\">\n",
       "  <thead>\n",
       "    <tr style=\"text-align: right;\">\n",
       "      <th></th>\n",
       "      <th>Energy Not Consumed</th>\n",
       "      <th>Energy Consumed</th>\n",
       "    </tr>\n",
       "  </thead>\n",
       "  <tbody>\n",
       "    <tr>\n",
       "      <th>Energy Not Consumed</th>\n",
       "      <td>10993</td>\n",
       "      <td>595</td>\n",
       "    </tr>\n",
       "    <tr>\n",
       "      <th>Energy Consumed</th>\n",
       "      <td>1413</td>\n",
       "      <td>2787</td>\n",
       "    </tr>\n",
       "  </tbody>\n",
       "</table>\n",
       "</div>"
      ],
      "text/plain": [
       "                     Energy Not Consumed  Energy Consumed\n",
       "Energy Not Consumed                10993              595\n",
       "Energy Consumed                     1413             2787"
      ]
     },
     "metadata": {},
     "output_type": "display_data"
    },
    {
     "name": "stdout",
     "output_type": "stream",
     "text": [
      "\u001b[1m\n",
      "\t\t Classification Report\n",
      "\u001b[0;0m\n",
      "              precision    recall  f1-score   support\n",
      "\n",
      "           0       0.89      0.95      0.92     11588\n",
      "           1       0.82      0.66      0.74      4200\n",
      "\n",
      "   micro avg       0.87      0.87      0.87     15788\n",
      "   macro avg       0.86      0.81      0.83     15788\n",
      "weighted avg       0.87      0.87      0.87     15788\n",
      "\n",
      "\u001b[1m\n",
      "\t\t\tROC Curve\n",
      "\u001b[0;0m\n"
     ]
    },
    {
     "data": {
      "image/png": "[encoded data removed]",
      "text/plain": [
       "<Figure size 432x288 with 1 Axes>"
      ]
     },
     "metadata": {
      "needs_background": "light"
     },
     "output_type": "display_data"
    }
   ],
   "source": [
    "Model_Evaluation(grid_svm,X_train,y_train,label=\"SVM (Grid Search) Train\",class0='Energy Not Consumed',class1='Energy Consumed')"
   ]
  },
  {
   "cell_type": "code",
   "execution_count": 18,
   "metadata": {},
   "outputs": [
    {
     "name": "stdout",
     "output_type": "stream",
     "text": [
      "\u001b[1mSVM (Grid Search) Testing Data - Model Evaluation\u001b[0;0m\n",
      "\n",
      "SVM (Grid Search) Testing Accuracy is: 86.04\n",
      "\u001b[1m\n",
      "\t\t Confusion Matrix\u001b[0;0m\n"
     ]
    },
    {
     "data": {
      "text/html": [
       "<div>\n",
       "<style scoped>\n",
       "    .dataframe tbody tr th:only-of-type {\n",
       "        vertical-align: middle;\n",
       "    }\n",
       "\n",
       "    .dataframe tbody tr th {\n",
       "        vertical-align: top;\n",
       "    }\n",
       "\n",
       "    .dataframe thead th {\n",
       "        text-align: right;\n",
       "    }\n",
       "</style>\n",
       "<table border=\"1\" class=\"dataframe\">\n",
       "  <thead>\n",
       "    <tr style=\"text-align: right;\">\n",
       "      <th></th>\n",
       "      <th>Energy Not Consumed</th>\n",
       "      <th>Energy Consumed</th>\n",
       "    </tr>\n",
       "  </thead>\n",
       "  <tbody>\n",
       "    <tr>\n",
       "      <th>Energy Not Consumed</th>\n",
       "      <td>2751</td>\n",
       "      <td>185</td>\n",
       "    </tr>\n",
       "    <tr>\n",
       "      <th>Energy Consumed</th>\n",
       "      <td>366</td>\n",
       "      <td>645</td>\n",
       "    </tr>\n",
       "  </tbody>\n",
       "</table>\n",
       "</div>"
      ],
      "text/plain": [
       "                     Energy Not Consumed  Energy Consumed\n",
       "Energy Not Consumed                 2751              185\n",
       "Energy Consumed                      366              645"
      ]
     },
     "metadata": {},
     "output_type": "display_data"
    },
    {
     "name": "stdout",
     "output_type": "stream",
     "text": [
      "\u001b[1m\n",
      "\t\t Classification Report\n",
      "\u001b[0;0m\n",
      "              precision    recall  f1-score   support\n",
      "\n",
      "           0       0.88      0.94      0.91      2936\n",
      "           1       0.78      0.64      0.70      1011\n",
      "\n",
      "   micro avg       0.86      0.86      0.86      3947\n",
      "   macro avg       0.83      0.79      0.80      3947\n",
      "weighted avg       0.86      0.86      0.86      3947\n",
      "\n",
      "\u001b[1m\n",
      "\t\t\tROC Curve\n",
      "\u001b[0;0m\n"
     ]
    },
    {
     "data": {
      "image/png": "[encoded data removed]",
      "text/plain": [
       "<Figure size 432x288 with 1 Axes>"
      ]
     },
     "metadata": {
      "needs_background": "light"
     },
     "output_type": "display_data"
    }
   ],
   "source": [
    "Model_Evaluation(grid_svm,X_test,y_test,label=\"SVM (Grid Search) Test\",class0='Energy Not Consumed',class1='Energy Consumed')"
   ]
  },
  {
   "cell_type": "code",
   "execution_count": 20,
   "metadata": {
    "scrolled": true
   },
   "outputs": [
    {
     "name": "stdout",
     "output_type": "stream",
     "text": [
      "[0.85316456 0.84556962 0.83670886 0.8556962  0.85189873 0.85443038\n",
      " 0.84303797 0.84556962 0.84917617 0.83776933 0.85931559 0.83396705\n",
      " 0.85171103 0.85931559 0.85678074 0.85297845 0.85171103 0.84790875\n",
      " 0.86692015 0.84157161]\n",
      "Accuracy of Model with Cross Validation is: 84.97600712326128\n"
     ]
    }
   ],
   "source": [
    "from sklearn.model_selection import cross_val_score\n",
    "\n",
    "svc_cross = SVC(C= 1000, gamma= 0.0001, kernel= 'rbf')\n",
    "\n",
    "accuracy = cross_val_score(svc_cross, X_train, y_train, scoring='accuracy', cv = 20)\n",
    "print(accuracy)\n",
    "#get the mean of each fold \n",
    "print(\"Accuracy of Model with Cross Validation is:\",accuracy.mean() * 100)"
   ]
  },
  {
   "cell_type": "markdown",
   "metadata": {
    "colab_type": "text",
    "id": "dq1u_7DBaMVo"
   },
   "source": [
    "## **Decision Trees**"
   ]
  },
  {
   "cell_type": "code",
   "execution_count": 24,
   "metadata": {
    "colab": {
     "base_uri": "https://localhost:8080/",
     "height": 120
    },
    "colab_type": "code",
    "id": "ozHUNQrDeeDZ",
    "outputId": "1ad39a20-6c44-4a97-ad29-6a9fdf7c3659"
   },
   "outputs": [
    {
     "data": {
      "text/plain": [
       "DecisionTreeClassifier(class_weight=None, criterion='gini', max_depth=3,\n",
       "            max_features=None, max_leaf_nodes=None,\n",
       "            min_impurity_decrease=0.0, min_impurity_split=None,\n",
       "            min_samples_leaf=5, min_samples_split=2,\n",
       "            min_weight_fraction_leaf=0.0, presort=False, random_state=100,\n",
       "            splitter='best')"
      ]
     },
     "execution_count": 24,
     "metadata": {},
     "output_type": "execute_result"
    }
   ],
   "source": [
    "#Decision Tree with GINI Index\n",
    "tree_model = DecisionTreeClassifier(criterion = \"gini\", random_state = 100,\n",
    "                               max_depth=3, min_samples_leaf=5)\n",
    "tree_model.fit(X_train, y_train)"
   ]
  },
  {
   "cell_type": "code",
   "execution_count": 35,
   "metadata": {
    "colab": {
     "base_uri": "https://localhost:8080/",
     "height": 34
    },
    "colab_type": "code",
    "id": "1Itx_UhSeW_C",
    "outputId": "691633a7-2567-4bd9-9cf6-49c8a97f180f"
   },
   "outputs": [
    {
     "name": "stdout",
     "output_type": "stream",
     "text": [
      "\u001b[1mDecision Tree (Gini Index) Training Data - Model Evaluation\u001b[0;0m\n",
      "\n",
      "Decision Tree (Gini Index) Training Accuracy is: 74.66\n",
      "\u001b[1m\n",
      "\t\t Confusion Matrix\u001b[0;0m\n"
     ]
    },
    {
     "data": {
      "text/html": [
       "<div>\n",
       "<style scoped>\n",
       "    .dataframe tbody tr th:only-of-type {\n",
       "        vertical-align: middle;\n",
       "    }\n",
       "\n",
       "    .dataframe tbody tr th {\n",
       "        vertical-align: top;\n",
       "    }\n",
       "\n",
       "    .dataframe thead th {\n",
       "        text-align: right;\n",
       "    }\n",
       "</style>\n",
       "<table border=\"1\" class=\"dataframe\">\n",
       "  <thead>\n",
       "    <tr style=\"text-align: right;\">\n",
       "      <th></th>\n",
       "      <th>Energy Not Consumed</th>\n",
       "      <th>Energy Consumed</th>\n",
       "    </tr>\n",
       "  </thead>\n",
       "  <tbody>\n",
       "    <tr>\n",
       "      <th>Energy Not Consumed</th>\n",
       "      <td>11218</td>\n",
       "      <td>370</td>\n",
       "    </tr>\n",
       "    <tr>\n",
       "      <th>Energy Consumed</th>\n",
       "      <td>3630</td>\n",
       "      <td>570</td>\n",
       "    </tr>\n",
       "  </tbody>\n",
       "</table>\n",
       "</div>"
      ],
      "text/plain": [
       "                     Energy Not Consumed  Energy Consumed\n",
       "Energy Not Consumed                11218              370\n",
       "Energy Consumed                     3630              570"
      ]
     },
     "metadata": {},
     "output_type": "display_data"
    },
    {
     "name": "stdout",
     "output_type": "stream",
     "text": [
      "\u001b[1m\n",
      "\t\t Classification Report\n",
      "\u001b[0;0m\n",
      "              precision    recall  f1-score   support\n",
      "\n",
      "           0       0.76      0.97      0.85     11588\n",
      "           1       0.61      0.14      0.22      4200\n",
      "\n",
      "   micro avg       0.75      0.75      0.75     15788\n",
      "   macro avg       0.68      0.55      0.54     15788\n",
      "weighted avg       0.72      0.75      0.68     15788\n",
      "\n",
      "\u001b[1m\n",
      "\t\t\tROC Curve\n",
      "\u001b[0;0m\n"
     ]
    },
    {
     "data": {
      "image/png": "[encoded data removed]",
      "text/plain": [
       "<Figure size 432x288 with 1 Axes>"
      ]
     },
     "metadata": {
      "needs_background": "light"
     },
     "output_type": "display_data"
    }
   ],
   "source": [
    "Model_Evaluation(tree_model,X_train,y_train,label=\"Decision Tree (Gini Index) Train\",class0='Energy Not Consumed',class1='Energy Consumed')"
   ]
  },
  {
   "cell_type": "code",
   "execution_count": 36,
   "metadata": {},
   "outputs": [
    {
     "name": "stdout",
     "output_type": "stream",
     "text": [
      "\u001b[1mDecision Tree (Gini Index) Testing Data - Model Evaluation\u001b[0;0m\n",
      "\n",
      "Decision Tree (Gini Index) Testing Accuracy is: 75.42\n",
      "\u001b[1m\n",
      "\t\t Confusion Matrix\u001b[0;0m\n"
     ]
    },
    {
     "data": {
      "text/html": [
       "<div>\n",
       "<style scoped>\n",
       "    .dataframe tbody tr th:only-of-type {\n",
       "        vertical-align: middle;\n",
       "    }\n",
       "\n",
       "    .dataframe tbody tr th {\n",
       "        vertical-align: top;\n",
       "    }\n",
       "\n",
       "    .dataframe thead th {\n",
       "        text-align: right;\n",
       "    }\n",
       "</style>\n",
       "<table border=\"1\" class=\"dataframe\">\n",
       "  <thead>\n",
       "    <tr style=\"text-align: right;\">\n",
       "      <th></th>\n",
       "      <th>Energy Not Consumed</th>\n",
       "      <th>Energy Consumed</th>\n",
       "    </tr>\n",
       "  </thead>\n",
       "  <tbody>\n",
       "    <tr>\n",
       "      <th>Energy Not Consumed</th>\n",
       "      <td>2832</td>\n",
       "      <td>104</td>\n",
       "    </tr>\n",
       "    <tr>\n",
       "      <th>Energy Consumed</th>\n",
       "      <td>866</td>\n",
       "      <td>145</td>\n",
       "    </tr>\n",
       "  </tbody>\n",
       "</table>\n",
       "</div>"
      ],
      "text/plain": [
       "                     Energy Not Consumed  Energy Consumed\n",
       "Energy Not Consumed                 2832              104\n",
       "Energy Consumed                      866              145"
      ]
     },
     "metadata": {},
     "output_type": "display_data"
    },
    {
     "name": "stdout",
     "output_type": "stream",
     "text": [
      "\u001b[1m\n",
      "\t\t Classification Report\n",
      "\u001b[0;0m\n",
      "              precision    recall  f1-score   support\n",
      "\n",
      "           0       0.77      0.96      0.85      2936\n",
      "           1       0.58      0.14      0.23      1011\n",
      "\n",
      "   micro avg       0.75      0.75      0.75      3947\n",
      "   macro avg       0.67      0.55      0.54      3947\n",
      "weighted avg       0.72      0.75      0.69      3947\n",
      "\n",
      "\u001b[1m\n",
      "\t\t\tROC Curve\n",
      "\u001b[0;0m\n"
     ]
    },
    {
     "data": {
      "image/png": "[encoded data removed]",
      "text/plain": [
       "<Figure size 432x288 with 1 Axes>"
      ]
     },
     "metadata": {
      "needs_background": "light"
     },
     "output_type": "display_data"
    }
   ],
   "source": [
    "Model_Evaluation(tree_model,X_test,y_test,label=\"Decision Tree (Gini Index) Test\",class0='Energy Not Consumed',class1='Energy Consumed')"
   ]
  },
  {
   "cell_type": "code",
   "execution_count": 39,
   "metadata": {
    "colab": {
     "base_uri": "https://localhost:8080/",
     "height": 120
    },
    "colab_type": "code",
    "id": "dBnCgp_4a7z3",
    "outputId": "04078474-c08a-401e-8a35-4711023c0290"
   },
   "outputs": [
    {
     "data": {
      "text/plain": [
       "DecisionTreeClassifier(class_weight=None, criterion='entropy', max_depth=None,\n",
       "            max_features=None, max_leaf_nodes=None,\n",
       "            min_impurity_decrease=0.0, min_impurity_split=None,\n",
       "            min_samples_leaf=5, min_samples_split=2,\n",
       "            min_weight_fraction_leaf=0.0, presort=False, random_state=100,\n",
       "            splitter='best')"
      ]
     },
     "execution_count": 39,
     "metadata": {},
     "output_type": "execute_result"
    }
   ],
   "source": [
    "#Decision Tree with Information\n",
    "clf_entropy = DecisionTreeClassifier(criterion = \"entropy\", random_state = 100, min_samples_leaf=5)\n",
    "clf_entropy.fit(X_train, y_train)"
   ]
  },
  {
   "cell_type": "code",
   "execution_count": 40,
   "metadata": {},
   "outputs": [
    {
     "name": "stdout",
     "output_type": "stream",
     "text": [
      "\u001b[1mDecision Tree (Entropy) Training Data - Model Evaluation\u001b[0;0m\n",
      "\n",
      "Decision Tree (Entropy) Training Accuracy is: 95.50\n",
      "\u001b[1m\n",
      "\t\t Confusion Matrix\u001b[0;0m\n"
     ]
    },
    {
     "data": {
      "text/html": [
       "<div>\n",
       "<style scoped>\n",
       "    .dataframe tbody tr th:only-of-type {\n",
       "        vertical-align: middle;\n",
       "    }\n",
       "\n",
       "    .dataframe tbody tr th {\n",
       "        vertical-align: top;\n",
       "    }\n",
       "\n",
       "    .dataframe thead th {\n",
       "        text-align: right;\n",
       "    }\n",
       "</style>\n",
       "<table border=\"1\" class=\"dataframe\">\n",
       "  <thead>\n",
       "    <tr style=\"text-align: right;\">\n",
       "      <th></th>\n",
       "      <th>Energy Not Consumed</th>\n",
       "      <th>Energy Consumed</th>\n",
       "    </tr>\n",
       "  </thead>\n",
       "  <tbody>\n",
       "    <tr>\n",
       "      <th>Energy Not Consumed</th>\n",
       "      <td>11290</td>\n",
       "      <td>298</td>\n",
       "    </tr>\n",
       "    <tr>\n",
       "      <th>Energy Consumed</th>\n",
       "      <td>412</td>\n",
       "      <td>3788</td>\n",
       "    </tr>\n",
       "  </tbody>\n",
       "</table>\n",
       "</div>"
      ],
      "text/plain": [
       "                     Energy Not Consumed  Energy Consumed\n",
       "Energy Not Consumed                11290              298\n",
       "Energy Consumed                      412             3788"
      ]
     },
     "metadata": {},
     "output_type": "display_data"
    },
    {
     "name": "stdout",
     "output_type": "stream",
     "text": [
      "\u001b[1m\n",
      "\t\t Classification Report\n",
      "\u001b[0;0m\n",
      "              precision    recall  f1-score   support\n",
      "\n",
      "           0       0.96      0.97      0.97     11588\n",
      "           1       0.93      0.90      0.91      4200\n",
      "\n",
      "   micro avg       0.96      0.96      0.96     15788\n",
      "   macro avg       0.95      0.94      0.94     15788\n",
      "weighted avg       0.95      0.96      0.95     15788\n",
      "\n",
      "\u001b[1m\n",
      "\t\t\tROC Curve\n",
      "\u001b[0;0m\n"
     ]
    },
    {
     "data": {
      "image/png": "[encoded data removed]",
      "text/plain": [
       "<Figure size 432x288 with 1 Axes>"
      ]
     },
     "metadata": {
      "needs_background": "light"
     },
     "output_type": "display_data"
    }
   ],
   "source": [
    "Model_Evaluation(clf_entropy,X_train,y_train,label=\"Decision Model_Evaluation(clf_entropy4,X_train,y_train,label=\"Decision Tree (Max Depth=4) Train\",class0='Energy Not Consumed',class1='Energy Consumed')Tree (Entropy) Train\",class0='Energy Not Consumed',class1='Energy Consumed')"
   ]
  },
  {
   "cell_type": "code",
   "execution_count": 41,
   "metadata": {},
   "outputs": [
    {
     "name": "stdout",
     "output_type": "stream",
     "text": [
      "\u001b[1mDecision Tree (Entropy) Testing Data - Model Evaluation\u001b[0;0m\n",
      "\n",
      "Decision Tree (Entropy) Testing Accuracy is: 86.07\n",
      "\u001b[1m\n",
      "\t\t Confusion Matrix\u001b[0;0m\n"
     ]
    },
    {
     "data": {
      "text/html": [
       "<div>\n",
       "<style scoped>\n",
       "    .dataframe tbody tr th:only-of-type {\n",
       "        vertical-align: middle;\n",
       "    }\n",
       "\n",
       "    .dataframe tbody tr th {\n",
       "        vertical-align: top;\n",
       "    }\n",
       "\n",
       "    .dataframe thead th {\n",
       "        text-align: right;\n",
       "    }\n",
       "</style>\n",
       "<table border=\"1\" class=\"dataframe\">\n",
       "  <thead>\n",
       "    <tr style=\"text-align: right;\">\n",
       "      <th></th>\n",
       "      <th>Energy Not Consumed</th>\n",
       "      <th>Energy Consumed</th>\n",
       "    </tr>\n",
       "  </thead>\n",
       "  <tbody>\n",
       "    <tr>\n",
       "      <th>Energy Not Consumed</th>\n",
       "      <td>2679</td>\n",
       "      <td>257</td>\n",
       "    </tr>\n",
       "    <tr>\n",
       "      <th>Energy Consumed</th>\n",
       "      <td>293</td>\n",
       "      <td>718</td>\n",
       "    </tr>\n",
       "  </tbody>\n",
       "</table>\n",
       "</div>"
      ],
      "text/plain": [
       "                     Energy Not Consumed  Energy Consumed\n",
       "Energy Not Consumed                 2679              257\n",
       "Energy Consumed                      293              718"
      ]
     },
     "metadata": {},
     "output_type": "display_data"
    },
    {
     "name": "stdout",
     "output_type": "stream",
     "text": [
      "\u001b[1m\n",
      "\t\t Classification Report\n",
      "\u001b[0;0m\n",
      "              precision    recall  f1-score   support\n",
      "\n",
      "           0       0.90      0.91      0.91      2936\n",
      "           1       0.74      0.71      0.72      1011\n",
      "\n",
      "   micro avg       0.86      0.86      0.86      3947\n",
      "   macro avg       0.82      0.81      0.81      3947\n",
      "weighted avg       0.86      0.86      0.86      3947\n",
      "\n",
      "\u001b[1m\n",
      "\t\t\tROC Curve\n",
      "\u001b[0;0m\n"
     ]
    },
    {
     "data": {
      "image/png": "[encoded data removed]",
      "text/plain": [
       "<Figure size 432x288 with 1 Axes>"
      ]
     },
     "metadata": {
      "needs_background": "light"
     },
     "output_type": "display_data"
    }
   ],
   "source": [
    "Model_Evaluation(clf_entropy,X_test,y_test,label=\"Decision Tree (Entropy) Test\",class0='Energy Not Consumed',class1='Energy Consumed')"
   ]
  },
  {
   "cell_type": "code",
   "execution_count": 42,
   "metadata": {
    "colab": {
     "base_uri": "https://localhost:8080/",
     "height": 120
    },
    "colab_type": "code",
    "id": "BhTwBstoezls",
    "outputId": "d66f03b2-6d68-4f4e-964e-65e803c01bb1"
   },
   "outputs": [
    {
     "data": {
      "text/plain": [
       "DecisionTreeClassifier(class_weight=None, criterion='entropy', max_depth=4,\n",
       "            max_features=None, max_leaf_nodes=None,\n",
       "            min_impurity_decrease=0.0, min_impurity_split=None,\n",
       "            min_samples_leaf=5, min_samples_split=2,\n",
       "            min_weight_fraction_leaf=0.0, presort=False, random_state=100,\n",
       "            splitter='best')"
      ]
     },
     "execution_count": 42,
     "metadata": {},
     "output_type": "execute_result"
    }
   ],
   "source": [
    "#Decision Tree with Information\n",
    "clf_entropy4 = DecisionTreeClassifier(criterion = \"entropy\", random_state = 100,\n",
    " max_depth=4, min_samples_leaf=5)\n",
    "clf_entropy4.fit(X_train, y_train)"
   ]
  },
  {
   "cell_type": "code",
   "execution_count": 43,
   "metadata": {
    "colab": {
     "base_uri": "https://localhost:8080/",
     "height": 34
    },
    "colab_type": "code",
    "id": "s-vdERoVfdAN",
    "outputId": "96a033a0-8cc4-449f-c100-cca074b2fb47"
   },
   "outputs": [
    {
     "name": "stdout",
     "output_type": "stream",
     "text": [
      "\u001b[1mDecision Tree (Max Depth=4) Training Data - Model Evaluation\u001b[0;0m\n",
      "\n",
      "Decision Tree (Max Depth=4) Training Accuracy is: 77.03\n",
      "\u001b[1m\n",
      "\t\t Confusion Matrix\u001b[0;0m\n"
     ]
    },
    {
     "data": {
      "text/html": [
       "<div>\n",
       "<style scoped>\n",
       "    .dataframe tbody tr th:only-of-type {\n",
       "        vertical-align: middle;\n",
       "    }\n",
       "\n",
       "    .dataframe tbody tr th {\n",
       "        vertical-align: top;\n",
       "    }\n",
       "\n",
       "    .dataframe thead th {\n",
       "        text-align: right;\n",
       "    }\n",
       "</style>\n",
       "<table border=\"1\" class=\"dataframe\">\n",
       "  <thead>\n",
       "    <tr style=\"text-align: right;\">\n",
       "      <th></th>\n",
       "      <th>Energy Not Consumed</th>\n",
       "      <th>Energy Consumed</th>\n",
       "    </tr>\n",
       "  </thead>\n",
       "  <tbody>\n",
       "    <tr>\n",
       "      <th>Energy Not Consumed</th>\n",
       "      <td>10994</td>\n",
       "      <td>594</td>\n",
       "    </tr>\n",
       "    <tr>\n",
       "      <th>Energy Consumed</th>\n",
       "      <td>3033</td>\n",
       "      <td>1167</td>\n",
       "    </tr>\n",
       "  </tbody>\n",
       "</table>\n",
       "</div>"
      ],
      "text/plain": [
       "                     Energy Not Consumed  Energy Consumed\n",
       "Energy Not Consumed                10994              594\n",
       "Energy Consumed                     3033             1167"
      ]
     },
     "metadata": {},
     "output_type": "display_data"
    },
    {
     "name": "stdout",
     "output_type": "stream",
     "text": [
      "\u001b[1m\n",
      "\t\t Classification Report\n",
      "\u001b[0;0m\n",
      "              precision    recall  f1-score   support\n",
      "\n",
      "           0       0.78      0.95      0.86     11588\n",
      "           1       0.66      0.28      0.39      4200\n",
      "\n",
      "   micro avg       0.77      0.77      0.77     15788\n",
      "   macro avg       0.72      0.61      0.62     15788\n",
      "weighted avg       0.75      0.77      0.73     15788\n",
      "\n",
      "\u001b[1m\n",
      "\t\t\tROC Curve\n",
      "\u001b[0;0m\n"
     ]
    },
    {
     "data": {
      "image/png": "[encoded data removed]",
      "text/plain": [
       "<Figure size 432x288 with 1 Axes>"
      ]
     },
     "metadata": {
      "needs_background": "light"
     },
     "output_type": "display_data"
    }
   ],
   "source": [
    "Model_Evaluation(clf_entropy4,X_train,y_train,label=\"Decision Tree (Max Depth=4) Train\",class0='Energy Not Consumed',class1='Energy Consumed')"
   ]
  },
  {
   "cell_type": "code",
   "execution_count": 44,
   "metadata": {},
   "outputs": [
    {
     "name": "stdout",
     "output_type": "stream",
     "text": [
      "\u001b[1mDecision Tree (Max Depth=4) Testing Data - Model Evaluation\u001b[0;0m\n",
      "\n",
      "Decision Tree (Max Depth=4) Testing Accuracy is: 76.41\n",
      "\u001b[1m\n",
      "\t\t Confusion Matrix\u001b[0;0m\n"
     ]
    },
    {
     "data": {
      "text/html": [
       "<div>\n",
       "<style scoped>\n",
       "    .dataframe tbody tr th:only-of-type {\n",
       "        vertical-align: middle;\n",
       "    }\n",
       "\n",
       "    .dataframe tbody tr th {\n",
       "        vertical-align: top;\n",
       "    }\n",
       "\n",
       "    .dataframe thead th {\n",
       "        text-align: right;\n",
       "    }\n",
       "</style>\n",
       "<table border=\"1\" class=\"dataframe\">\n",
       "  <thead>\n",
       "    <tr style=\"text-align: right;\">\n",
       "      <th></th>\n",
       "      <th>Energy Not Consumed</th>\n",
       "      <th>Energy Consumed</th>\n",
       "    </tr>\n",
       "  </thead>\n",
       "  <tbody>\n",
       "    <tr>\n",
       "      <th>Energy Not Consumed</th>\n",
       "      <td>2750</td>\n",
       "      <td>186</td>\n",
       "    </tr>\n",
       "    <tr>\n",
       "      <th>Energy Consumed</th>\n",
       "      <td>745</td>\n",
       "      <td>266</td>\n",
       "    </tr>\n",
       "  </tbody>\n",
       "</table>\n",
       "</div>"
      ],
      "text/plain": [
       "                     Energy Not Consumed  Energy Consumed\n",
       "Energy Not Consumed                 2750              186\n",
       "Energy Consumed                      745              266"
      ]
     },
     "metadata": {},
     "output_type": "display_data"
    },
    {
     "name": "stdout",
     "output_type": "stream",
     "text": [
      "\u001b[1m\n",
      "\t\t Classification Report\n",
      "\u001b[0;0m\n",
      "              precision    recall  f1-score   support\n",
      "\n",
      "           0       0.79      0.94      0.86      2936\n",
      "           1       0.59      0.26      0.36      1011\n",
      "\n",
      "   micro avg       0.76      0.76      0.76      3947\n",
      "   macro avg       0.69      0.60      0.61      3947\n",
      "weighted avg       0.74      0.76      0.73      3947\n",
      "\n",
      "\u001b[1m\n",
      "\t\t\tROC Curve\n",
      "\u001b[0;0m\n"
     ]
    },
    {
     "data": {
      "image/png": "[encoded data removed]",
      "text/plain": [
       "<Figure size 432x288 with 1 Axes>"
      ]
     },
     "metadata": {
      "needs_background": "light"
     },
     "output_type": "display_data"
    }
   ],
   "source": [
    "Model_Evaluation(clf_entropy4,X_test,y_test,label=\"Decision Tree (Max Depth=4) Test\",class0='Energy Not Consumed',class1='Energy Consumed')"
   ]
  },
  {
   "cell_type": "code",
   "execution_count": 49,
   "metadata": {
    "colab": {
     "base_uri": "https://localhost:8080/",
     "height": 275
    },
    "colab_type": "code",
    "id": "u69sWKuUgsZf",
    "outputId": "233781aa-d585-4526-cbab-ef6c6f3bebdf"
   },
   "outputs": [
    {
     "data": {
      "text/plain": [
       "AdaBoostClassifier(algorithm='SAMME.R',\n",
       "          base_estimator=DecisionTreeClassifier(class_weight=None, criterion='entropy', max_depth=4,\n",
       "            max_features=None, max_leaf_nodes=None,\n",
       "            min_impurity_decrease=0.0, min_impurity_split=None,\n",
       "            min_samples_leaf=5, min_samples_split=2,\n",
       "            min_weight_fraction_leaf=0.0, presort=False, random_state=100,\n",
       "            splitter='best'),\n",
       "          learning_rate=1, n_estimators=400, random_state=None)"
      ]
     },
     "execution_count": 49,
     "metadata": {},
     "output_type": "execute_result"
    }
   ],
   "source": [
    "#Ada boost\n",
    "#Decision Tree with Information with Adaboost\n",
    "clf_entropy_no_ada = DecisionTreeClassifier(criterion = \"entropy\", random_state = 100,\n",
    " max_depth=4, min_samples_leaf=5)\n",
    "clf_entropy_no_ada.fit(X_train, y_train)\n",
    "\n",
    "clf_entropy_ada = AdaBoostClassifier(base_estimator= clf_entropy_no_ada,n_estimators=400,learning_rate=1)\n",
    "clf_entropy_ada.fit(X_train, y_train)"
   ]
  },
  {
   "cell_type": "code",
   "execution_count": 50,
   "metadata": {
    "colab": {
     "base_uri": "https://localhost:8080/",
     "height": 34
    },
    "colab_type": "code",
    "id": "h6WSn4RhgWZf",
    "outputId": "518ac2e9-b0c7-4336-d49b-478e0ebac259"
   },
   "outputs": [
    {
     "name": "stdout",
     "output_type": "stream",
     "text": [
      "\u001b[1mAda Boosted Decision Tree Training Data - Model Evaluation\u001b[0;0m\n",
      "\n",
      "Ada Boosted Decision Tree Training Accuracy is: 100.00\n",
      "\u001b[1m\n",
      "\t\t Confusion Matrix\u001b[0;0m\n"
     ]
    },
    {
     "data": {
      "text/html": [
       "<div>\n",
       "<style scoped>\n",
       "    .dataframe tbody tr th:only-of-type {\n",
       "        vertical-align: middle;\n",
       "    }\n",
       "\n",
       "    .dataframe tbody tr th {\n",
       "        vertical-align: top;\n",
       "    }\n",
       "\n",
       "    .dataframe thead th {\n",
       "        text-align: right;\n",
       "    }\n",
       "</style>\n",
       "<table border=\"1\" class=\"dataframe\">\n",
       "  <thead>\n",
       "    <tr style=\"text-align: right;\">\n",
       "      <th></th>\n",
       "      <th>Energy Not Consumed</th>\n",
       "      <th>Energy Consumed</th>\n",
       "    </tr>\n",
       "  </thead>\n",
       "  <tbody>\n",
       "    <tr>\n",
       "      <th>Energy Not Consumed</th>\n",
       "      <td>11588</td>\n",
       "      <td>0</td>\n",
       "    </tr>\n",
       "    <tr>\n",
       "      <th>Energy Consumed</th>\n",
       "      <td>0</td>\n",
       "      <td>4200</td>\n",
       "    </tr>\n",
       "  </tbody>\n",
       "</table>\n",
       "</div>"
      ],
      "text/plain": [
       "                     Energy Not Consumed  Energy Consumed\n",
       "Energy Not Consumed                11588                0\n",
       "Energy Consumed                        0             4200"
      ]
     },
     "metadata": {},
     "output_type": "display_data"
    },
    {
     "name": "stdout",
     "output_type": "stream",
     "text": [
      "\u001b[1m\n",
      "\t\t Classification Report\n",
      "\u001b[0;0m\n",
      "              precision    recall  f1-score   support\n",
      "\n",
      "           0       1.00      1.00      1.00     11588\n",
      "           1       1.00      1.00      1.00      4200\n",
      "\n",
      "   micro avg       1.00      1.00      1.00     15788\n",
      "   macro avg       1.00      1.00      1.00     15788\n",
      "weighted avg       1.00      1.00      1.00     15788\n",
      "\n",
      "\u001b[1m\n",
      "\t\t\tROC Curve\n",
      "\u001b[0;0m\n"
     ]
    },
    {
     "data": {
      "image/png": "[encoded data removed]",
      "text/plain": [
       "<Figure size 432x288 with 1 Axes>"
      ]
     },
     "metadata": {
      "needs_background": "light"
     },
     "output_type": "display_data"
    }
   ],
   "source": [
    "Model_Evaluation(clf_entropy_ada,X_train,y_train,label=\"Ada Boosted Decision Tree Train\",class0='Energy Not Consumed',class1='Energy Consumed')"
   ]
  },
  {
   "cell_type": "code",
   "execution_count": 51,
   "metadata": {
    "colab": {
     "base_uri": "https://localhost:8080/",
     "height": 34
    },
    "colab_type": "code",
    "id": "UuF8d8x3itvu",
    "outputId": "6067734a-2752-47be-c68f-b3bb3d9e93ee"
   },
   "outputs": [
    {
     "name": "stdout",
     "output_type": "stream",
     "text": [
      "\u001b[1mAda Boosted Decision Tree Testing Data - Model Evaluation\u001b[0;0m\n",
      "\n",
      "Ada Boosted Decision Tree Testing Accuracy is: 88.29\n",
      "\u001b[1m\n",
      "\t\t Confusion Matrix\u001b[0;0m\n"
     ]
    },
    {
     "data": {
      "text/html": [
       "<div>\n",
       "<style scoped>\n",
       "    .dataframe tbody tr th:only-of-type {\n",
       "        vertical-align: middle;\n",
       "    }\n",
       "\n",
       "    .dataframe tbody tr th {\n",
       "        vertical-align: top;\n",
       "    }\n",
       "\n",
       "    .dataframe thead th {\n",
       "        text-align: right;\n",
       "    }\n",
       "</style>\n",
       "<table border=\"1\" class=\"dataframe\">\n",
       "  <thead>\n",
       "    <tr style=\"text-align: right;\">\n",
       "      <th></th>\n",
       "      <th>Energy Not Consumed</th>\n",
       "      <th>Energy Consumed</th>\n",
       "    </tr>\n",
       "  </thead>\n",
       "  <tbody>\n",
       "    <tr>\n",
       "      <th>Energy Not Consumed</th>\n",
       "      <td>2738</td>\n",
       "      <td>198</td>\n",
       "    </tr>\n",
       "    <tr>\n",
       "      <th>Energy Consumed</th>\n",
       "      <td>264</td>\n",
       "      <td>747</td>\n",
       "    </tr>\n",
       "  </tbody>\n",
       "</table>\n",
       "</div>"
      ],
      "text/plain": [
       "                     Energy Not Consumed  Energy Consumed\n",
       "Energy Not Consumed                 2738              198\n",
       "Energy Consumed                      264              747"
      ]
     },
     "metadata": {},
     "output_type": "display_data"
    },
    {
     "name": "stdout",
     "output_type": "stream",
     "text": [
      "\u001b[1m\n",
      "\t\t Classification Report\n",
      "\u001b[0;0m\n",
      "              precision    recall  f1-score   support\n",
      "\n",
      "           0       0.91      0.93      0.92      2936\n",
      "           1       0.79      0.74      0.76      1011\n",
      "\n",
      "   micro avg       0.88      0.88      0.88      3947\n",
      "   macro avg       0.85      0.84      0.84      3947\n",
      "weighted avg       0.88      0.88      0.88      3947\n",
      "\n",
      "\u001b[1m\n",
      "\t\t\tROC Curve\n",
      "\u001b[0;0m\n"
     ]
    },
    {
     "data": {
      "image/png": "[encoded data removed]",
      "text/plain": [
       "<Figure size 432x288 with 1 Axes>"
      ]
     },
     "metadata": {
      "needs_background": "light"
     },
     "output_type": "display_data"
    }
   ],
   "source": [
    "Model_Evaluation(clf_entropy_ada,X_test,y_test,label=\"Ada Boosted Decision Tree Test\",class0='Energy Not Consumed',class1='Energy Consumed')"
   ]
  },
  {
   "cell_type": "code",
   "execution_count": 52,
   "metadata": {},
   "outputs": [
    {
     "name": "stdout",
     "output_type": "stream",
     "text": [
      "[0.89043699 0.88157061 0.86637112 0.86827106 0.87080431 0.87143762\n",
      " 0.8809373  0.87903737 0.87072243 0.88149556]\n",
      "Accuracy of Model with Cross Validation is: 87.61084368586107\n"
     ]
    }
   ],
   "source": [
    "#Ada boost\n",
    "#Decision Tree with Information with Adaboost\n",
    "clf_entropy_no_ada = DecisionTreeClassifier(criterion = \"entropy\", random_state = 100,\n",
    " max_depth=4, min_samples_leaf=5)\n",
    "\n",
    "clf_entropy_ada_cross = AdaBoostClassifier(base_estimator= clf_entropy_no_ada,n_estimators=400,learning_rate=1)\n",
    "\n",
    "accuracy = cross_val_score(clf_entropy_ada_cross, X_train, y_train, scoring='accuracy', cv = 10)\n",
    "print(accuracy)\n",
    "#get the mean of each fold \n",
    "print(\"Accuracy of Model with Cross Validation is:\",accuracy.mean() * 100)"
   ]
  },
  {
   "cell_type": "code",
   "execution_count": 0,
   "metadata": {
    "colab": {},
    "colab_type": "code",
    "id": "o8y_am3hdYRh"
   },
   "outputs": [],
   "source": [
    "#Reference Links\n",
    "#https://stackabuse.com/implementing-svm-and-kernel-svm-with-pythons-scikit-learn/\n",
    "#https://dataaspirant.com/2017/02/01/decision-tree-algorithm-python-with-scikit-learn/\n",
    "#https://medium.com/@rnbrown/creating-and-visualizing-decision-trees-with-python-f8e8fa394176\n",
    "#https://www.python-course.eu/Boosting.php\n",
    "#https://towardsdatascience.com/understanding-data-science-classification-metrics-in-scikit-learn-in-python-3bc336865019 #ROC"
   ]
  }
 ],
 "metadata": {
  "accelerator": "GPU",
  "colab": {
   "collapsed_sections": [],
   "name": "Assignment2_ML.ipynb",
   "provenance": []
  },
  "kernelspec": {
   "display_name": "Python 3",
   "language": "python",
   "name": "python3"
  },
  "language_info": {
   "codemirror_mode": {
    "name": "ipython",
    "version": 3
   },
   "file_extension": ".py",
   "mimetype": "text/x-python",
   "name": "python",
   "nbconvert_exporter": "python",
   "pygments_lexer": "ipython3",
   "version": "3.7.2"
  }
 },
 "nbformat": 4,
 "nbformat_minor": 1
}
