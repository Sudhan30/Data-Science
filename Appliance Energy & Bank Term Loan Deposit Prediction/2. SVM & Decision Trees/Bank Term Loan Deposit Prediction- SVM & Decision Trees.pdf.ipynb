{
 "cells": [
  {
   "cell_type": "code",
   "execution_count": 1,
   "metadata": {},
   "outputs": [],
   "source": [
    "#https://archive.ics.uci.edu/ml/datasets/Bank+Marketing"
   ]
  },
  {
   "cell_type": "code",
   "execution_count": 27,
   "metadata": {},
   "outputs": [],
   "source": [
    "#Importing Libraries\n",
    "import os\n",
    "import numpy as np\n",
    "import pandas as pd\n",
    "import seaborn as sns\n",
    "import matplotlib.pyplot as plt\n",
    "from sklearn import tree\n",
    "from sklearn.svm import SVC\n",
    "from sklearn.model_selection import cross_val_score\n",
    "from sklearn.metrics import roc_curve, roc_auc_score\n",
    "from IPython.display import display, HTML\n",
    "from sklearn.metrics import accuracy_score\n",
    "from sklearn.ensemble import AdaBoostClassifier\n",
    "from sklearn.tree import DecisionTreeClassifier\n",
    "from sklearn.model_selection import GridSearchCV\n",
    "from sklearn.model_selection import train_test_split\n",
    "from sklearn.metrics import classification_report, confusion_matrix"
   ]
  },
  {
   "cell_type": "code",
   "execution_count": 2,
   "metadata": {},
   "outputs": [
    {
     "data": {
      "text/html": [
       "<div>\n",
       "<style scoped>\n",
       "    .dataframe tbody tr th:only-of-type {\n",
       "        vertical-align: middle;\n",
       "    }\n",
       "\n",
       "    .dataframe tbody tr th {\n",
       "        vertical-align: top;\n",
       "    }\n",
       "\n",
       "    .dataframe thead th {\n",
       "        text-align: right;\n",
       "    }\n",
       "</style>\n",
       "<table border=\"1\" class=\"dataframe\">\n",
       "  <thead>\n",
       "    <tr style=\"text-align: right;\">\n",
       "      <th></th>\n",
       "      <th>age</th>\n",
       "      <th>job</th>\n",
       "      <th>marital</th>\n",
       "      <th>education</th>\n",
       "      <th>default</th>\n",
       "      <th>balance</th>\n",
       "      <th>housing</th>\n",
       "      <th>loan</th>\n",
       "      <th>contact</th>\n",
       "      <th>day</th>\n",
       "      <th>month</th>\n",
       "      <th>duration</th>\n",
       "      <th>campaign</th>\n",
       "      <th>pdays</th>\n",
       "      <th>previous</th>\n",
       "      <th>poutcome</th>\n",
       "      <th>y</th>\n",
       "    </tr>\n",
       "  </thead>\n",
       "  <tbody>\n",
       "    <tr>\n",
       "      <th>0</th>\n",
       "      <td>58</td>\n",
       "      <td>management</td>\n",
       "      <td>married</td>\n",
       "      <td>tertiary</td>\n",
       "      <td>no</td>\n",
       "      <td>2143</td>\n",
       "      <td>yes</td>\n",
       "      <td>no</td>\n",
       "      <td>unknown</td>\n",
       "      <td>5</td>\n",
       "      <td>may</td>\n",
       "      <td>261</td>\n",
       "      <td>1</td>\n",
       "      <td>-1</td>\n",
       "      <td>0</td>\n",
       "      <td>unknown</td>\n",
       "      <td>no</td>\n",
       "    </tr>\n",
       "    <tr>\n",
       "      <th>1</th>\n",
       "      <td>44</td>\n",
       "      <td>technician</td>\n",
       "      <td>single</td>\n",
       "      <td>secondary</td>\n",
       "      <td>no</td>\n",
       "      <td>29</td>\n",
       "      <td>yes</td>\n",
       "      <td>no</td>\n",
       "      <td>unknown</td>\n",
       "      <td>5</td>\n",
       "      <td>may</td>\n",
       "      <td>151</td>\n",
       "      <td>1</td>\n",
       "      <td>-1</td>\n",
       "      <td>0</td>\n",
       "      <td>unknown</td>\n",
       "      <td>no</td>\n",
       "    </tr>\n",
       "    <tr>\n",
       "      <th>2</th>\n",
       "      <td>33</td>\n",
       "      <td>entrepreneur</td>\n",
       "      <td>married</td>\n",
       "      <td>secondary</td>\n",
       "      <td>no</td>\n",
       "      <td>2</td>\n",
       "      <td>yes</td>\n",
       "      <td>yes</td>\n",
       "      <td>unknown</td>\n",
       "      <td>5</td>\n",
       "      <td>may</td>\n",
       "      <td>76</td>\n",
       "      <td>1</td>\n",
       "      <td>-1</td>\n",
       "      <td>0</td>\n",
       "      <td>unknown</td>\n",
       "      <td>no</td>\n",
       "    </tr>\n",
       "    <tr>\n",
       "      <th>3</th>\n",
       "      <td>47</td>\n",
       "      <td>blue-collar</td>\n",
       "      <td>married</td>\n",
       "      <td>unknown</td>\n",
       "      <td>no</td>\n",
       "      <td>1506</td>\n",
       "      <td>yes</td>\n",
       "      <td>no</td>\n",
       "      <td>unknown</td>\n",
       "      <td>5</td>\n",
       "      <td>may</td>\n",
       "      <td>92</td>\n",
       "      <td>1</td>\n",
       "      <td>-1</td>\n",
       "      <td>0</td>\n",
       "      <td>unknown</td>\n",
       "      <td>no</td>\n",
       "    </tr>\n",
       "    <tr>\n",
       "      <th>4</th>\n",
       "      <td>33</td>\n",
       "      <td>unknown</td>\n",
       "      <td>single</td>\n",
       "      <td>unknown</td>\n",
       "      <td>no</td>\n",
       "      <td>1</td>\n",
       "      <td>no</td>\n",
       "      <td>no</td>\n",
       "      <td>unknown</td>\n",
       "      <td>5</td>\n",
       "      <td>may</td>\n",
       "      <td>198</td>\n",
       "      <td>1</td>\n",
       "      <td>-1</td>\n",
       "      <td>0</td>\n",
       "      <td>unknown</td>\n",
       "      <td>no</td>\n",
       "    </tr>\n",
       "  </tbody>\n",
       "</table>\n",
       "</div>"
      ],
      "text/plain": [
       "   age           job  marital  education default  balance housing loan  \\\n",
       "0   58    management  married   tertiary      no     2143     yes   no   \n",
       "1   44    technician   single  secondary      no       29     yes   no   \n",
       "2   33  entrepreneur  married  secondary      no        2     yes  yes   \n",
       "3   47   blue-collar  married    unknown      no     1506     yes   no   \n",
       "4   33       unknown   single    unknown      no        1      no   no   \n",
       "\n",
       "   contact  day month  duration  campaign  pdays  previous poutcome   y  \n",
       "0  unknown    5   may       261         1     -1         0  unknown  no  \n",
       "1  unknown    5   may       151         1     -1         0  unknown  no  \n",
       "2  unknown    5   may        76         1     -1         0  unknown  no  \n",
       "3  unknown    5   may        92         1     -1         0  unknown  no  \n",
       "4  unknown    5   may       198         1     -1         0  unknown  no  "
      ]
     },
     "execution_count": 2,
     "metadata": {},
     "output_type": "execute_result"
    }
   ],
   "source": [
    "#Loading Dataset\n",
    "df=pd.read_csv(\"bank-full.csv\",sep=';')\n",
    "#printing the head of the Dataset\n",
    "df.head()"
   ]
  },
  {
   "cell_type": "code",
   "execution_count": 3,
   "metadata": {},
   "outputs": [
    {
     "data": {
      "text/plain": [
       "(45211, 17)"
      ]
     },
     "execution_count": 3,
     "metadata": {},
     "output_type": "execute_result"
    }
   ],
   "source": [
    "df.shape"
   ]
  },
  {
   "cell_type": "code",
   "execution_count": 4,
   "metadata": {},
   "outputs": [
    {
     "data": {
      "text/html": [
       "<div>\n",
       "<style scoped>\n",
       "    .dataframe tbody tr th:only-of-type {\n",
       "        vertical-align: middle;\n",
       "    }\n",
       "\n",
       "    .dataframe tbody tr th {\n",
       "        vertical-align: top;\n",
       "    }\n",
       "\n",
       "    .dataframe thead th {\n",
       "        text-align: right;\n",
       "    }\n",
       "</style>\n",
       "<table border=\"1\" class=\"dataframe\">\n",
       "  <thead>\n",
       "    <tr style=\"text-align: right;\">\n",
       "      <th></th>\n",
       "      <th>age</th>\n",
       "      <th>balance</th>\n",
       "      <th>day</th>\n",
       "      <th>duration</th>\n",
       "      <th>campaign</th>\n",
       "      <th>pdays</th>\n",
       "      <th>previous</th>\n",
       "    </tr>\n",
       "  </thead>\n",
       "  <tbody>\n",
       "    <tr>\n",
       "      <th>count</th>\n",
       "      <td>45211.000000</td>\n",
       "      <td>45211.000000</td>\n",
       "      <td>45211.000000</td>\n",
       "      <td>45211.000000</td>\n",
       "      <td>45211.000000</td>\n",
       "      <td>45211.000000</td>\n",
       "      <td>45211.000000</td>\n",
       "    </tr>\n",
       "    <tr>\n",
       "      <th>mean</th>\n",
       "      <td>40.936210</td>\n",
       "      <td>1362.272058</td>\n",
       "      <td>15.806419</td>\n",
       "      <td>258.163080</td>\n",
       "      <td>2.763841</td>\n",
       "      <td>40.197828</td>\n",
       "      <td>0.580323</td>\n",
       "    </tr>\n",
       "    <tr>\n",
       "      <th>std</th>\n",
       "      <td>10.618762</td>\n",
       "      <td>3044.765829</td>\n",
       "      <td>8.322476</td>\n",
       "      <td>257.527812</td>\n",
       "      <td>3.098021</td>\n",
       "      <td>100.128746</td>\n",
       "      <td>2.303441</td>\n",
       "    </tr>\n",
       "    <tr>\n",
       "      <th>min</th>\n",
       "      <td>18.000000</td>\n",
       "      <td>-8019.000000</td>\n",
       "      <td>1.000000</td>\n",
       "      <td>0.000000</td>\n",
       "      <td>1.000000</td>\n",
       "      <td>-1.000000</td>\n",
       "      <td>0.000000</td>\n",
       "    </tr>\n",
       "    <tr>\n",
       "      <th>25%</th>\n",
       "      <td>33.000000</td>\n",
       "      <td>72.000000</td>\n",
       "      <td>8.000000</td>\n",
       "      <td>103.000000</td>\n",
       "      <td>1.000000</td>\n",
       "      <td>-1.000000</td>\n",
       "      <td>0.000000</td>\n",
       "    </tr>\n",
       "    <tr>\n",
       "      <th>50%</th>\n",
       "      <td>39.000000</td>\n",
       "      <td>448.000000</td>\n",
       "      <td>16.000000</td>\n",
       "      <td>180.000000</td>\n",
       "      <td>2.000000</td>\n",
       "      <td>-1.000000</td>\n",
       "      <td>0.000000</td>\n",
       "    </tr>\n",
       "    <tr>\n",
       "      <th>75%</th>\n",
       "      <td>48.000000</td>\n",
       "      <td>1428.000000</td>\n",
       "      <td>21.000000</td>\n",
       "      <td>319.000000</td>\n",
       "      <td>3.000000</td>\n",
       "      <td>-1.000000</td>\n",
       "      <td>0.000000</td>\n",
       "    </tr>\n",
       "    <tr>\n",
       "      <th>max</th>\n",
       "      <td>95.000000</td>\n",
       "      <td>102127.000000</td>\n",
       "      <td>31.000000</td>\n",
       "      <td>4918.000000</td>\n",
       "      <td>63.000000</td>\n",
       "      <td>871.000000</td>\n",
       "      <td>275.000000</td>\n",
       "    </tr>\n",
       "  </tbody>\n",
       "</table>\n",
       "</div>"
      ],
      "text/plain": [
       "                age        balance           day      duration      campaign  \\\n",
       "count  45211.000000   45211.000000  45211.000000  45211.000000  45211.000000   \n",
       "mean      40.936210    1362.272058     15.806419    258.163080      2.763841   \n",
       "std       10.618762    3044.765829      8.322476    257.527812      3.098021   \n",
       "min       18.000000   -8019.000000      1.000000      0.000000      1.000000   \n",
       "25%       33.000000      72.000000      8.000000    103.000000      1.000000   \n",
       "50%       39.000000     448.000000     16.000000    180.000000      2.000000   \n",
       "75%       48.000000    1428.000000     21.000000    319.000000      3.000000   \n",
       "max       95.000000  102127.000000     31.000000   4918.000000     63.000000   \n",
       "\n",
       "              pdays      previous  \n",
       "count  45211.000000  45211.000000  \n",
       "mean      40.197828      0.580323  \n",
       "std      100.128746      2.303441  \n",
       "min       -1.000000      0.000000  \n",
       "25%       -1.000000      0.000000  \n",
       "50%       -1.000000      0.000000  \n",
       "75%       -1.000000      0.000000  \n",
       "max      871.000000    275.000000  "
      ]
     },
     "execution_count": 4,
     "metadata": {},
     "output_type": "execute_result"
    }
   ],
   "source": [
    "df.describe()"
   ]
  },
  {
   "cell_type": "code",
   "execution_count": 5,
   "metadata": {},
   "outputs": [
    {
     "data": {
      "text/plain": [
       "Index(['age', 'job', 'marital', 'education', 'default', 'balance', 'housing',\n",
       "       'loan', 'contact', 'day', 'month', 'duration', 'campaign', 'pdays',\n",
       "       'previous', 'poutcome', 'y'],\n",
       "      dtype='object')"
      ]
     },
     "execution_count": 5,
     "metadata": {},
     "output_type": "execute_result"
    }
   ],
   "source": [
    "df.columns"
   ]
  },
  {
   "cell_type": "code",
   "execution_count": 6,
   "metadata": {},
   "outputs": [
    {
     "name": "stdout",
     "output_type": "stream",
     "text": [
      "<class 'pandas.core.frame.DataFrame'>\n",
      "RangeIndex: 45211 entries, 0 to 45210\n",
      "Data columns (total 17 columns):\n",
      "age          45211 non-null int64\n",
      "job          45211 non-null object\n",
      "marital      45211 non-null object\n",
      "education    45211 non-null object\n",
      "default      45211 non-null object\n",
      "balance      45211 non-null int64\n",
      "housing      45211 non-null object\n",
      "loan         45211 non-null object\n",
      "contact      45211 non-null object\n",
      "day          45211 non-null int64\n",
      "month        45211 non-null object\n",
      "duration     45211 non-null int64\n",
      "campaign     45211 non-null int64\n",
      "pdays        45211 non-null int64\n",
      "previous     45211 non-null int64\n",
      "poutcome     45211 non-null object\n",
      "y            45211 non-null object\n",
      "dtypes: int64(7), object(10)\n",
      "memory usage: 5.9+ MB\n"
     ]
    }
   ],
   "source": [
    "df.info()"
   ]
  },
  {
   "cell_type": "code",
   "execution_count": 7,
   "metadata": {},
   "outputs": [
    {
     "data": {
      "text/plain": [
       "<matplotlib.axes._subplots.AxesSubplot at 0x209579c90b8>"
      ]
     },
     "execution_count": 7,
     "metadata": {},
     "output_type": "execute_result"
    },
    {
     "data": {
      "image/png": "[encoded data removed]",
      "text/plain": [
       "<Figure size 432x288 with 1 Axes>"
      ]
     },
     "metadata": {
      "needs_background": "light"
     },
     "output_type": "display_data"
    }
   ],
   "source": [
    "value_counts = df['y'].value_counts()\n",
    "\n",
    "value_counts.plot.bar(title = 'Term Deposit Subscription count')"
   ]
  },
  {
   "cell_type": "code",
   "execution_count": 8,
   "metadata": {},
   "outputs": [],
   "source": [
    "# Separate both dataframes into \n",
    "numeric_df = df.select_dtypes(exclude=\"object\")\n",
    "# categorical_df = df.select_dtypes(include=\"object\")\n",
    "\n",
    "corr_numeric = numeric_df.corr()"
   ]
  },
  {
   "cell_type": "code",
   "execution_count": 9,
   "metadata": {},
   "outputs": [],
   "source": [
    "def heatMap(df, mirror):\n",
    "\n",
    "    # Create Correlation df\n",
    "    corr = df.corr()\n",
    "    # Plot figsize\n",
    "    fig, ax = plt.subplots(figsize=(10, 10))\n",
    "    # Generate Color Map\n",
    "    colormap = sns.diverging_palette(220, 10, as_cmap=True)\n",
    "\n",
    "    if mirror == True:\n",
    "        #Generate Heat Map, allow annotations and place floats in map\n",
    "        sns.heatmap(corr, cmap=colormap, annot=False, fmt=\".2f\")\n",
    "        #Apply xticks\n",
    "        plt.xticks(range(len(corr.columns)), corr.columns);\n",
    "        #Apply yticks\n",
    "        plt.yticks(range(len(corr.columns)), corr.columns)\n",
    "        #show plot\n",
    "    else:\n",
    "        # Drop self-correlations\n",
    "        dropSelf = np.zeros_like(corr)\n",
    "        dropSelf[np.triu_indices_from(dropSelf)] = True\n",
    "        # Generate Color Map\n",
    "        colormap = sns.diverging_palette(220, 10, as_cmap=True)\n",
    "        # Generate Heat Map, allow annotations and place floats in map\n",
    "        sns.heatmap(corr, cmap=colormap, annot=False, fmt=\".2f\", mask=dropSelf)\n",
    "        # Apply xticks\n",
    "        plt.xticks(range(len(corr.columns)), corr.columns);\n",
    "        # Apply yticks\n",
    "        plt.yticks(range(len(corr.columns)), corr.columns)\n",
    "    # show plot\n",
    "    plt.show()"
   ]
  },
  {
   "cell_type": "code",
   "execution_count": 10,
   "metadata": {},
   "outputs": [
    {
     "data": {
      "image/png": "[encoded data removed]",
      "text/plain": [
       "<Figure size 720x720 with 2 Axes>"
      ]
     },
     "metadata": {
      "needs_background": "light"
     },
     "output_type": "display_data"
    }
   ],
   "source": [
    "hmap = heatMap(corr_numeric,mirror='True')"
   ]
  },
  {
   "cell_type": "code",
   "execution_count": 11,
   "metadata": {},
   "outputs": [],
   "source": [
    "df['y'] = df['y'].map({'yes': 1, 'no': 0})\n",
    "df['default']=df['default'].map({'yes': 1, 'no': 0})\n",
    "df['housing']=df['housing'].map({'yes': 1, 'no': 0})\n",
    "df['loan']=df['loan'].map({'yes': 1, 'no': 0})"
   ]
  },
  {
   "cell_type": "code",
   "execution_count": 12,
   "metadata": {},
   "outputs": [
    {
     "data": {
      "image/png": "[encoded data removed]",
      "text/plain": [
       "<Figure size 576x576 with 1 Axes>"
      ]
     },
     "metadata": {
      "needs_background": "light"
     },
     "output_type": "display_data"
    }
   ],
   "source": [
    "# Shuffle the Dataset.\n",
    "shuffled_df = df.sample(frac=1,random_state=4)\n",
    "\n",
    "# Put all the fraud class in a separate dataset.\n",
    "deposit_df = df.loc[df['y'] == 1]\n",
    "\n",
    "#Randomly select 492 observations from the non-fraud (majority class)\n",
    "no_deposit_df = df.loc[df['y'] == 0].sample(n=len(df[df['y']==1]),random_state=42)\n",
    "\n",
    "# Concatenate both dataframes again\n",
    "normalized_df = pd.concat([deposit_df, no_deposit_df])\n",
    "\n",
    "#plot the dataset after the undersampling\n",
    "plt.figure(figsize=(8, 8))\n",
    "sns.countplot('y', data=normalized_df)\n",
    "plt.title('Balanced Classes')\n",
    "plt.show()"
   ]
  },
  {
   "cell_type": "code",
   "execution_count": 13,
   "metadata": {},
   "outputs": [
    {
     "data": {
      "text/plain": [
       "10578"
      ]
     },
     "execution_count": 13,
     "metadata": {},
     "output_type": "execute_result"
    }
   ],
   "source": [
    "len(normalized_df)"
   ]
  },
  {
   "cell_type": "code",
   "execution_count": 14,
   "metadata": {},
   "outputs": [],
   "source": [
    "#Splitting x and y\n",
    "y=normalized_df[['y']].values.reshape(-1,)\n",
    "X=normalized_df[['age','balance','pdays','previous','default','housing','loan','campaign']]\n",
    "#Test Train Split\n",
    "X_train, X_test, y_train, y_test = train_test_split(X, y, test_size = 0.5,random_state=100)"
   ]
  },
  {
   "cell_type": "code",
   "execution_count": 15,
   "metadata": {},
   "outputs": [],
   "source": [
    "def ROC_Plot(y,y_pred,label):\n",
    "    '''Function to plot ROC characteristics of the model'''\n",
    "    #Calculating True and False Positive Rate\n",
    "    fpr, tpr, _ = roc_curve(y,  y_pred)\n",
    "    \n",
    "    #Caculating ROC Score\n",
    "    auc = roc_auc_score(y, y_pred)\n",
    "    \n",
    "    #ROC Plot\n",
    "    plt.plot(fpr,tpr,label=label+\", auc=\"+str(auc))\n",
    "    plt.legend(loc=4)\n",
    "    plt.plot([0, 1], [0, 1],'r--')\n",
    "    plt.title('ROC Curve')\n",
    "    plt.xlabel('False Positive Rate')\n",
    "    plt.ylabel('True Positive Rate')\n",
    "    plt.show()"
   ]
  },
  {
   "cell_type": "code",
   "execution_count": 16,
   "metadata": {},
   "outputs": [],
   "source": [
    "def Model_Evaluation(model,X,y,label,class0,class1):\n",
    "    '''Function to evaluate model performance'''\n",
    "    #To Print the text in Bold\n",
    "    start = \"\\033[1m\"\n",
    "    end = \"\\033[0;0m\"\n",
    "    print(start+ label + \"ing Data - Model Evaluation\" +end + \"\\n\")\n",
    "    #Fitting the trained Model\n",
    "    y_pred = model.predict(X)\n",
    "\n",
    "    #Calculating Accuracy\n",
    "    print (label + \"ing Accuracy is:\", format((accuracy_score(y,y_pred)*100), '.2f'))\n",
    "\n",
    "    #Printing Confusion Matrix\n",
    "    print(start + \"\\n\\t\\t Confusion Matrix\" + end)\n",
    "    display(pd.DataFrame(\n",
    "        confusion_matrix(y,y_pred),\n",
    "        columns=[class0, class1],\n",
    "        index=[class0, class1]\n",
    "    ))\n",
    "\n",
    "    #Printing Classification Report\n",
    "    print(start + \"\\n\\t\\t Classification Report\\n\" + end)\n",
    "    print(classification_report(y,y_pred))\n",
    "\n",
    "    #Plotting ROC\n",
    "    print(start + \"\\n\\t\\t\\tROC Curve\\n\" + end)\n",
    "    ROC_Plot(y,y_pred,label=label)"
   ]
  },
  {
   "cell_type": "code",
   "execution_count": 31,
   "metadata": {},
   "outputs": [
    {
     "data": {
      "text/plain": [
       "SVC(C=1.0, cache_size=200, class_weight=None, coef0=0.0,\n",
       "  decision_function_shape='ovr', degree=3, gamma='auto_deprecated',\n",
       "  kernel='linear', max_iter=-1, probability=False, random_state=None,\n",
       "  shrinking=True, tol=0.001, verbose=False)"
      ]
     },
     "execution_count": 31,
     "metadata": {},
     "output_type": "execute_result"
    }
   ],
   "source": [
    "#SVM Linear Kernel\n",
    "svclassifier = SVC(kernel='linear')\n",
    "svclassifier.fit(X_train, y_train)"
   ]
  },
  {
   "cell_type": "code",
   "execution_count": 32,
   "metadata": {},
   "outputs": [
    {
     "name": "stdout",
     "output_type": "stream",
     "text": [
      "\u001b[1mSVM (Linear Kernel) Training Data - Model Evaluation\u001b[0;0m\n",
      "\n",
      "SVM (Linear Kernel) Training Accuracy is: 63.15\n",
      "\u001b[1m\n",
      "\t\t Confusion Matrix\u001b[0;0m\n"
     ]
    },
    {
     "data": {
      "text/html": [
       "<div>\n",
       "<style scoped>\n",
       "    .dataframe tbody tr th:only-of-type {\n",
       "        vertical-align: middle;\n",
       "    }\n",
       "\n",
       "    .dataframe tbody tr th {\n",
       "        vertical-align: top;\n",
       "    }\n",
       "\n",
       "    .dataframe thead th {\n",
       "        text-align: right;\n",
       "    }\n",
       "</style>\n",
       "<table border=\"1\" class=\"dataframe\">\n",
       "  <thead>\n",
       "    <tr style=\"text-align: right;\">\n",
       "      <th></th>\n",
       "      <th>Term Deposit Not Subscribed</th>\n",
       "      <th>Term Deposit Subscribed</th>\n",
       "    </tr>\n",
       "  </thead>\n",
       "  <tbody>\n",
       "    <tr>\n",
       "      <th>Term Deposit Not Subscribed</th>\n",
       "      <td>1312</td>\n",
       "      <td>1338</td>\n",
       "    </tr>\n",
       "    <tr>\n",
       "      <th>Term Deposit Subscribed</th>\n",
       "      <td>611</td>\n",
       "      <td>2028</td>\n",
       "    </tr>\n",
       "  </tbody>\n",
       "</table>\n",
       "</div>"
      ],
      "text/plain": [
       "                             Term Deposit Not Subscribed  \\\n",
       "Term Deposit Not Subscribed                         1312   \n",
       "Term Deposit Subscribed                              611   \n",
       "\n",
       "                             Term Deposit Subscribed  \n",
       "Term Deposit Not Subscribed                     1338  \n",
       "Term Deposit Subscribed                         2028  "
      ]
     },
     "metadata": {},
     "output_type": "display_data"
    },
    {
     "name": "stdout",
     "output_type": "stream",
     "text": [
      "\u001b[1m\n",
      "\t\t Classification Report\n",
      "\u001b[0;0m\n",
      "              precision    recall  f1-score   support\n",
      "\n",
      "           0       0.68      0.50      0.57      2650\n",
      "           1       0.60      0.77      0.68      2639\n",
      "\n",
      "   micro avg       0.63      0.63      0.63      5289\n",
      "   macro avg       0.64      0.63      0.62      5289\n",
      "weighted avg       0.64      0.63      0.62      5289\n",
      "\n",
      "\u001b[1m\n",
      "\t\t\tROC Curve\n",
      "\u001b[0;0m\n"
     ]
    },
    {
     "data": {
      "image/png": "[encoded data removed]",
      "text/plain": [
       "<Figure size 432x288 with 1 Axes>"
      ]
     },
     "metadata": {
      "needs_background": "light"
     },
     "output_type": "display_data"
    }
   ],
   "source": [
    "Model_Evaluation(svclassifier,X_train,y_train,label=\"SVM (Linear Kernel) Train\",class0='Term Deposit Not Subscribed',class1='Term Deposit Subscribed')"
   ]
  },
  {
   "cell_type": "code",
   "execution_count": 33,
   "metadata": {},
   "outputs": [
    {
     "name": "stdout",
     "output_type": "stream",
     "text": [
      "\u001b[1mSVM (Linear Kernel) Training Data - Model Evaluation\u001b[0;0m\n",
      "\n",
      "SVM (Linear Kernel) Training Accuracy is: 62.58\n",
      "\u001b[1m\n",
      "\t\t Confusion Matrix\u001b[0;0m\n"
     ]
    },
    {
     "data": {
      "text/html": [
       "<div>\n",
       "<style scoped>\n",
       "    .dataframe tbody tr th:only-of-type {\n",
       "        vertical-align: middle;\n",
       "    }\n",
       "\n",
       "    .dataframe tbody tr th {\n",
       "        vertical-align: top;\n",
       "    }\n",
       "\n",
       "    .dataframe thead th {\n",
       "        text-align: right;\n",
       "    }\n",
       "</style>\n",
       "<table border=\"1\" class=\"dataframe\">\n",
       "  <thead>\n",
       "    <tr style=\"text-align: right;\">\n",
       "      <th></th>\n",
       "      <th>Term Deposit Not Subscribed</th>\n",
       "      <th>Term Deposit Subscribed</th>\n",
       "    </tr>\n",
       "  </thead>\n",
       "  <tbody>\n",
       "    <tr>\n",
       "      <th>Term Deposit Not Subscribed</th>\n",
       "      <td>1325</td>\n",
       "      <td>1314</td>\n",
       "    </tr>\n",
       "    <tr>\n",
       "      <th>Term Deposit Subscribed</th>\n",
       "      <td>665</td>\n",
       "      <td>1985</td>\n",
       "    </tr>\n",
       "  </tbody>\n",
       "</table>\n",
       "</div>"
      ],
      "text/plain": [
       "                             Term Deposit Not Subscribed  \\\n",
       "Term Deposit Not Subscribed                         1325   \n",
       "Term Deposit Subscribed                              665   \n",
       "\n",
       "                             Term Deposit Subscribed  \n",
       "Term Deposit Not Subscribed                     1314  \n",
       "Term Deposit Subscribed                         1985  "
      ]
     },
     "metadata": {},
     "output_type": "display_data"
    },
    {
     "name": "stdout",
     "output_type": "stream",
     "text": [
      "\u001b[1m\n",
      "\t\t Classification Report\n",
      "\u001b[0;0m\n",
      "              precision    recall  f1-score   support\n",
      "\n",
      "           0       0.67      0.50      0.57      2639\n",
      "           1       0.60      0.75      0.67      2650\n",
      "\n",
      "   micro avg       0.63      0.63      0.63      5289\n",
      "   macro avg       0.63      0.63      0.62      5289\n",
      "weighted avg       0.63      0.63      0.62      5289\n",
      "\n",
      "\u001b[1m\n",
      "\t\t\tROC Curve\n",
      "\u001b[0;0m\n"
     ]
    },
    {
     "data": {
      "image/png": "[encoded data removed]",
      "text/plain": [
       "<Figure size 432x288 with 1 Axes>"
      ]
     },
     "metadata": {
      "needs_background": "light"
     },
     "output_type": "display_data"
    }
   ],
   "source": [
    "Model_Evaluation(svclassifier,X_test,y_test,label=\"SVM (Linear Kernel) Train\",class0='Term Deposit Not Subscribed',class1='Term Deposit Subscribed')"
   ]
  },
  {
   "cell_type": "code",
   "execution_count": 34,
   "metadata": {},
   "outputs": [
    {
     "data": {
      "text/plain": [
       "SVC(C=1.0, cache_size=200, class_weight=None, coef0=0.0,\n",
       "  decision_function_shape='ovr', degree=3, gamma=0.001, kernel='rbf',\n",
       "  max_iter=-1, probability=False, random_state=None, shrinking=True,\n",
       "  tol=0.001, verbose=False)"
      ]
     },
     "execution_count": 34,
     "metadata": {},
     "output_type": "execute_result"
    }
   ],
   "source": [
    "#SVM Gaussian Kernel\n",
    "C=1.0\n",
    "svclassifier_gauss = SVC(kernel='rbf',gamma=0.001,C=C)\n",
    "svclassifier_gauss.fit(X_train, y_train)"
   ]
  },
  {
   "cell_type": "code",
   "execution_count": 35,
   "metadata": {},
   "outputs": [
    {
     "name": "stdout",
     "output_type": "stream",
     "text": [
      "\u001b[1mSVM (Gaussian Kernel) Training Data - Model Evaluation\u001b[0;0m\n",
      "\n",
      "SVM (Gaussian Kernel) Training Accuracy is: 73.72\n",
      "\u001b[1m\n",
      "\t\t Confusion Matrix\u001b[0;0m\n"
     ]
    },
    {
     "data": {
      "text/html": [
       "<div>\n",
       "<style scoped>\n",
       "    .dataframe tbody tr th:only-of-type {\n",
       "        vertical-align: middle;\n",
       "    }\n",
       "\n",
       "    .dataframe tbody tr th {\n",
       "        vertical-align: top;\n",
       "    }\n",
       "\n",
       "    .dataframe thead th {\n",
       "        text-align: right;\n",
       "    }\n",
       "</style>\n",
       "<table border=\"1\" class=\"dataframe\">\n",
       "  <thead>\n",
       "    <tr style=\"text-align: right;\">\n",
       "      <th></th>\n",
       "      <th>Term Deposit Not Subscribed</th>\n",
       "      <th>Term Deposit Subscribed</th>\n",
       "    </tr>\n",
       "  </thead>\n",
       "  <tbody>\n",
       "    <tr>\n",
       "      <th>Term Deposit Not Subscribed</th>\n",
       "      <td>2216</td>\n",
       "      <td>434</td>\n",
       "    </tr>\n",
       "    <tr>\n",
       "      <th>Term Deposit Subscribed</th>\n",
       "      <td>956</td>\n",
       "      <td>1683</td>\n",
       "    </tr>\n",
       "  </tbody>\n",
       "</table>\n",
       "</div>"
      ],
      "text/plain": [
       "                             Term Deposit Not Subscribed  \\\n",
       "Term Deposit Not Subscribed                         2216   \n",
       "Term Deposit Subscribed                              956   \n",
       "\n",
       "                             Term Deposit Subscribed  \n",
       "Term Deposit Not Subscribed                      434  \n",
       "Term Deposit Subscribed                         1683  "
      ]
     },
     "metadata": {},
     "output_type": "display_data"
    },
    {
     "name": "stdout",
     "output_type": "stream",
     "text": [
      "\u001b[1m\n",
      "\t\t Classification Report\n",
      "\u001b[0;0m\n",
      "              precision    recall  f1-score   support\n",
      "\n",
      "           0       0.70      0.84      0.76      2650\n",
      "           1       0.79      0.64      0.71      2639\n",
      "\n",
      "   micro avg       0.74      0.74      0.74      5289\n",
      "   macro avg       0.75      0.74      0.73      5289\n",
      "weighted avg       0.75      0.74      0.73      5289\n",
      "\n",
      "\u001b[1m\n",
      "\t\t\tROC Curve\n",
      "\u001b[0;0m\n"
     ]
    },
    {
     "data": {
      "image/png": "[encoded data removed]",
      "text/plain": [
       "<Figure size 432x288 with 1 Axes>"
      ]
     },
     "metadata": {
      "needs_background": "light"
     },
     "output_type": "display_data"
    }
   ],
   "source": [
    "Model_Evaluation(svclassifier_gauss,X_train,y_train,label=\"SVM (Gaussian Kernel) Train\",class0='Term Deposit Not Subscribed',class1='Term Deposit Subscribed')"
   ]
  },
  {
   "cell_type": "code",
   "execution_count": 36,
   "metadata": {},
   "outputs": [
    {
     "name": "stdout",
     "output_type": "stream",
     "text": [
      "\u001b[1mSVM (Gaussian Kernel) Testing Data - Model Evaluation\u001b[0;0m\n",
      "\n",
      "SVM (Gaussian Kernel) Testing Accuracy is: 61.47\n",
      "\u001b[1m\n",
      "\t\t Confusion Matrix\u001b[0;0m\n"
     ]
    },
    {
     "data": {
      "text/html": [
       "<div>\n",
       "<style scoped>\n",
       "    .dataframe tbody tr th:only-of-type {\n",
       "        vertical-align: middle;\n",
       "    }\n",
       "\n",
       "    .dataframe tbody tr th {\n",
       "        vertical-align: top;\n",
       "    }\n",
       "\n",
       "    .dataframe thead th {\n",
       "        text-align: right;\n",
       "    }\n",
       "</style>\n",
       "<table border=\"1\" class=\"dataframe\">\n",
       "  <thead>\n",
       "    <tr style=\"text-align: right;\">\n",
       "      <th></th>\n",
       "      <th>Term Deposit Not Subscribed</th>\n",
       "      <th>Term Deposit Subscribed</th>\n",
       "    </tr>\n",
       "  </thead>\n",
       "  <tbody>\n",
       "    <tr>\n",
       "      <th>Term Deposit Not Subscribed</th>\n",
       "      <td>1803</td>\n",
       "      <td>836</td>\n",
       "    </tr>\n",
       "    <tr>\n",
       "      <th>Term Deposit Subscribed</th>\n",
       "      <td>1202</td>\n",
       "      <td>1448</td>\n",
       "    </tr>\n",
       "  </tbody>\n",
       "</table>\n",
       "</div>"
      ],
      "text/plain": [
       "                             Term Deposit Not Subscribed  \\\n",
       "Term Deposit Not Subscribed                         1803   \n",
       "Term Deposit Subscribed                             1202   \n",
       "\n",
       "                             Term Deposit Subscribed  \n",
       "Term Deposit Not Subscribed                      836  \n",
       "Term Deposit Subscribed                         1448  "
      ]
     },
     "metadata": {},
     "output_type": "display_data"
    },
    {
     "name": "stdout",
     "output_type": "stream",
     "text": [
      "\u001b[1m\n",
      "\t\t Classification Report\n",
      "\u001b[0;0m\n",
      "              precision    recall  f1-score   support\n",
      "\n",
      "           0       0.60      0.68      0.64      2639\n",
      "           1       0.63      0.55      0.59      2650\n",
      "\n",
      "   micro avg       0.61      0.61      0.61      5289\n",
      "   macro avg       0.62      0.61      0.61      5289\n",
      "weighted avg       0.62      0.61      0.61      5289\n",
      "\n",
      "\u001b[1m\n",
      "\t\t\tROC Curve\n",
      "\u001b[0;0m\n"
     ]
    },
    {
     "data": {
      "image/png": "[encoded data removed]",
      "text/plain": [
       "<Figure size 432x288 with 1 Axes>"
      ]
     },
     "metadata": {
      "needs_background": "light"
     },
     "output_type": "display_data"
    }
   ],
   "source": [
    "Model_Evaluation(svclassifier_gauss,X_test,y_test,label=\"SVM (Gaussian Kernel) Test\",class0='Term Deposit Not Subscribed',class1='Term Deposit Subscribed')"
   ]
  },
  {
   "cell_type": "code",
   "execution_count": 37,
   "metadata": {},
   "outputs": [
    {
     "data": {
      "text/plain": [
       "SVC(C=1.0, cache_size=200, class_weight=None, coef0=0.0,\n",
       "  decision_function_shape='ovr', degree=3, gamma=0.001, kernel='sigmoid',\n",
       "  max_iter=-1, probability=False, random_state=None, shrinking=True,\n",
       "  tol=0.001, verbose=False)"
      ]
     },
     "execution_count": 37,
     "metadata": {},
     "output_type": "execute_result"
    }
   ],
   "source": [
    "#SVM Sigmoid Kernel\n",
    "svclassifier_sig = SVC(kernel='sigmoid',gamma=0.001,C=C)\n",
    "svclassifier_sig.fit(X_train, y_train)"
   ]
  },
  {
   "cell_type": "code",
   "execution_count": 38,
   "metadata": {},
   "outputs": [
    {
     "name": "stdout",
     "output_type": "stream",
     "text": [
      "\u001b[1mSVM (Sigmoid Kernel) Training Data - Model Evaluation\u001b[0;0m\n",
      "\n",
      "SVM (Sigmoid Kernel) Training Accuracy is: 50.61\n",
      "\u001b[1m\n",
      "\t\t Confusion Matrix\u001b[0;0m\n"
     ]
    },
    {
     "data": {
      "text/html": [
       "<div>\n",
       "<style scoped>\n",
       "    .dataframe tbody tr th:only-of-type {\n",
       "        vertical-align: middle;\n",
       "    }\n",
       "\n",
       "    .dataframe tbody tr th {\n",
       "        vertical-align: top;\n",
       "    }\n",
       "\n",
       "    .dataframe thead th {\n",
       "        text-align: right;\n",
       "    }\n",
       "</style>\n",
       "<table border=\"1\" class=\"dataframe\">\n",
       "  <thead>\n",
       "    <tr style=\"text-align: right;\">\n",
       "      <th></th>\n",
       "      <th>Term Deposit Not Subscribed</th>\n",
       "      <th>Term Deposit Subscribed</th>\n",
       "    </tr>\n",
       "  </thead>\n",
       "  <tbody>\n",
       "    <tr>\n",
       "      <th>Term Deposit Not Subscribed</th>\n",
       "      <td>1352</td>\n",
       "      <td>1298</td>\n",
       "    </tr>\n",
       "    <tr>\n",
       "      <th>Term Deposit Subscribed</th>\n",
       "      <td>1314</td>\n",
       "      <td>1325</td>\n",
       "    </tr>\n",
       "  </tbody>\n",
       "</table>\n",
       "</div>"
      ],
      "text/plain": [
       "                             Term Deposit Not Subscribed  \\\n",
       "Term Deposit Not Subscribed                         1352   \n",
       "Term Deposit Subscribed                             1314   \n",
       "\n",
       "                             Term Deposit Subscribed  \n",
       "Term Deposit Not Subscribed                     1298  \n",
       "Term Deposit Subscribed                         1325  "
      ]
     },
     "metadata": {},
     "output_type": "display_data"
    },
    {
     "name": "stdout",
     "output_type": "stream",
     "text": [
      "\u001b[1m\n",
      "\t\t Classification Report\n",
      "\u001b[0;0m\n",
      "              precision    recall  f1-score   support\n",
      "\n",
      "           0       0.51      0.51      0.51      2650\n",
      "           1       0.51      0.50      0.50      2639\n",
      "\n",
      "   micro avg       0.51      0.51      0.51      5289\n",
      "   macro avg       0.51      0.51      0.51      5289\n",
      "weighted avg       0.51      0.51      0.51      5289\n",
      "\n",
      "\u001b[1m\n",
      "\t\t\tROC Curve\n",
      "\u001b[0;0m\n"
     ]
    },
    {
     "data": {
      "image/png": "[encoded data removed]",
      "text/plain": [
       "<Figure size 432x288 with 1 Axes>"
      ]
     },
     "metadata": {
      "needs_background": "light"
     },
     "output_type": "display_data"
    }
   ],
   "source": [
    "Model_Evaluation(svclassifier_sig,X_train,y_train,label=\"SVM (Sigmoid Kernel) Train\",class0='Term Deposit Not Subscribed',class1='Term Deposit Subscribed')"
   ]
  },
  {
   "cell_type": "code",
   "execution_count": 39,
   "metadata": {},
   "outputs": [
    {
     "name": "stdout",
     "output_type": "stream",
     "text": [
      "\u001b[1mSVM (Sigmoid Kernel) Testing Data - Model Evaluation\u001b[0;0m\n",
      "\n",
      "SVM (Sigmoid Kernel) Testing Accuracy is: 51.50\n",
      "\u001b[1m\n",
      "\t\t Confusion Matrix\u001b[0;0m\n"
     ]
    },
    {
     "data": {
      "text/html": [
       "<div>\n",
       "<style scoped>\n",
       "    .dataframe tbody tr th:only-of-type {\n",
       "        vertical-align: middle;\n",
       "    }\n",
       "\n",
       "    .dataframe tbody tr th {\n",
       "        vertical-align: top;\n",
       "    }\n",
       "\n",
       "    .dataframe thead th {\n",
       "        text-align: right;\n",
       "    }\n",
       "</style>\n",
       "<table border=\"1\" class=\"dataframe\">\n",
       "  <thead>\n",
       "    <tr style=\"text-align: right;\">\n",
       "      <th></th>\n",
       "      <th>Term Deposit Not Subscribed</th>\n",
       "      <th>Term Deposit Subscribed</th>\n",
       "    </tr>\n",
       "  </thead>\n",
       "  <tbody>\n",
       "    <tr>\n",
       "      <th>Term Deposit Not Subscribed</th>\n",
       "      <td>1383</td>\n",
       "      <td>1256</td>\n",
       "    </tr>\n",
       "    <tr>\n",
       "      <th>Term Deposit Subscribed</th>\n",
       "      <td>1309</td>\n",
       "      <td>1341</td>\n",
       "    </tr>\n",
       "  </tbody>\n",
       "</table>\n",
       "</div>"
      ],
      "text/plain": [
       "                             Term Deposit Not Subscribed  \\\n",
       "Term Deposit Not Subscribed                         1383   \n",
       "Term Deposit Subscribed                             1309   \n",
       "\n",
       "                             Term Deposit Subscribed  \n",
       "Term Deposit Not Subscribed                     1256  \n",
       "Term Deposit Subscribed                         1341  "
      ]
     },
     "metadata": {},
     "output_type": "display_data"
    },
    {
     "name": "stdout",
     "output_type": "stream",
     "text": [
      "\u001b[1m\n",
      "\t\t Classification Report\n",
      "\u001b[0;0m\n",
      "              precision    recall  f1-score   support\n",
      "\n",
      "           0       0.51      0.52      0.52      2639\n",
      "           1       0.52      0.51      0.51      2650\n",
      "\n",
      "   micro avg       0.52      0.52      0.52      5289\n",
      "   macro avg       0.52      0.52      0.52      5289\n",
      "weighted avg       0.52      0.52      0.51      5289\n",
      "\n",
      "\u001b[1m\n",
      "\t\t\tROC Curve\n",
      "\u001b[0;0m\n"
     ]
    },
    {
     "data": {
      "image/png": "[encoded data removed]",
      "text/plain": [
       "<Figure size 432x288 with 1 Axes>"
      ]
     },
     "metadata": {
      "needs_background": "light"
     },
     "output_type": "display_data"
    }
   ],
   "source": [
    "Model_Evaluation(svclassifier_sig,X_test,y_test,label=\"SVM (Sigmoid Kernel) Test\",class0='Term Deposit Not Subscribed',class1='Term Deposit Subscribed')"
   ]
  },
  {
   "cell_type": "code",
   "execution_count": null,
   "metadata": {},
   "outputs": [
    {
     "name": "stderr",
     "output_type": "stream",
     "text": [
      "C:\\Users\\sudha\\Anaconda3\\lib\\site-packages\\sklearn\\model_selection\\_split.py:2053: FutureWarning: You should specify a value for 'cv' instead of relying on the default value. The default value will change from 3 to 5 in version 0.22.\n",
      "  warnings.warn(CV_WARNING, FutureWarning)\n"
     ]
    }
   ],
   "source": [
    "#Cross Validated SVM\n",
    "param_grid = [\n",
    "  {'C': [1, 10, 100, 1000], 'kernel': ['linear']},\n",
    "  {'C': [1, 10, 100, 1000], 'gamma': [0.001, 0.0001], 'kernel': ['rbf']},\n",
    " ]\n",
    "svclassifier_grid = SVC()\n",
    "\n",
    "grid_svm = GridSearchCV(svclassifier_grid, param_grid)\n",
    "grid_svm.fit(X_train, y_train)"
   ]
  },
  {
   "cell_type": "code",
   "execution_count": null,
   "metadata": {},
   "outputs": [],
   "source": [
    "print('Best score for SVM:', grid_svm.best_params_) "
   ]
  },
  {
   "cell_type": "code",
   "execution_count": null,
   "metadata": {},
   "outputs": [],
   "source": [
    "Model_Evaluation(grid_svm,X_train,y_train,label=\"SVM (Grid Search) Train\",class0='Term Deposit Not Subscribed',class1='Term Deposit Subscribed')"
   ]
  },
  {
   "cell_type": "code",
   "execution_count": null,
   "metadata": {},
   "outputs": [],
   "source": [
    "Model_Evaluation(grid_svm,X_test,y_test,label=\"SVM (Grid Search) Test\",class0='Term Deposit Not Subscribed',class1='Term Deposit Subscribed')"
   ]
  },
  {
   "cell_type": "code",
   "execution_count": null,
   "metadata": {},
   "outputs": [],
   "source": [
    "svc_cross = SVC(C= 1000, gamma= 0.0001, kernel= 'rbf')\n",
    "\n",
    "accuracy = cross_val_score(svc_cross, X_train, y_train, scoring='accuracy', cv = 20)\n",
    "print(accuracy)\n",
    "#get the mean of each fold \n",
    "print(\"Accuracy of Model with Cross Validation is:\",accuracy.mean() * 100)"
   ]
  },
  {
   "cell_type": "markdown",
   "metadata": {},
   "source": [
    "### Decision Trees"
   ]
  },
  {
   "cell_type": "code",
   "execution_count": 17,
   "metadata": {},
   "outputs": [
    {
     "data": {
      "text/plain": [
       "DecisionTreeClassifier(class_weight=None, criterion='entropy', max_depth=None,\n",
       "            max_features=None, max_leaf_nodes=None,\n",
       "            min_impurity_decrease=0.0, min_impurity_split=None,\n",
       "            min_samples_leaf=5, min_samples_split=2,\n",
       "            min_weight_fraction_leaf=0.0, presort=False, random_state=100,\n",
       "            splitter='best')"
      ]
     },
     "execution_count": 17,
     "metadata": {},
     "output_type": "execute_result"
    }
   ],
   "source": [
    "#Decision Tree with GINI Index\n",
    "tree_model = DecisionTreeClassifier(criterion = \"entropy\", random_state = 100, min_samples_leaf=5)\n",
    "tree_model.fit(X_train, y_train)"
   ]
  },
  {
   "cell_type": "code",
   "execution_count": 18,
   "metadata": {},
   "outputs": [
    {
     "name": "stdout",
     "output_type": "stream",
     "text": [
      "\u001b[1mDecision Tree (entropy based tree) Training Data - Model Evaluation\u001b[0;0m\n",
      "\n",
      "Decision Tree (entropy based tree) Training Accuracy is: 81.07\n",
      "\u001b[1m\n",
      "\t\t Confusion Matrix\u001b[0;0m\n"
     ]
    },
    {
     "data": {
      "text/html": [
       "<div>\n",
       "<style scoped>\n",
       "    .dataframe tbody tr th:only-of-type {\n",
       "        vertical-align: middle;\n",
       "    }\n",
       "\n",
       "    .dataframe tbody tr th {\n",
       "        vertical-align: top;\n",
       "    }\n",
       "\n",
       "    .dataframe thead th {\n",
       "        text-align: right;\n",
       "    }\n",
       "</style>\n",
       "<table border=\"1\" class=\"dataframe\">\n",
       "  <thead>\n",
       "    <tr style=\"text-align: right;\">\n",
       "      <th></th>\n",
       "      <th>Term Deposit Not Subscribed</th>\n",
       "      <th>Term Deposit Subscribed</th>\n",
       "    </tr>\n",
       "  </thead>\n",
       "  <tbody>\n",
       "    <tr>\n",
       "      <th>Term Deposit Not Subscribed</th>\n",
       "      <td>2229</td>\n",
       "      <td>421</td>\n",
       "    </tr>\n",
       "    <tr>\n",
       "      <th>Term Deposit Subscribed</th>\n",
       "      <td>580</td>\n",
       "      <td>2059</td>\n",
       "    </tr>\n",
       "  </tbody>\n",
       "</table>\n",
       "</div>"
      ],
      "text/plain": [
       "                             Term Deposit Not Subscribed  \\\n",
       "Term Deposit Not Subscribed                         2229   \n",
       "Term Deposit Subscribed                              580   \n",
       "\n",
       "                             Term Deposit Subscribed  \n",
       "Term Deposit Not Subscribed                      421  \n",
       "Term Deposit Subscribed                         2059  "
      ]
     },
     "metadata": {},
     "output_type": "display_data"
    },
    {
     "name": "stdout",
     "output_type": "stream",
     "text": [
      "\u001b[1m\n",
      "\t\t Classification Report\n",
      "\u001b[0;0m\n",
      "              precision    recall  f1-score   support\n",
      "\n",
      "           0       0.79      0.84      0.82      2650\n",
      "           1       0.83      0.78      0.80      2639\n",
      "\n",
      "   micro avg       0.81      0.81      0.81      5289\n",
      "   macro avg       0.81      0.81      0.81      5289\n",
      "weighted avg       0.81      0.81      0.81      5289\n",
      "\n",
      "\u001b[1m\n",
      "\t\t\tROC Curve\n",
      "\u001b[0;0m\n"
     ]
    },
    {
     "data": {
      "image/png": "[encoded data removed]",
      "text/plain": [
       "<Figure size 432x288 with 1 Axes>"
      ]
     },
     "metadata": {
      "needs_background": "light"
     },
     "output_type": "display_data"
    }
   ],
   "source": [
    "Model_Evaluation(tree_model,X_train,y_train,label=\"Decision Tree (entropy based tree) Train\",class0='Term Deposit Not Subscribed',class1='Term Deposit Subscribed')"
   ]
  },
  {
   "cell_type": "code",
   "execution_count": 19,
   "metadata": {},
   "outputs": [
    {
     "name": "stdout",
     "output_type": "stream",
     "text": [
      "\u001b[1mDecision Tree (entropy based tree) Testing Data - Model Evaluation\u001b[0;0m\n",
      "\n",
      "Decision Tree (entropy based tree) Testing Accuracy is: 60.82\n",
      "\u001b[1m\n",
      "\t\t Confusion Matrix\u001b[0;0m\n"
     ]
    },
    {
     "data": {
      "text/html": [
       "<div>\n",
       "<style scoped>\n",
       "    .dataframe tbody tr th:only-of-type {\n",
       "        vertical-align: middle;\n",
       "    }\n",
       "\n",
       "    .dataframe tbody tr th {\n",
       "        vertical-align: top;\n",
       "    }\n",
       "\n",
       "    .dataframe thead th {\n",
       "        text-align: right;\n",
       "    }\n",
       "</style>\n",
       "<table border=\"1\" class=\"dataframe\">\n",
       "  <thead>\n",
       "    <tr style=\"text-align: right;\">\n",
       "      <th></th>\n",
       "      <th>Term Deposit Not Subscribed</th>\n",
       "      <th>Term Deposit Subscribed</th>\n",
       "    </tr>\n",
       "  </thead>\n",
       "  <tbody>\n",
       "    <tr>\n",
       "      <th>Term Deposit Not Subscribed</th>\n",
       "      <td>1692</td>\n",
       "      <td>947</td>\n",
       "    </tr>\n",
       "    <tr>\n",
       "      <th>Term Deposit Subscribed</th>\n",
       "      <td>1125</td>\n",
       "      <td>1525</td>\n",
       "    </tr>\n",
       "  </tbody>\n",
       "</table>\n",
       "</div>"
      ],
      "text/plain": [
       "                             Term Deposit Not Subscribed  \\\n",
       "Term Deposit Not Subscribed                         1692   \n",
       "Term Deposit Subscribed                             1125   \n",
       "\n",
       "                             Term Deposit Subscribed  \n",
       "Term Deposit Not Subscribed                      947  \n",
       "Term Deposit Subscribed                         1525  "
      ]
     },
     "metadata": {},
     "output_type": "display_data"
    },
    {
     "name": "stdout",
     "output_type": "stream",
     "text": [
      "\u001b[1m\n",
      "\t\t Classification Report\n",
      "\u001b[0;0m\n",
      "              precision    recall  f1-score   support\n",
      "\n",
      "           0       0.60      0.64      0.62      2639\n",
      "           1       0.62      0.58      0.60      2650\n",
      "\n",
      "   micro avg       0.61      0.61      0.61      5289\n",
      "   macro avg       0.61      0.61      0.61      5289\n",
      "weighted avg       0.61      0.61      0.61      5289\n",
      "\n",
      "\u001b[1m\n",
      "\t\t\tROC Curve\n",
      "\u001b[0;0m\n"
     ]
    },
    {
     "data": {
      "image/png": "[encoded data removed]",
      "text/plain": [
       "<Figure size 432x288 with 1 Axes>"
      ]
     },
     "metadata": {
      "needs_background": "light"
     },
     "output_type": "display_data"
    }
   ],
   "source": [
    "Model_Evaluation(tree_model,X_test,y_test,label=\"Decision Tree (entropy based tree) Test\",class0='Term Deposit Not Subscribed',class1='Term Deposit Subscribed')"
   ]
  },
  {
   "cell_type": "code",
   "execution_count": 20,
   "metadata": {},
   "outputs": [
    {
     "data": {
      "text/plain": [
       "DecisionTreeClassifier(class_weight=None, criterion='entropy', max_depth=4,\n",
       "            max_features=None, max_leaf_nodes=None,\n",
       "            min_impurity_decrease=0.0, min_impurity_split=None,\n",
       "            min_samples_leaf=5, min_samples_split=2,\n",
       "            min_weight_fraction_leaf=0.0, presort=False, random_state=100,\n",
       "            splitter='best')"
      ]
     },
     "execution_count": 20,
     "metadata": {},
     "output_type": "execute_result"
    }
   ],
   "source": [
    "#Decision Tree with Information\n",
    "clf_entropy4 = DecisionTreeClassifier(criterion = \"entropy\", random_state = 100,\n",
    " max_depth=4, min_samples_leaf=5)\n",
    "clf_entropy4.fit(X_train, y_train)"
   ]
  },
  {
   "cell_type": "code",
   "execution_count": 21,
   "metadata": {},
   "outputs": [
    {
     "name": "stdout",
     "output_type": "stream",
     "text": [
      "\u001b[1mDecision Tree (Max Depth=4) Training Data - Model Evaluation\u001b[0;0m\n",
      "\n",
      "Decision Tree (Max Depth=4) Training Accuracy is: 65.40\n",
      "\u001b[1m\n",
      "\t\t Confusion Matrix\u001b[0;0m\n"
     ]
    },
    {
     "data": {
      "text/html": [
       "<div>\n",
       "<style scoped>\n",
       "    .dataframe tbody tr th:only-of-type {\n",
       "        vertical-align: middle;\n",
       "    }\n",
       "\n",
       "    .dataframe tbody tr th {\n",
       "        vertical-align: top;\n",
       "    }\n",
       "\n",
       "    .dataframe thead th {\n",
       "        text-align: right;\n",
       "    }\n",
       "</style>\n",
       "<table border=\"1\" class=\"dataframe\">\n",
       "  <thead>\n",
       "    <tr style=\"text-align: right;\">\n",
       "      <th></th>\n",
       "      <th>Term Deposit Not Subscribed</th>\n",
       "      <th>Term Deposit Subscribed</th>\n",
       "    </tr>\n",
       "  </thead>\n",
       "  <tbody>\n",
       "    <tr>\n",
       "      <th>Term Deposit Not Subscribed</th>\n",
       "      <td>1813</td>\n",
       "      <td>837</td>\n",
       "    </tr>\n",
       "    <tr>\n",
       "      <th>Term Deposit Subscribed</th>\n",
       "      <td>993</td>\n",
       "      <td>1646</td>\n",
       "    </tr>\n",
       "  </tbody>\n",
       "</table>\n",
       "</div>"
      ],
      "text/plain": [
       "                             Term Deposit Not Subscribed  \\\n",
       "Term Deposit Not Subscribed                         1813   \n",
       "Term Deposit Subscribed                              993   \n",
       "\n",
       "                             Term Deposit Subscribed  \n",
       "Term Deposit Not Subscribed                      837  \n",
       "Term Deposit Subscribed                         1646  "
      ]
     },
     "metadata": {},
     "output_type": "display_data"
    },
    {
     "name": "stdout",
     "output_type": "stream",
     "text": [
      "\u001b[1m\n",
      "\t\t Classification Report\n",
      "\u001b[0;0m\n",
      "              precision    recall  f1-score   support\n",
      "\n",
      "           0       0.65      0.68      0.66      2650\n",
      "           1       0.66      0.62      0.64      2639\n",
      "\n",
      "   micro avg       0.65      0.65      0.65      5289\n",
      "   macro avg       0.65      0.65      0.65      5289\n",
      "weighted avg       0.65      0.65      0.65      5289\n",
      "\n",
      "\u001b[1m\n",
      "\t\t\tROC Curve\n",
      "\u001b[0;0m\n"
     ]
    },
    {
     "data": {
      "image/png": "[encoded data removed]",
      "text/plain": [
       "<Figure size 432x288 with 1 Axes>"
      ]
     },
     "metadata": {
      "needs_background": "light"
     },
     "output_type": "display_data"
    }
   ],
   "source": [
    "Model_Evaluation(clf_entropy4,X_train,y_train,label=\"Decision Tree (Max Depth=4) Train\",class0='Term Deposit Not Subscribed',class1='Term Deposit Subscribed')"
   ]
  },
  {
   "cell_type": "code",
   "execution_count": 22,
   "metadata": {},
   "outputs": [
    {
     "name": "stdout",
     "output_type": "stream",
     "text": [
      "\u001b[1mDecision Tree (Max Depth=4) Testing Data - Model Evaluation\u001b[0;0m\n",
      "\n",
      "Decision Tree (Max Depth=4) Testing Accuracy is: 64.68\n",
      "\u001b[1m\n",
      "\t\t Confusion Matrix\u001b[0;0m\n"
     ]
    },
    {
     "data": {
      "text/html": [
       "<div>\n",
       "<style scoped>\n",
       "    .dataframe tbody tr th:only-of-type {\n",
       "        vertical-align: middle;\n",
       "    }\n",
       "\n",
       "    .dataframe tbody tr th {\n",
       "        vertical-align: top;\n",
       "    }\n",
       "\n",
       "    .dataframe thead th {\n",
       "        text-align: right;\n",
       "    }\n",
       "</style>\n",
       "<table border=\"1\" class=\"dataframe\">\n",
       "  <thead>\n",
       "    <tr style=\"text-align: right;\">\n",
       "      <th></th>\n",
       "      <th>Term Deposit Not Subscribed</th>\n",
       "      <th>Term Deposit Subscribed</th>\n",
       "    </tr>\n",
       "  </thead>\n",
       "  <tbody>\n",
       "    <tr>\n",
       "      <th>Term Deposit Not Subscribed</th>\n",
       "      <td>1806</td>\n",
       "      <td>833</td>\n",
       "    </tr>\n",
       "    <tr>\n",
       "      <th>Term Deposit Subscribed</th>\n",
       "      <td>1035</td>\n",
       "      <td>1615</td>\n",
       "    </tr>\n",
       "  </tbody>\n",
       "</table>\n",
       "</div>"
      ],
      "text/plain": [
       "                             Term Deposit Not Subscribed  \\\n",
       "Term Deposit Not Subscribed                         1806   \n",
       "Term Deposit Subscribed                             1035   \n",
       "\n",
       "                             Term Deposit Subscribed  \n",
       "Term Deposit Not Subscribed                      833  \n",
       "Term Deposit Subscribed                         1615  "
      ]
     },
     "metadata": {},
     "output_type": "display_data"
    },
    {
     "name": "stdout",
     "output_type": "stream",
     "text": [
      "\u001b[1m\n",
      "\t\t Classification Report\n",
      "\u001b[0;0m\n",
      "              precision    recall  f1-score   support\n",
      "\n",
      "           0       0.64      0.68      0.66      2639\n",
      "           1       0.66      0.61      0.63      2650\n",
      "\n",
      "   micro avg       0.65      0.65      0.65      5289\n",
      "   macro avg       0.65      0.65      0.65      5289\n",
      "weighted avg       0.65      0.65      0.65      5289\n",
      "\n",
      "\u001b[1m\n",
      "\t\t\tROC Curve\n",
      "\u001b[0;0m\n"
     ]
    },
    {
     "data": {
      "image/png": "[encoded data removed]",
      "text/plain": [
       "<Figure size 432x288 with 1 Axes>"
      ]
     },
     "metadata": {
      "needs_background": "light"
     },
     "output_type": "display_data"
    }
   ],
   "source": [
    "Model_Evaluation(clf_entropy4,X_test,y_test,label=\"Decision Tree (Max Depth=4) Test\",class0='Term Deposit Not Subscribed',class1='Term Deposit Subscribed')"
   ]
  },
  {
   "cell_type": "code",
   "execution_count": 23,
   "metadata": {},
   "outputs": [
    {
     "data": {
      "text/plain": [
       "AdaBoostClassifier(algorithm='SAMME.R',\n",
       "          base_estimator=DecisionTreeClassifier(class_weight=None, criterion='entropy', max_depth=4,\n",
       "            max_features=None, max_leaf_nodes=None,\n",
       "            min_impurity_decrease=0.0, min_impurity_split=None,\n",
       "            min_samples_leaf=5, min_samples_split=2,\n",
       "            min_weight_fraction_leaf=0.0, presort=False, random_state=100,\n",
       "            splitter='best'),\n",
       "          learning_rate=1, n_estimators=400, random_state=None)"
      ]
     },
     "execution_count": 23,
     "metadata": {},
     "output_type": "execute_result"
    }
   ],
   "source": [
    "#Ada boost\n",
    "#Decision Tree with Information with Adaboost\n",
    "clf_entropy_no_ada = DecisionTreeClassifier(criterion = \"entropy\", random_state = 100,\n",
    " max_depth=4, min_samples_leaf=5)\n",
    "clf_entropy_no_ada.fit(X_train, y_train)\n",
    "\n",
    "clf_entropy_ada = AdaBoostClassifier(base_estimator= clf_entropy_no_ada,n_estimators=400,learning_rate=1)\n",
    "clf_entropy_ada.fit(X_train, y_train)"
   ]
  },
  {
   "cell_type": "code",
   "execution_count": 24,
   "metadata": {},
   "outputs": [
    {
     "name": "stdout",
     "output_type": "stream",
     "text": [
      "\u001b[1mAda Boosted Decision Tree Training Data - Model Evaluation\u001b[0;0m\n",
      "\n",
      "Ada Boosted Decision Tree Training Accuracy is: 99.30\n",
      "\u001b[1m\n",
      "\t\t Confusion Matrix\u001b[0;0m\n"
     ]
    },
    {
     "data": {
      "text/html": [
       "<div>\n",
       "<style scoped>\n",
       "    .dataframe tbody tr th:only-of-type {\n",
       "        vertical-align: middle;\n",
       "    }\n",
       "\n",
       "    .dataframe tbody tr th {\n",
       "        vertical-align: top;\n",
       "    }\n",
       "\n",
       "    .dataframe thead th {\n",
       "        text-align: right;\n",
       "    }\n",
       "</style>\n",
       "<table border=\"1\" class=\"dataframe\">\n",
       "  <thead>\n",
       "    <tr style=\"text-align: right;\">\n",
       "      <th></th>\n",
       "      <th>Term Deposit Not Subscribed</th>\n",
       "      <th>Term Deposit Subscribed</th>\n",
       "    </tr>\n",
       "  </thead>\n",
       "  <tbody>\n",
       "    <tr>\n",
       "      <th>Term Deposit Not Subscribed</th>\n",
       "      <td>2636</td>\n",
       "      <td>14</td>\n",
       "    </tr>\n",
       "    <tr>\n",
       "      <th>Term Deposit Subscribed</th>\n",
       "      <td>23</td>\n",
       "      <td>2616</td>\n",
       "    </tr>\n",
       "  </tbody>\n",
       "</table>\n",
       "</div>"
      ],
      "text/plain": [
       "                             Term Deposit Not Subscribed  \\\n",
       "Term Deposit Not Subscribed                         2636   \n",
       "Term Deposit Subscribed                               23   \n",
       "\n",
       "                             Term Deposit Subscribed  \n",
       "Term Deposit Not Subscribed                       14  \n",
       "Term Deposit Subscribed                         2616  "
      ]
     },
     "metadata": {},
     "output_type": "display_data"
    },
    {
     "name": "stdout",
     "output_type": "stream",
     "text": [
      "\u001b[1m\n",
      "\t\t Classification Report\n",
      "\u001b[0;0m\n",
      "              precision    recall  f1-score   support\n",
      "\n",
      "           0       0.99      0.99      0.99      2650\n",
      "           1       0.99      0.99      0.99      2639\n",
      "\n",
      "   micro avg       0.99      0.99      0.99      5289\n",
      "   macro avg       0.99      0.99      0.99      5289\n",
      "weighted avg       0.99      0.99      0.99      5289\n",
      "\n",
      "\u001b[1m\n",
      "\t\t\tROC Curve\n",
      "\u001b[0;0m\n"
     ]
    },
    {
     "data": {
      "image/png": "[encoded data removed]",
      "text/plain": [
       "<Figure size 432x288 with 1 Axes>"
      ]
     },
     "metadata": {
      "needs_background": "light"
     },
     "output_type": "display_data"
    }
   ],
   "source": [
    "Model_Evaluation(clf_entropy_ada,X_train,y_train,label=\"Ada Boosted Decision Tree Train\",class0='Term Deposit Not Subscribed',class1='Term Deposit Subscribed')"
   ]
  },
  {
   "cell_type": "code",
   "execution_count": 25,
   "metadata": {},
   "outputs": [
    {
     "name": "stdout",
     "output_type": "stream",
     "text": [
      "\u001b[1mAda Boosted Decision Tree Testing Data - Model Evaluation\u001b[0;0m\n",
      "\n",
      "Ada Boosted Decision Tree Testing Accuracy is: 60.16\n",
      "\u001b[1m\n",
      "\t\t Confusion Matrix\u001b[0;0m\n"
     ]
    },
    {
     "data": {
      "text/html": [
       "<div>\n",
       "<style scoped>\n",
       "    .dataframe tbody tr th:only-of-type {\n",
       "        vertical-align: middle;\n",
       "    }\n",
       "\n",
       "    .dataframe tbody tr th {\n",
       "        vertical-align: top;\n",
       "    }\n",
       "\n",
       "    .dataframe thead th {\n",
       "        text-align: right;\n",
       "    }\n",
       "</style>\n",
       "<table border=\"1\" class=\"dataframe\">\n",
       "  <thead>\n",
       "    <tr style=\"text-align: right;\">\n",
       "      <th></th>\n",
       "      <th>Term Deposit Not Subscribed</th>\n",
       "      <th>Term Deposit Subscribed</th>\n",
       "    </tr>\n",
       "  </thead>\n",
       "  <tbody>\n",
       "    <tr>\n",
       "      <th>Term Deposit Not Subscribed</th>\n",
       "      <td>1599</td>\n",
       "      <td>1040</td>\n",
       "    </tr>\n",
       "    <tr>\n",
       "      <th>Term Deposit Subscribed</th>\n",
       "      <td>1067</td>\n",
       "      <td>1583</td>\n",
       "    </tr>\n",
       "  </tbody>\n",
       "</table>\n",
       "</div>"
      ],
      "text/plain": [
       "                             Term Deposit Not Subscribed  \\\n",
       "Term Deposit Not Subscribed                         1599   \n",
       "Term Deposit Subscribed                             1067   \n",
       "\n",
       "                             Term Deposit Subscribed  \n",
       "Term Deposit Not Subscribed                     1040  \n",
       "Term Deposit Subscribed                         1583  "
      ]
     },
     "metadata": {},
     "output_type": "display_data"
    },
    {
     "name": "stdout",
     "output_type": "stream",
     "text": [
      "\u001b[1m\n",
      "\t\t Classification Report\n",
      "\u001b[0;0m\n",
      "              precision    recall  f1-score   support\n",
      "\n",
      "           0       0.60      0.61      0.60      2639\n",
      "           1       0.60      0.60      0.60      2650\n",
      "\n",
      "   micro avg       0.60      0.60      0.60      5289\n",
      "   macro avg       0.60      0.60      0.60      5289\n",
      "weighted avg       0.60      0.60      0.60      5289\n",
      "\n",
      "\u001b[1m\n",
      "\t\t\tROC Curve\n",
      "\u001b[0;0m\n"
     ]
    },
    {
     "data": {
      "image/png": "[encoded data removed]",
      "text/plain": [
       "<Figure size 432x288 with 1 Axes>"
      ]
     },
     "metadata": {
      "needs_background": "light"
     },
     "output_type": "display_data"
    }
   ],
   "source": [
    "Model_Evaluation(clf_entropy_ada,X_test,y_test,label=\"Ada Boosted Decision Tree Test\",class0='Term Deposit Not Subscribed',class1='Term Deposit Subscribed')"
   ]
  },
  {
   "cell_type": "code",
   "execution_count": 28,
   "metadata": {},
   "outputs": [
    {
     "name": "stdout",
     "output_type": "stream",
     "text": [
      "[0.56710775 0.56521739 0.56899811 0.61814745 0.59546314 0.60869565\n",
      " 0.60491493 0.61625709 0.60113422 0.59848485]\n",
      "Accuracy of Model with Cross Validation is: 59.444205762731286\n"
     ]
    }
   ],
   "source": [
    "#Ada boost\n",
    "#Decision Tree with Information with Adaboost\n",
    "clf_entropy_no_ada = DecisionTreeClassifier(criterion = \"entropy\", random_state = 100,\n",
    " max_depth=4, min_samples_leaf=5)\n",
    "\n",
    "clf_entropy_ada_cross = AdaBoostClassifier(base_estimator= clf_entropy_no_ada,n_estimators=400,learning_rate=1)\n",
    "\n",
    "accuracy = cross_val_score(clf_entropy_ada_cross, X_train, y_train, scoring='accuracy', cv = 10)\n",
    "print(accuracy)\n",
    "#get the mean of each fold \n",
    "print(\"Accuracy of Model with Cross Validation is:\",accuracy.mean() * 100)"
   ]
  },
  {
   "cell_type": "code",
   "execution_count": null,
   "metadata": {},
   "outputs": [],
   "source": []
  }
 ],
 "metadata": {
  "kernelspec": {
   "display_name": "Python 3",
   "language": "python",
   "name": "python3"
  },
  "language_info": {
   "codemirror_mode": {
    "name": "ipython",
    "version": 3
   },
   "file_extension": ".py",
   "mimetype": "text/x-python",
   "name": "python",
   "nbconvert_exporter": "python",
   "pygments_lexer": "ipython3",
   "version": "3.7.2"
  }
 },
 "nbformat": 4,
 "nbformat_minor": 2
}
