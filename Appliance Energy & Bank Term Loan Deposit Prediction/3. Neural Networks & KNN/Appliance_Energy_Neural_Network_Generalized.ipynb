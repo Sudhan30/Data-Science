{
 "cells": [
  {
   "cell_type": "code",
   "execution_count": 0,
   "metadata": {
    "colab": {},
    "colab_type": "code",
    "id": "uxUhsfLRJy1W"
   },
   "outputs": [],
   "source": [
    "import numpy as np\n",
    "import pandas as pd\n",
    "import seaborn as sns\n",
    "import tensorflow.compat.v1 as tf\n",
    "import math\n",
    "import matplotlib.pyplot as plt\n",
    "from google.colab import files\n",
    "from tensorflow.python.framework import ops\n",
    "from sklearn.model_selection import train_test_split"
   ]
  },
  {
   "cell_type": "code",
   "execution_count": 2,
   "metadata": {
    "colab": {
     "base_uri": "https://localhost:8080/",
     "height": 223
    },
    "colab_type": "code",
    "executionInfo": {
     "elapsed": 2121,
     "status": "ok",
     "timestamp": 1572725645400,
     "user": {
      "displayName": "Sudharsana Rajasekaran",
      "photoUrl": "https://lh6.googleusercontent.com/-Snh27ThCViI/AAAAAAAAAAI/AAAAAAAACSk/On4b8CIBm2U/s64/photo.jpg",
      "userId": "07733356798731725121"
     },
     "user_tz": 300
    },
    "id": "95YtENEfJ4jb",
    "outputId": "55777604-5149-493e-fb2a-280edf3f103a"
   },
   "outputs": [
    {
     "data": {
      "text/html": [
       "<div>\n",
       "<style scoped>\n",
       "    .dataframe tbody tr th:only-of-type {\n",
       "        vertical-align: middle;\n",
       "    }\n",
       "\n",
       "    .dataframe tbody tr th {\n",
       "        vertical-align: top;\n",
       "    }\n",
       "\n",
       "    .dataframe thead th {\n",
       "        text-align: right;\n",
       "    }\n",
       "</style>\n",
       "<table border=\"1\" class=\"dataframe\">\n",
       "  <thead>\n",
       "    <tr style=\"text-align: right;\">\n",
       "      <th></th>\n",
       "      <th>Appliances</th>\n",
       "      <th>lights</th>\n",
       "      <th>T1</th>\n",
       "      <th>RH_1</th>\n",
       "      <th>T2</th>\n",
       "      <th>RH_2</th>\n",
       "      <th>T3</th>\n",
       "      <th>RH_3</th>\n",
       "      <th>T4</th>\n",
       "      <th>RH_4</th>\n",
       "      <th>T5</th>\n",
       "      <th>RH_5</th>\n",
       "      <th>T6</th>\n",
       "      <th>RH_6</th>\n",
       "      <th>T7</th>\n",
       "      <th>RH_7</th>\n",
       "      <th>T8</th>\n",
       "      <th>RH_8</th>\n",
       "      <th>T9</th>\n",
       "      <th>RH_9</th>\n",
       "      <th>T_out</th>\n",
       "      <th>Press_mm_hg</th>\n",
       "      <th>RH_out</th>\n",
       "      <th>Windspeed</th>\n",
       "      <th>Visibility</th>\n",
       "      <th>Tdewpoint</th>\n",
       "      <th>rv1</th>\n",
       "      <th>rv2</th>\n",
       "    </tr>\n",
       "  </thead>\n",
       "  <tbody>\n",
       "    <tr>\n",
       "      <th>0</th>\n",
       "      <td>60</td>\n",
       "      <td>30</td>\n",
       "      <td>19.89</td>\n",
       "      <td>47.596667</td>\n",
       "      <td>19.2</td>\n",
       "      <td>44.790000</td>\n",
       "      <td>19.79</td>\n",
       "      <td>44.730000</td>\n",
       "      <td>19.000000</td>\n",
       "      <td>45.566667</td>\n",
       "      <td>17.166667</td>\n",
       "      <td>55.20</td>\n",
       "      <td>7.026667</td>\n",
       "      <td>84.256667</td>\n",
       "      <td>17.200000</td>\n",
       "      <td>41.626667</td>\n",
       "      <td>18.2</td>\n",
       "      <td>48.900000</td>\n",
       "      <td>17.033333</td>\n",
       "      <td>45.53</td>\n",
       "      <td>6.600000</td>\n",
       "      <td>733.5</td>\n",
       "      <td>92.0</td>\n",
       "      <td>7.000000</td>\n",
       "      <td>63.000000</td>\n",
       "      <td>5.3</td>\n",
       "      <td>13.275433</td>\n",
       "      <td>13.275433</td>\n",
       "    </tr>\n",
       "    <tr>\n",
       "      <th>1</th>\n",
       "      <td>60</td>\n",
       "      <td>30</td>\n",
       "      <td>19.89</td>\n",
       "      <td>46.693333</td>\n",
       "      <td>19.2</td>\n",
       "      <td>44.722500</td>\n",
       "      <td>19.79</td>\n",
       "      <td>44.790000</td>\n",
       "      <td>19.000000</td>\n",
       "      <td>45.992500</td>\n",
       "      <td>17.166667</td>\n",
       "      <td>55.20</td>\n",
       "      <td>6.833333</td>\n",
       "      <td>84.063333</td>\n",
       "      <td>17.200000</td>\n",
       "      <td>41.560000</td>\n",
       "      <td>18.2</td>\n",
       "      <td>48.863333</td>\n",
       "      <td>17.066667</td>\n",
       "      <td>45.56</td>\n",
       "      <td>6.483333</td>\n",
       "      <td>733.6</td>\n",
       "      <td>92.0</td>\n",
       "      <td>6.666667</td>\n",
       "      <td>59.166667</td>\n",
       "      <td>5.2</td>\n",
       "      <td>18.606195</td>\n",
       "      <td>18.606195</td>\n",
       "    </tr>\n",
       "    <tr>\n",
       "      <th>2</th>\n",
       "      <td>50</td>\n",
       "      <td>30</td>\n",
       "      <td>19.89</td>\n",
       "      <td>46.300000</td>\n",
       "      <td>19.2</td>\n",
       "      <td>44.626667</td>\n",
       "      <td>19.79</td>\n",
       "      <td>44.933333</td>\n",
       "      <td>18.926667</td>\n",
       "      <td>45.890000</td>\n",
       "      <td>17.166667</td>\n",
       "      <td>55.09</td>\n",
       "      <td>6.560000</td>\n",
       "      <td>83.156667</td>\n",
       "      <td>17.200000</td>\n",
       "      <td>41.433333</td>\n",
       "      <td>18.2</td>\n",
       "      <td>48.730000</td>\n",
       "      <td>17.000000</td>\n",
       "      <td>45.50</td>\n",
       "      <td>6.366667</td>\n",
       "      <td>733.7</td>\n",
       "      <td>92.0</td>\n",
       "      <td>6.333333</td>\n",
       "      <td>55.333333</td>\n",
       "      <td>5.1</td>\n",
       "      <td>28.642668</td>\n",
       "      <td>28.642668</td>\n",
       "    </tr>\n",
       "    <tr>\n",
       "      <th>3</th>\n",
       "      <td>50</td>\n",
       "      <td>40</td>\n",
       "      <td>19.89</td>\n",
       "      <td>46.066667</td>\n",
       "      <td>19.2</td>\n",
       "      <td>44.590000</td>\n",
       "      <td>19.79</td>\n",
       "      <td>45.000000</td>\n",
       "      <td>18.890000</td>\n",
       "      <td>45.723333</td>\n",
       "      <td>17.166667</td>\n",
       "      <td>55.09</td>\n",
       "      <td>6.433333</td>\n",
       "      <td>83.423333</td>\n",
       "      <td>17.133333</td>\n",
       "      <td>41.290000</td>\n",
       "      <td>18.1</td>\n",
       "      <td>48.590000</td>\n",
       "      <td>17.000000</td>\n",
       "      <td>45.40</td>\n",
       "      <td>6.250000</td>\n",
       "      <td>733.8</td>\n",
       "      <td>92.0</td>\n",
       "      <td>6.000000</td>\n",
       "      <td>51.500000</td>\n",
       "      <td>5.0</td>\n",
       "      <td>45.410389</td>\n",
       "      <td>45.410389</td>\n",
       "    </tr>\n",
       "    <tr>\n",
       "      <th>4</th>\n",
       "      <td>60</td>\n",
       "      <td>40</td>\n",
       "      <td>19.89</td>\n",
       "      <td>46.333333</td>\n",
       "      <td>19.2</td>\n",
       "      <td>44.530000</td>\n",
       "      <td>19.79</td>\n",
       "      <td>45.000000</td>\n",
       "      <td>18.890000</td>\n",
       "      <td>45.530000</td>\n",
       "      <td>17.200000</td>\n",
       "      <td>55.09</td>\n",
       "      <td>6.366667</td>\n",
       "      <td>84.893333</td>\n",
       "      <td>17.200000</td>\n",
       "      <td>41.230000</td>\n",
       "      <td>18.1</td>\n",
       "      <td>48.590000</td>\n",
       "      <td>17.000000</td>\n",
       "      <td>45.40</td>\n",
       "      <td>6.133333</td>\n",
       "      <td>733.9</td>\n",
       "      <td>92.0</td>\n",
       "      <td>5.666667</td>\n",
       "      <td>47.666667</td>\n",
       "      <td>4.9</td>\n",
       "      <td>10.084097</td>\n",
       "      <td>10.084097</td>\n",
       "    </tr>\n",
       "  </tbody>\n",
       "</table>\n",
       "</div>"
      ],
      "text/plain": [
       "   Appliances  lights     T1  ...  Tdewpoint        rv1        rv2\n",
       "0          60      30  19.89  ...        5.3  13.275433  13.275433\n",
       "1          60      30  19.89  ...        5.2  18.606195  18.606195\n",
       "2          50      30  19.89  ...        5.1  28.642668  28.642668\n",
       "3          50      40  19.89  ...        5.0  45.410389  45.410389\n",
       "4          60      40  19.89  ...        4.9  10.084097  10.084097\n",
       "\n",
       "[5 rows x 28 columns]"
      ]
     },
     "execution_count": 2,
     "metadata": {
      "tags": []
     },
     "output_type": "execute_result"
    }
   ],
   "source": [
    "#Loading Energy consumption Dataset\n",
    "#file = files.upload()\n",
    "df = pd.read_csv(\"energydata_complete.csv\",sep=',')\n",
    "#printing the head of the Dataset\n",
    "df=df.drop(['date'], axis=1) #Dropping Date Column in the Dataset\n",
    "df.head()"
   ]
  },
  {
   "cell_type": "code",
   "execution_count": 0,
   "metadata": {
    "colab": {},
    "colab_type": "code",
    "id": "kYtdl-y9KCRm"
   },
   "outputs": [],
   "source": [
    "#Converting Energy consumption into a Binary Classification Problem\n",
    "df['Appliances']=(df['Appliances']>int(df['Appliances'].mean())).astype(int)\n",
    "#Splitting x and y\n",
    "y=df['Appliances'].values\n",
    "X=df.drop(['Appliances'], axis=1).values\n",
    "#X=df[['lights', 'T1', 'RH_1', 'T2', 'RH_2', 'T3',]].values\n",
    "#Test Train Split\n",
    "X_train, X_test, y_train, y_test = train_test_split(X, y, test_size = 0.30,random_state=100)"
   ]
  },
  {
   "cell_type": "code",
   "execution_count": 0,
   "metadata": {
    "colab": {},
    "colab_type": "code",
    "id": "k-0ilh1Hd1Tg"
   },
   "outputs": [],
   "source": [
    "def featureNormalize(X):\n",
    "    X_norm = X\n",
    "    mu    = np.zeros((1, X.shape[1]))\n",
    "    sigma = np.zeros((1, X.shape[1]))\n",
    "    for i in range(X.shape[1]):\n",
    "      mu[:,i] = np.mean(X[:,i])\n",
    "      sigma[:,i] = np.std(X[:,i])\n",
    "      X_norm[:,i] = (X[:,i] - float(mu[:,i]))/float(sigma[:,i])\n",
    "    return X_norm, mu, sigma"
   ]
  },
  {
   "cell_type": "code",
   "execution_count": 0,
   "metadata": {
    "colab": {},
    "colab_type": "code",
    "id": "O-qOzOTqeKD2"
   },
   "outputs": [],
   "source": [
    "X_norm, mu, sigma = featureNormalize(X_train)\n",
    "X_train = X_norm\n",
    "X_test = (X_test - mu)/sigma"
   ]
  },
  {
   "cell_type": "code",
   "execution_count": 6,
   "metadata": {
    "colab": {
     "base_uri": "https://localhost:8080/",
     "height": 51
    },
    "colab_type": "code",
    "executionInfo": {
     "elapsed": 642,
     "status": "ok",
     "timestamp": 1572725650084,
     "user": {
      "displayName": "Sudharsana Rajasekaran",
      "photoUrl": "https://lh6.googleusercontent.com/-Snh27ThCViI/AAAAAAAAAAI/AAAAAAAACSk/On4b8CIBm2U/s64/photo.jpg",
      "userId": "07733356798731725121"
     },
     "user_tz": 300
    },
    "id": "-KTd9Lu4KIXQ",
    "outputId": "bab92342-fa7b-4f7c-a597-01178e7224e7"
   },
   "outputs": [
    {
     "name": "stdout",
     "output_type": "stream",
     "text": [
      "(13814, 27) (13814,)\n",
      "(5921, 27) (5921,)\n"
     ]
    }
   ],
   "source": [
    "print (X_train.shape, y_train.shape)\n",
    "print (X_test.shape, y_test.shape)"
   ]
  },
  {
   "cell_type": "code",
   "execution_count": 0,
   "metadata": {
    "colab": {},
    "colab_type": "code",
    "id": "IWedwuq-MJle"
   },
   "outputs": [],
   "source": [
    "X_train_flatten  = X_train.reshape(X_train.shape[0],-1).T\n",
    "y_train_flatten = y_train.reshape(y_train.shape[0],-1).T\n",
    "X_test_flatten  = X_test.reshape(X_test.shape[0],-1).T\n",
    "y_test_flatten = y_test.reshape(y_test.shape[0],-1).T"
   ]
  },
  {
   "cell_type": "code",
   "execution_count": 0,
   "metadata": {
    "colab": {},
    "colab_type": "code",
    "id": "r56dNWH3pXTM"
   },
   "outputs": [],
   "source": [
    "X_train = X_train_flatten\n",
    "X_test = X_test_flatten\n",
    "y_train = y_train_flatten\n",
    "y_test = y_test_flatten"
   ]
  },
  {
   "cell_type": "code",
   "execution_count": 9,
   "metadata": {
    "colab": {
     "base_uri": "https://localhost:8080/",
     "height": 51
    },
    "colab_type": "code",
    "executionInfo": {
     "elapsed": 374,
     "status": "ok",
     "timestamp": 1572725650560,
     "user": {
      "displayName": "Sudharsana Rajasekaran",
      "photoUrl": "https://lh6.googleusercontent.com/-Snh27ThCViI/AAAAAAAAAAI/AAAAAAAACSk/On4b8CIBm2U/s64/photo.jpg",
      "userId": "07733356798731725121"
     },
     "user_tz": 300
    },
    "id": "gGUCFeMPyNVz",
    "outputId": "5733e496-43b3-4af2-b15a-cce8ceeb17df"
   },
   "outputs": [
    {
     "name": "stdout",
     "output_type": "stream",
     "text": [
      "(27, 13814) (1, 13814)\n",
      "(27, 5921) (1, 5921)\n"
     ]
    }
   ],
   "source": [
    "print (X_train.shape, y_train.shape)\n",
    "print (X_test.shape, y_test.shape)"
   ]
  },
  {
   "cell_type": "code",
   "execution_count": 0,
   "metadata": {
    "colab": {},
    "colab_type": "code",
    "id": "Qs_Zs08YKKDL"
   },
   "outputs": [],
   "source": [
    "@tf.function\n",
    "def create_placeholders(n_x, n_y):\n",
    "  X = tf.placeholder(tf.float32,[n_x,None]) # Since we have 27 features as input\n",
    "  y = tf.placeholder(tf.float32,[n_y,None])  # Since we have 1 outut labels\n",
    "  return X,y"
   ]
  },
  {
   "cell_type": "code",
   "execution_count": 0,
   "metadata": {
    "colab": {},
    "colab_type": "code",
    "id": "7efQJravP7MH"
   },
   "outputs": [],
   "source": [
    "def initialize_parameters(layer_dims):\n",
    "  tf.set_random_seed(1)  \n",
    "  parameters = {}\n",
    "  L = len(layer_dims)       \n",
    "\n",
    "  for l in range(1, L):\n",
    "    #Intializing Parameters\n",
    "    parameters['W' + str(l)] = tf.get_variable('W' + str(l) ,shape = [layer_dims[l],layer_dims[l-1]],initializer = tf.initializers.glorot_normal())\n",
    "    parameters['b' + str(l)] = tf.get_variable('b' + str(l) ,shape = [layer_dims[l],1],initializer = tf.zeros_initializer)\n",
    " \n",
    "  return parameters"
   ]
  },
  {
   "cell_type": "code",
   "execution_count": 0,
   "metadata": {
    "colab": {},
    "colab_type": "code",
    "id": "uLlKNVVu6lY7"
   },
   "outputs": [],
   "source": [
    "@tf.function\n",
    "def relu(Z):  \n",
    "    A = tf.nn.relu(Z)\n",
    "    cache = Z \n",
    "    return A, cache"
   ]
  },
  {
   "cell_type": "code",
   "execution_count": 0,
   "metadata": {
    "colab": {},
    "colab_type": "code",
    "id": "MAhv3d6e-v_A"
   },
   "outputs": [],
   "source": [
    "@tf.function\n",
    "def sigmoid(Z):\n",
    "    A = tf.nn.sigmoid(Z)\n",
    "    cache = Z\n",
    "    \n",
    "    return A, cache"
   ]
  },
  {
   "cell_type": "code",
   "execution_count": 0,
   "metadata": {
    "colab": {},
    "colab_type": "code",
    "id": "k32JAIwOY5cw"
   },
   "outputs": [],
   "source": [
    "def linear_forward(A, W, b):\n",
    "    \n",
    "    Z = tf.matmul(W,A) + b\n",
    "\n",
    "    cache = (A, W, b)\n",
    "    \n",
    "    return Z, cache"
   ]
  },
  {
   "cell_type": "code",
   "execution_count": 0,
   "metadata": {
    "colab": {},
    "colab_type": "code",
    "id": "mz2eyLAX3EoT"
   },
   "outputs": [],
   "source": [
    "@tf.function\n",
    "def linear_activation_forward(A_prev, W, b, activation):\n",
    "\n",
    "  if activation == \"sigmoid\":\n",
    "      # Inputs: \"A_prev, W, b\". Outputs: \"A, activation_cache\".\n",
    "      Z, linear_cache = linear_forward(A_prev, W, b)\n",
    "      A, activation_cache = sigmoid(Z)\n",
    "\n",
    "  elif activation == \"relu\":\n",
    "      # Inputs: \"A_prev, W, b\". Outputs: \"A, activation_cache\".\n",
    "      Z, linear_cache = linear_forward(A_prev, W, b)\n",
    "      A, activation_cache = relu(Z)\n",
    "\n",
    "  cache = (linear_cache, activation_cache)\n",
    "\n",
    "  return A, cache"
   ]
  },
  {
   "cell_type": "code",
   "execution_count": 0,
   "metadata": {
    "colab": {},
    "colab_type": "code",
    "id": "lC1EoKtm3MPX"
   },
   "outputs": [],
   "source": [
    "@tf.function\n",
    "def L_model_forward(X, parameters):\n",
    "    caches = []\n",
    "    A = X\n",
    "    L = len(parameters) // 2                  # number of layers in the neural network\n",
    "    \n",
    "    # Implement [LINEAR -> RELU]*(L-1). Add \"cache\" to the \"caches\" list.\n",
    "    for l in range(1, L):\n",
    "        A_prev = A \n",
    "        A, cache = linear_activation_forward(A_prev, parameters['W' + str(l)], parameters['b' + str(l)], activation=\"relu\")\n",
    "        caches.append(cache)\n",
    "    \n",
    "    # Implement LINEAR -> SIGMOID. Add \"cache\" to the \"caches\" list.\n",
    "    AL, cache = linear_activation_forward(A, parameters['W' + str(L)], parameters['b' + str(L)], activation=\"sigmoid\")\n",
    "    caches.append(cache)\n",
    "    \n",
    "    #assert(AL.shape == (1,X.shape[1]))\n",
    "            \n",
    "    return AL, caches"
   ]
  },
  {
   "cell_type": "code",
   "execution_count": 0,
   "metadata": {
    "colab": {},
    "colab_type": "code",
    "id": "_RnalVfKklTl"
   },
   "outputs": [],
   "source": [
    "@tf.function\n",
    "def compute_cost(AL, Y):\n",
    "    logits = tf.transpose(AL)\n",
    "    labels = tf.transpose(Y)\n",
    "    cost = tf.reduce_mean(tf.math.squared_difference(logits,labels))\n",
    "    return cost"
   ]
  },
  {
   "cell_type": "code",
   "execution_count": 0,
   "metadata": {
    "colab": {},
    "colab_type": "code",
    "id": "uEMmUkVkixx5"
   },
   "outputs": [],
   "source": [
    "### CONSTANTS ###\n",
    "layers_dims = [27, 20, 10, 5, 1] #  4-layer model"
   ]
  },
  {
   "cell_type": "code",
   "execution_count": 19,
   "metadata": {
    "colab": {
     "base_uri": "https://localhost:8080/",
     "height": 71
    },
    "colab_type": "code",
    "executionInfo": {
     "elapsed": 2819,
     "status": "ok",
     "timestamp": 1572725658481,
     "user": {
      "displayName": "Sudharsana Rajasekaran",
      "photoUrl": "https://lh6.googleusercontent.com/-Snh27ThCViI/AAAAAAAAAAI/AAAAAAAACSk/On4b8CIBm2U/s64/photo.jpg",
      "userId": "07733356798731725121"
     },
     "user_tz": 300
    },
    "id": "UG5glkEXRZu7",
    "outputId": "80b5c8da-dc89-4f34-b78c-ad71c90aaf1e"
   },
   "outputs": [
    {
     "name": "stdout",
     "output_type": "stream",
     "text": [
      "cost = Tensor(\"PartitionedCall_2:0\", shape=(), dtype=float32)\n",
      "{'W1': <tf.Variable 'W1:0' shape=(20, 27) dtype=float32_ref>, 'b1': <tf.Variable 'b1:0' shape=(20, 1) dtype=float32_ref>, 'W2': <tf.Variable 'W2:0' shape=(10, 20) dtype=float32_ref>, 'b2': <tf.Variable 'b2:0' shape=(10, 1) dtype=float32_ref>, 'W3': <tf.Variable 'W3:0' shape=(5, 10) dtype=float32_ref>, 'b3': <tf.Variable 'b3:0' shape=(5, 1) dtype=float32_ref>, 'W4': <tf.Variable 'W4:0' shape=(1, 5) dtype=float32_ref>, 'b4': <tf.Variable 'b4:0' shape=(1, 1) dtype=float32_ref>}\n"
     ]
    }
   ],
   "source": [
    "tf.reset_default_graph()\n",
    "\n",
    "with tf.Session() as sess:\n",
    "    X, Y = create_placeholders(27,1)\n",
    "    parameters = initialize_parameters(layers_dims)\n",
    "    AL, caches = L_model_forward(X, parameters)\n",
    "    cost = compute_cost(AL, Y)\n",
    "    print(\"cost = \" + str(cost))\n",
    "    print(parameters)"
   ]
  },
  {
   "cell_type": "code",
   "execution_count": 0,
   "metadata": {
    "colab": {},
    "colab_type": "code",
    "id": "e1tajQWXoQnu"
   },
   "outputs": [],
   "source": [
    "def random_mini_batches(X, Y, mini_batch_size = 64, seed = 0):\n",
    "   \n",
    "    m = X.shape[1]                 # number of training examples\n",
    "    mini_batches = []\n",
    "    np.random.seed(seed)\n",
    "    \n",
    "    # Step 1: Shuffle (X, Y)\n",
    "    permutation = list(np.random.permutation(m))\n",
    "    shuffled_X = X[:, permutation]\n",
    "    shuffled_Y = Y[:, permutation].reshape((Y.shape[0],m))\n",
    "\n",
    "    # Step 2: Partition (shuffled_X, shuffled_Y). Minus the end case.\n",
    "    num_complete_minibatches = math.floor(m/mini_batch_size) # number of mini batches of size mini_batch_size in your partitionning\n",
    "    for k in range(0, num_complete_minibatches):\n",
    "        mini_batch_X = shuffled_X[:, k * mini_batch_size : k * mini_batch_size + mini_batch_size]\n",
    "        mini_batch_Y = shuffled_Y[:, k * mini_batch_size : k * mini_batch_size + mini_batch_size]\n",
    "        mini_batch = (mini_batch_X, mini_batch_Y)\n",
    "        mini_batches.append(mini_batch)\n",
    "    \n",
    "    # Handling the end case (last mini-batch < mini_batch_size)\n",
    "    if m % mini_batch_size != 0:\n",
    "        mini_batch_X = shuffled_X[:, num_complete_minibatches * mini_batch_size : m]\n",
    "        mini_batch_Y = shuffled_Y[:, num_complete_minibatches * mini_batch_size : m]\n",
    "        mini_batch = (mini_batch_X, mini_batch_Y)\n",
    "        mini_batches.append(mini_batch)\n",
    "    \n",
    "    return mini_batches"
   ]
  },
  {
   "cell_type": "code",
   "execution_count": 0,
   "metadata": {
    "colab": {},
    "colab_type": "code",
    "id": "76oD0HxLQ_hH"
   },
   "outputs": [],
   "source": [
    "def model(X_train, Y_train, X_test, Y_test, layers_dims, learning_rate = 0.01,\n",
    "          num_epochs = 1500, minibatch_size = 32, print_cost = True):\n",
    "\n",
    "    ops.reset_default_graph()                         # to be able to rerun the model without overwriting tf variables\n",
    "    tf.set_random_seed(1)                             # to keep consistent results\n",
    "    seed = 30                                          # to keep consistent results\n",
    "    (n_x, m) = X_train.shape                          # (n_x: input size, m : number of examples in the train set)\n",
    "    n_y = Y_train.shape[0]                            # n_y : output size\n",
    "    costs = []                                        # To keep track of the cost\n",
    "    \n",
    "    # Create Placeholders\n",
    "    X, Y = create_placeholders(n_x, n_y)\n",
    "\n",
    "    # Initialize parameters\n",
    "    parameters = initialize_parameters(layers_dims)\n",
    "    \n",
    "    # Forward propagation\n",
    "    AL, caches = L_model_forward(X, parameters)\n",
    "    \n",
    "    # Cost function\n",
    "    cost = compute_cost(AL, Y)\n",
    "    \n",
    "    # Backpropagation\n",
    "    optimizer = tf.train.AdamOptimizer(learning_rate = learning_rate).minimize(cost)\n",
    "\n",
    "    # Initialize all the variables\n",
    "    init = tf.global_variables_initializer()\n",
    "\n",
    "    # Start the session to compute the tensorflow graph\n",
    "    with tf.Session() as sess:\n",
    "        \n",
    "        # Run the initialization\n",
    "        sess.run(init)\n",
    "        \n",
    "        for epoch in range(num_epochs):\n",
    "            epoch_cost = 0.                       \n",
    "            num_minibatches = int(m / minibatch_size)\n",
    "            seed = seed + 1\n",
    "            minibatches = random_mini_batches(X_train, Y_train, minibatch_size, seed)\n",
    "\n",
    "            for minibatch in minibatches:\n",
    "\n",
    "                # Select a minibatch\n",
    "                (minibatch_X, minibatch_Y) = minibatch\n",
    "          \n",
    "                _ , minibatch_cost = sess.run([optimizer, cost], feed_dict={X: minibatch_X, Y: minibatch_Y})\n",
    "                \n",
    "                epoch_cost += minibatch_cost / num_minibatches\n",
    "\n",
    "            # Print the cost every epoch\n",
    "            if print_cost == True and epoch % 100 == 0:\n",
    "                print (\"Cost after epoch %i: %f\" % (epoch, epoch_cost))\n",
    "            if epoch % 5 == 0:\n",
    "                costs.append(epoch_cost)\n",
    "                \n",
    "        # plot the cost\n",
    "        # plt.plot(np.squeeze(costs))\n",
    "        # plt.ylabel('cost')\n",
    "        # plt.xlabel('iterations (per tens)')\n",
    "        # plt.title(\"Learning rate =\" + str(learning_rate))\n",
    "        # plt.show()\n",
    "\n",
    "        # lets save the parameters in a variable\n",
    "        parameters = sess.run(parameters)\n",
    "        print (\"Parameters have been trained!\")\n",
    "\n",
    "        predicted = AL\n",
    "\n",
    "        # Calculate the correct predictions\n",
    "        correct_prediction = tf.equal(tf.round(predicted), Y)\n",
    "\n",
    "        # Calculate accuracy on the test set\n",
    "        accuracy = tf.reduce_mean(tf.cast(correct_prediction, \"float\"))\n",
    "\n",
    "        Training_Accuracy = accuracy.eval({X: X_train, Y: Y_train})\n",
    "        Testing_Accuracy  = accuracy.eval({X: X_test, Y: Y_test})\n",
    "        print (\"Train Accuracy:\", Training_Accuracy)\n",
    "        print (\"Test Accuracy:\", Testing_Accuracy)\n",
    "        \n",
    "        return parameters, costs, Training_Accuracy, Testing_Accuracy"
   ]
  },
  {
   "cell_type": "code",
   "execution_count": 22,
   "metadata": {
    "colab": {
     "base_uri": "https://localhost:8080/",
     "height": 327
    },
    "colab_type": "code",
    "executionInfo": {
     "elapsed": 191021,
     "status": "ok",
     "timestamp": 1572725851538,
     "user": {
      "displayName": "Sudharsana Rajasekaran",
      "photoUrl": "https://lh6.googleusercontent.com/-Snh27ThCViI/AAAAAAAAAAI/AAAAAAAACSk/On4b8CIBm2U/s64/photo.jpg",
      "userId": "07733356798731725121"
     },
     "user_tz": 300
    },
    "id": "YTeuLrMHletM",
    "outputId": "5e13b44b-c439-4066-e24d-986fcc9eb9e6"
   },
   "outputs": [
    {
     "name": "stdout",
     "output_type": "stream",
     "text": [
      "Parameters have been trained!\n",
      "Train Accuracy: 0.913204\n",
      "Test Accuracy: 0.8733322\n",
      "Parameters have been trained!\n",
      "Train Accuracy: 0.92399013\n",
      "Test Accuracy: 0.8789056\n",
      "Parameters have been trained!\n",
      "Train Accuracy: 0.92167366\n",
      "Test Accuracy: 0.87434554\n",
      "Parameters have been trained!\n",
      "Train Accuracy: 0.9170407\n",
      "Test Accuracy: 0.87062997\n",
      "Parameters have been trained!\n",
      "Train Accuracy: 0.9139279\n",
      "Test Accuracy: 0.87823004\n",
      "Parameters have been trained!\n",
      "Train Accuracy: 0.90922254\n",
      "Test Accuracy: 0.8702922\n"
     ]
    }
   ],
   "source": [
    "### CONSTANTS ###\n",
    "layers_dims = [27, 20, 10, 5, 1] #  3-layer hidden model\n",
    "batches = [100,250,500,2000,5000,10000]\n",
    "cost_dict=dict()\n",
    "train_acc = []\n",
    "test_acc = []\n",
    "for batch in batches:\n",
    "  _,costs,Training_Accuracy,Testing_Accuracy = parameters = model(X_train, y_train, X_test, y_test,learning_rate = 0.01,num_epochs = 500,\n",
    "                                                                  minibatch_size = batch,print_cost = False,layers_dims=layers_dims)\n",
    "  cost_dict[batch] = costs\n",
    "  train_acc.append(Training_Accuracy)\n",
    "  test_acc.append(Testing_Accuracy)"
   ]
  },
  {
   "cell_type": "code",
   "execution_count": 23,
   "metadata": {
    "colab": {
     "base_uri": "https://localhost:8080/",
     "height": 418
    },
    "colab_type": "code",
    "executionInfo": {
     "elapsed": 277,
     "status": "ok",
     "timestamp": 1572725876364,
     "user": {
      "displayName": "Sudharsana Rajasekaran",
      "photoUrl": "https://lh6.googleusercontent.com/-Snh27ThCViI/AAAAAAAAAAI/AAAAAAAACSk/On4b8CIBm2U/s64/photo.jpg",
      "userId": "07733356798731725121"
     },
     "user_tz": 300
    },
    "id": "09kGsCD6ixI3",
    "outputId": "a89e18ff-d7c0-4a01-9457-f770b9e6977b"
   },
   "outputs": [
    {
     "data": {
      "text/html": [
       "<div>\n",
       "<style scoped>\n",
       "    .dataframe tbody tr th:only-of-type {\n",
       "        vertical-align: middle;\n",
       "    }\n",
       "\n",
       "    .dataframe tbody tr th {\n",
       "        vertical-align: top;\n",
       "    }\n",
       "\n",
       "    .dataframe thead th {\n",
       "        text-align: right;\n",
       "    }\n",
       "</style>\n",
       "<table border=\"1\" class=\"dataframe\">\n",
       "  <thead>\n",
       "    <tr style=\"text-align: right;\">\n",
       "      <th></th>\n",
       "      <th>MiniBatch Size</th>\n",
       "      <th>Acc</th>\n",
       "      <th>Accuracy</th>\n",
       "    </tr>\n",
       "  </thead>\n",
       "  <tbody>\n",
       "    <tr>\n",
       "      <th>0</th>\n",
       "      <td>100</td>\n",
       "      <td>TrainingAccuracy</td>\n",
       "      <td>91.32</td>\n",
       "    </tr>\n",
       "    <tr>\n",
       "      <th>1</th>\n",
       "      <td>250</td>\n",
       "      <td>TrainingAccuracy</td>\n",
       "      <td>92.40</td>\n",
       "    </tr>\n",
       "    <tr>\n",
       "      <th>2</th>\n",
       "      <td>500</td>\n",
       "      <td>TrainingAccuracy</td>\n",
       "      <td>92.17</td>\n",
       "    </tr>\n",
       "    <tr>\n",
       "      <th>3</th>\n",
       "      <td>2000</td>\n",
       "      <td>TrainingAccuracy</td>\n",
       "      <td>91.70</td>\n",
       "    </tr>\n",
       "    <tr>\n",
       "      <th>4</th>\n",
       "      <td>5000</td>\n",
       "      <td>TrainingAccuracy</td>\n",
       "      <td>91.39</td>\n",
       "    </tr>\n",
       "    <tr>\n",
       "      <th>5</th>\n",
       "      <td>10000</td>\n",
       "      <td>TrainingAccuracy</td>\n",
       "      <td>90.92</td>\n",
       "    </tr>\n",
       "    <tr>\n",
       "      <th>0</th>\n",
       "      <td>100</td>\n",
       "      <td>TestingAccuracy</td>\n",
       "      <td>87.33</td>\n",
       "    </tr>\n",
       "    <tr>\n",
       "      <th>1</th>\n",
       "      <td>250</td>\n",
       "      <td>TestingAccuracy</td>\n",
       "      <td>87.89</td>\n",
       "    </tr>\n",
       "    <tr>\n",
       "      <th>2</th>\n",
       "      <td>500</td>\n",
       "      <td>TestingAccuracy</td>\n",
       "      <td>87.43</td>\n",
       "    </tr>\n",
       "    <tr>\n",
       "      <th>3</th>\n",
       "      <td>2000</td>\n",
       "      <td>TestingAccuracy</td>\n",
       "      <td>87.06</td>\n",
       "    </tr>\n",
       "    <tr>\n",
       "      <th>4</th>\n",
       "      <td>5000</td>\n",
       "      <td>TestingAccuracy</td>\n",
       "      <td>87.82</td>\n",
       "    </tr>\n",
       "    <tr>\n",
       "      <th>5</th>\n",
       "      <td>10000</td>\n",
       "      <td>TestingAccuracy</td>\n",
       "      <td>87.03</td>\n",
       "    </tr>\n",
       "  </tbody>\n",
       "</table>\n",
       "</div>"
      ],
      "text/plain": [
       "   MiniBatch Size               Acc  Accuracy\n",
       "0             100  TrainingAccuracy     91.32\n",
       "1             250  TrainingAccuracy     92.40\n",
       "2             500  TrainingAccuracy     92.17\n",
       "3            2000  TrainingAccuracy     91.70\n",
       "4            5000  TrainingAccuracy     91.39\n",
       "5           10000  TrainingAccuracy     90.92\n",
       "0             100   TestingAccuracy     87.33\n",
       "1             250   TestingAccuracy     87.89\n",
       "2             500   TestingAccuracy     87.43\n",
       "3            2000   TestingAccuracy     87.06\n",
       "4            5000   TestingAccuracy     87.82\n",
       "5           10000   TestingAccuracy     87.03"
      ]
     },
     "execution_count": 23,
     "metadata": {
      "tags": []
     },
     "output_type": "execute_result"
    }
   ],
   "source": [
    "df1 = pd.DataFrame(\n",
    "    {'MiniBatch Size': batches,\n",
    "     'Acc': 'TrainingAccuracy',\n",
    "     'Accuracy': train_acc\n",
    "    })\n",
    "df2 = pd.DataFrame(\n",
    "    {'MiniBatch Size': batches,\n",
    "     'Acc': 'TestingAccuracy',\n",
    "     'Accuracy': test_acc\n",
    "    })\n",
    "\n",
    "df_mini = pd.concat([df1, df2],sort=False)\n",
    "df_mini['Accuracy'] = (df_mini['Accuracy'] * 100).round(2)\n",
    "df_mini"
   ]
  },
  {
   "cell_type": "code",
   "execution_count": 24,
   "metadata": {
    "colab": {
     "base_uri": "https://localhost:8080/",
     "height": 404
    },
    "colab_type": "code",
    "executionInfo": {
     "elapsed": 781,
     "status": "ok",
     "timestamp": 1572725879929,
     "user": {
      "displayName": "Sudharsana Rajasekaran",
      "photoUrl": "https://lh6.googleusercontent.com/-Snh27ThCViI/AAAAAAAAAAI/AAAAAAAACSk/On4b8CIBm2U/s64/photo.jpg",
      "userId": "07733356798731725121"
     },
     "user_tz": 300
    },
    "id": "eAkf4cXGqI65",
    "outputId": "7e6ed0a5-2b2b-4875-ac12-a7116bfe9285"
   },
   "outputs": [
    {
     "data": {
      "image/png": "[encoded data removed]",
      "text/plain": [
       "<Figure size 720x432 with 1 Axes>"
      ]
     },
     "metadata": {
      "tags": []
     },
     "output_type": "display_data"
    }
   ],
   "source": [
    "sns.set_style(\"darkgrid\",\n",
    "              {\n",
    "                  'axes.grid' : True\n",
    "              })\n",
    "plt.figure(figsize=(10,6))\n",
    "ax = sns.barplot(x=\"MiniBatch Size\", y=\"Accuracy\", hue=\"Acc\",palette=\"Accent\", data=df_mini)\n",
    "plt.legend(loc='lower right')\n",
    "ax.set_title('Variation of Train/Test Accuracy for different sizes of Mini Batch')\n",
    "\n",
    "for p in ax.patches:\n",
    "    ax.text(p.get_x() + p.get_width()/2., p.get_height(), '{0:.2f}'.format(p.get_height()), \n",
    "        fontsize=12, color='black', ha='center', va='bottom')\n",
    "plt.savefig(\"output_mini.png\",dpi=150)"
   ]
  },
  {
   "cell_type": "code",
   "execution_count": 25,
   "metadata": {
    "colab": {
     "base_uri": "https://localhost:8080/",
     "height": 295
    },
    "colab_type": "code",
    "executionInfo": {
     "elapsed": 862,
     "status": "ok",
     "timestamp": 1572725977897,
     "user": {
      "displayName": "Sudharsana Rajasekaran",
      "photoUrl": "https://lh6.googleusercontent.com/-Snh27ThCViI/AAAAAAAAAAI/AAAAAAAACSk/On4b8CIBm2U/s64/photo.jpg",
      "userId": "07733356798731725121"
     },
     "user_tz": 300
    },
    "id": "KJpN1D2YfIUT",
    "outputId": "6b2ed81b-5d24-452f-aa88-39bd8354a5d8"
   },
   "outputs": [
    {
     "data": {
      "image/png": "[encoded data removed]",
      "text/plain": [
       "<Figure size 432x288 with 1 Axes>"
      ]
     },
     "metadata": {
      "tags": []
     },
     "output_type": "display_data"
    }
   ],
   "source": [
    "cost_df = pd.DataFrame(cost_dict)\n",
    "cost_df.plot()\n",
    "plt.xlabel(\"Iterations\")\n",
    "plt.ylabel(\"Cost\")\n",
    "plt.title(\"Variation of Cost for different Mini batch sizes\")\n",
    "plt.legend(title='Mini Batch Size')\n",
    "sns.set_style(\"darkgrid\", {\"axes.facecolor\": \".9\"})\n",
    "plt.savefig(\"output_line.png\",dpi=150)\n",
    "plt.show()"
   ]
  },
  {
   "cell_type": "code",
   "execution_count": 26,
   "metadata": {
    "colab": {
     "base_uri": "https://localhost:8080/",
     "height": 223
    },
    "colab_type": "code",
    "executionInfo": {
     "elapsed": 912124,
     "status": "ok",
     "timestamp": 1572727220110,
     "user": {
      "displayName": "Sudharsana Rajasekaran",
      "photoUrl": "https://lh6.googleusercontent.com/-Snh27ThCViI/AAAAAAAAAAI/AAAAAAAACSk/On4b8CIBm2U/s64/photo.jpg",
      "userId": "07733356798731725121"
     },
     "user_tz": 300
    },
    "id": "dgnCTdqvMIj_",
    "outputId": "bc24a461-9715-4881-9c07-2fe6d3116a7b"
   },
   "outputs": [
    {
     "name": "stdout",
     "output_type": "stream",
     "text": [
      "Parameters have been trained!\n",
      "Train Accuracy: 0.9114666\n",
      "Test Accuracy: 0.87282556\n",
      "Parameters have been trained!\n",
      "Train Accuracy: 0.9761112\n",
      "Test Accuracy: 0.87519\n",
      "Parameters have been trained!\n",
      "Train Accuracy: 0.73555815\n",
      "Test Accuracy: 0.7368688\n",
      "Parameters have been trained!\n",
      "Train Accuracy: 0.73555815\n",
      "Test Accuracy: 0.7368688\n"
     ]
    }
   ],
   "source": [
    "### CONSTANTS ###\n",
    "#Different Layer Broadness\n",
    "layers_dims = [[27, 20, 10, 5, 1],\n",
    "               [27,200,100,50,1],\n",
    "               [27,500,250,100,1],\n",
    "               [27,1000,500,250,1]]#  4-layer hidden model\n",
    "batch = 1000 #mini batch size\n",
    "cost_dict=dict()\n",
    "train_acc = []\n",
    "test_acc = []\n",
    "for layers_dim in layers_dims:\n",
    "  _,costs,Training_Accuracy,Testing_Accuracy = parameters = model(X_train, y_train, X_test, y_test,learning_rate = 0.01,num_epochs = 500,\n",
    "                                                                  minibatch_size = batch,print_cost = False,layers_dims=layers_dim)\n",
    "  cost_dict[batch] = costs\n",
    "  train_acc.append(Training_Accuracy)\n",
    "  test_acc.append(Testing_Accuracy)"
   ]
  },
  {
   "cell_type": "code",
   "execution_count": 0,
   "metadata": {
    "colab": {},
    "colab_type": "code",
    "id": "71Y3jIDMNjp6"
   },
   "outputs": [],
   "source": [
    "df11 = pd.DataFrame(\n",
    "    {'Accuracy': 'TrainingAccuracy',\n",
    "     'Accuracy_val': train_acc\n",
    "    })\n",
    "df11[\"Layer number\"] = df11.index + 1\n",
    "df11[['i/p','HL1','HL2','HL3','o/p']] = pd.DataFrame(layers_dims)\n",
    "\n",
    "df21 = pd.DataFrame(\n",
    "    {'Accuracy': 'TestingAccuracy',\n",
    "     'Accuracy_val': test_acc\n",
    "    })\n",
    "df21[\"Layer number\"] = df21.index + 1\n",
    "df21[['i/p','HL1','HL2','HL3','o/p']] = pd.DataFrame(layers_dims)\n",
    "\n",
    "df_broad = pd.concat([df11, df21],sort=False)\n",
    "df_broad['Accuracy_val'] = (df_broad['Accuracy_val'] * 100).round(2)\n",
    "\n",
    "df_broad = df_broad[['Layer number', 'i/p', 'HL1', 'HL2', 'HL3','o/p','Accuracy', 'Accuracy_val']]"
   ]
  },
  {
   "cell_type": "code",
   "execution_count": 41,
   "metadata": {
    "colab": {
     "base_uri": "https://localhost:8080/",
     "height": 295
    },
    "colab_type": "code",
    "executionInfo": {
     "elapsed": 185,
     "status": "ok",
     "timestamp": 1572727801020,
     "user": {
      "displayName": "Sudharsana Rajasekaran",
      "photoUrl": "https://lh6.googleusercontent.com/-Snh27ThCViI/AAAAAAAAAAI/AAAAAAAACSk/On4b8CIBm2U/s64/photo.jpg",
      "userId": "07733356798731725121"
     },
     "user_tz": 300
    },
    "id": "yxSnr_8w3U0b",
    "outputId": "f747baf4-fdfd-4eff-d1f6-4adc2f0ca31a"
   },
   "outputs": [
    {
     "data": {
      "text/html": [
       "<div>\n",
       "<style scoped>\n",
       "    .dataframe tbody tr th:only-of-type {\n",
       "        vertical-align: middle;\n",
       "    }\n",
       "\n",
       "    .dataframe tbody tr th {\n",
       "        vertical-align: top;\n",
       "    }\n",
       "\n",
       "    .dataframe thead th {\n",
       "        text-align: right;\n",
       "    }\n",
       "</style>\n",
       "<table border=\"1\" class=\"dataframe\">\n",
       "  <thead>\n",
       "    <tr style=\"text-align: right;\">\n",
       "      <th></th>\n",
       "      <th>Layer number</th>\n",
       "      <th>i/p</th>\n",
       "      <th>HL1</th>\n",
       "      <th>HL2</th>\n",
       "      <th>HL3</th>\n",
       "      <th>o/p</th>\n",
       "      <th>Accuracy</th>\n",
       "      <th>Accuracy_val</th>\n",
       "    </tr>\n",
       "  </thead>\n",
       "  <tbody>\n",
       "    <tr>\n",
       "      <th>0</th>\n",
       "      <td>1</td>\n",
       "      <td>27</td>\n",
       "      <td>20</td>\n",
       "      <td>10</td>\n",
       "      <td>5</td>\n",
       "      <td>1</td>\n",
       "      <td>TrainingAccuracy</td>\n",
       "      <td>91.15</td>\n",
       "    </tr>\n",
       "    <tr>\n",
       "      <th>1</th>\n",
       "      <td>2</td>\n",
       "      <td>27</td>\n",
       "      <td>200</td>\n",
       "      <td>100</td>\n",
       "      <td>50</td>\n",
       "      <td>1</td>\n",
       "      <td>TrainingAccuracy</td>\n",
       "      <td>97.61</td>\n",
       "    </tr>\n",
       "    <tr>\n",
       "      <th>2</th>\n",
       "      <td>3</td>\n",
       "      <td>27</td>\n",
       "      <td>500</td>\n",
       "      <td>250</td>\n",
       "      <td>100</td>\n",
       "      <td>1</td>\n",
       "      <td>TrainingAccuracy</td>\n",
       "      <td>73.56</td>\n",
       "    </tr>\n",
       "    <tr>\n",
       "      <th>3</th>\n",
       "      <td>4</td>\n",
       "      <td>27</td>\n",
       "      <td>1000</td>\n",
       "      <td>500</td>\n",
       "      <td>250</td>\n",
       "      <td>1</td>\n",
       "      <td>TrainingAccuracy</td>\n",
       "      <td>73.56</td>\n",
       "    </tr>\n",
       "    <tr>\n",
       "      <th>0</th>\n",
       "      <td>1</td>\n",
       "      <td>27</td>\n",
       "      <td>20</td>\n",
       "      <td>10</td>\n",
       "      <td>5</td>\n",
       "      <td>1</td>\n",
       "      <td>TestingAccuracy</td>\n",
       "      <td>87.28</td>\n",
       "    </tr>\n",
       "    <tr>\n",
       "      <th>1</th>\n",
       "      <td>2</td>\n",
       "      <td>27</td>\n",
       "      <td>200</td>\n",
       "      <td>100</td>\n",
       "      <td>50</td>\n",
       "      <td>1</td>\n",
       "      <td>TestingAccuracy</td>\n",
       "      <td>87.52</td>\n",
       "    </tr>\n",
       "    <tr>\n",
       "      <th>2</th>\n",
       "      <td>3</td>\n",
       "      <td>27</td>\n",
       "      <td>500</td>\n",
       "      <td>250</td>\n",
       "      <td>100</td>\n",
       "      <td>1</td>\n",
       "      <td>TestingAccuracy</td>\n",
       "      <td>73.69</td>\n",
       "    </tr>\n",
       "    <tr>\n",
       "      <th>3</th>\n",
       "      <td>4</td>\n",
       "      <td>27</td>\n",
       "      <td>1000</td>\n",
       "      <td>500</td>\n",
       "      <td>250</td>\n",
       "      <td>1</td>\n",
       "      <td>TestingAccuracy</td>\n",
       "      <td>73.69</td>\n",
       "    </tr>\n",
       "  </tbody>\n",
       "</table>\n",
       "</div>"
      ],
      "text/plain": [
       "   Layer number  i/p   HL1  HL2  HL3  o/p          Accuracy  Accuracy_val\n",
       "0             1   27    20   10    5    1  TrainingAccuracy         91.15\n",
       "1             2   27   200  100   50    1  TrainingAccuracy         97.61\n",
       "2             3   27   500  250  100    1  TrainingAccuracy         73.56\n",
       "3             4   27  1000  500  250    1  TrainingAccuracy         73.56\n",
       "0             1   27    20   10    5    1   TestingAccuracy         87.28\n",
       "1             2   27   200  100   50    1   TestingAccuracy         87.52\n",
       "2             3   27   500  250  100    1   TestingAccuracy         73.69\n",
       "3             4   27  1000  500  250    1   TestingAccuracy         73.69"
      ]
     },
     "execution_count": 41,
     "metadata": {
      "tags": []
     },
     "output_type": "execute_result"
    }
   ],
   "source": [
    "df_broad"
   ]
  },
  {
   "cell_type": "code",
   "execution_count": 52,
   "metadata": {
    "colab": {
     "base_uri": "https://localhost:8080/",
     "height": 404
    },
    "colab_type": "code",
    "executionInfo": {
     "elapsed": 688,
     "status": "ok",
     "timestamp": 1572729080870,
     "user": {
      "displayName": "Sudharsana Rajasekaran",
      "photoUrl": "https://lh6.googleusercontent.com/-Snh27ThCViI/AAAAAAAAAAI/AAAAAAAACSk/On4b8CIBm2U/s64/photo.jpg",
      "userId": "07733356798731725121"
     },
     "user_tz": 300
    },
    "id": "mowp4TENzQIo",
    "outputId": "5714e2ef-3bcb-4bc7-bc5e-242475201826"
   },
   "outputs": [
    {
     "data": {
      "image/png": "[encoded data removed]",
      "text/plain": [
       "<Figure size 720x432 with 1 Axes>"
      ]
     },
     "metadata": {
      "tags": []
     },
     "output_type": "display_data"
    }
   ],
   "source": [
    "sns.set_style(\"darkgrid\",\n",
    "              {\n",
    "                  'axes.grid' : True\n",
    "              })\n",
    "plt.figure(figsize=(10,6))\n",
    "ax = sns.barplot(x=\"Layer number\", y=\"Accuracy_val\", hue=\"Accuracy\",palette='viridis', data=df_broad)\n",
    "plt.legend(loc='lower right')\n",
    "ax.set_title('Variation of Train/Test Accuracy for different hidden layer width')\n",
    "ax.set(xlabel='Layer Number', ylabel='Accuracy')\n",
    "\n",
    "for p in ax.patches:\n",
    "    ax.text(p.get_x() + p.get_width()/2., p.get_height(), '{0:.2f}'.format(p.get_height()), \n",
    "        fontsize=12, color='black', ha='center', va='bottom')\n",
    "plt.savefig(\"output_broad.png\",dpi=150)"
   ]
  },
  {
   "cell_type": "code",
   "execution_count": 49,
   "metadata": {
    "colab": {
     "base_uri": "https://localhost:8080/",
     "height": 430
    },
    "colab_type": "code",
    "executionInfo": {
     "elapsed": 254723,
     "status": "ok",
     "timestamp": 1572728727891,
     "user": {
      "displayName": "Sudharsana Rajasekaran",
      "photoUrl": "https://lh6.googleusercontent.com/-Snh27ThCViI/AAAAAAAAAAI/AAAAAAAACSk/On4b8CIBm2U/s64/photo.jpg",
      "userId": "07733356798731725121"
     },
     "user_tz": 300
    },
    "id": "E4FZE98DVcT-",
    "outputId": "150296e6-efe6-4202-829a-1b9935de351e"
   },
   "outputs": [
    {
     "name": "stdout",
     "output_type": "stream",
     "text": [
      "Parameters have been trained!\n",
      "Train Accuracy: 0.8778051\n",
      "Test Accuracy: 0.8549231\n",
      "Parameters have been trained!\n",
      "Train Accuracy: 0.8960475\n",
      "Test Accuracy: 0.8711366\n",
      "Parameters have been trained!\n",
      "Train Accuracy: 0.910236\n",
      "Test Accuracy: 0.8714744\n",
      "Parameters have been trained!\n",
      "Train Accuracy: 0.9114666\n",
      "Test Accuracy: 0.87282556\n",
      "Parameters have been trained!\n",
      "Train Accuracy: 0.9200811\n",
      "Test Accuracy: 0.8746833\n",
      "Parameters have been trained!\n",
      "Train Accuracy: 0.9242073\n",
      "Test Accuracy: 0.87062997\n",
      "Parameters have been trained!\n",
      "Train Accuracy: 0.9251484\n",
      "Test Accuracy: 0.87062997\n",
      "Parameters have been trained!\n",
      "Train Accuracy: 0.9309396\n",
      "Test Accuracy: 0.87400776\n"
     ]
    }
   ],
   "source": [
    "### CONSTANTS ###\n",
    "#Varying Number of Epochs\n",
    "layers_dims = [27, 20, 10, 5, 1]#  4-layer hidden model\n",
    "batch = 1000 #mini batch size\n",
    "cost_dict=dict()\n",
    "train_acc = []\n",
    "test_acc = []\n",
    "num_epochs = [50,100,250,500,750,1000,2000,3000]\n",
    "for num_epoch in num_epochs:\n",
    "  _,costs,Training_Accuracy,Testing_Accuracy = parameters = model(X_train, y_train, X_test, y_test,learning_rate = 0.01,num_epochs = num_epoch,\n",
    "                                                                  minibatch_size = batch,print_cost = False,layers_dims=layers_dims)\n",
    "  cost_dict[batch] = costs\n",
    "  train_acc.append(Training_Accuracy)\n",
    "  test_acc.append(Testing_Accuracy)"
   ]
  },
  {
   "cell_type": "code",
   "execution_count": 0,
   "metadata": {
    "colab": {},
    "colab_type": "code",
    "id": "nKRDLc_q8Yer"
   },
   "outputs": [],
   "source": [
    "df31 = pd.DataFrame(\n",
    "    {'No. of Epochs': num_epochs,\n",
    "     'Acc': 'TrainingAccuracy',\n",
    "     'Accuracy': train_acc\n",
    "    })\n",
    "df32 = pd.DataFrame(\n",
    "    {'No. of Epochs': num_epochs,\n",
    "     'Acc': 'TestingAccuracy',\n",
    "     'Accuracy': test_acc\n",
    "    })\n",
    "\n",
    "df_epoch = pd.concat([df31, df32],sort=False)\n",
    "df_epoch['Accuracy'] = (df_epoch['Accuracy'] * 100).round(2)"
   ]
  },
  {
   "cell_type": "code",
   "execution_count": 63,
   "metadata": {
    "colab": {
     "base_uri": "https://localhost:8080/",
     "height": 404
    },
    "colab_type": "code",
    "executionInfo": {
     "elapsed": 895,
     "status": "ok",
     "timestamp": 1572729437474,
     "user": {
      "displayName": "Sudharsana Rajasekaran",
      "photoUrl": "https://lh6.googleusercontent.com/-Snh27ThCViI/AAAAAAAAAAI/AAAAAAAACSk/On4b8CIBm2U/s64/photo.jpg",
      "userId": "07733356798731725121"
     },
     "user_tz": 300
    },
    "id": "DQnSR9x17AXf",
    "outputId": "1c69a784-60aa-45ad-c3e3-2072dbe57d4d"
   },
   "outputs": [
    {
     "data": {
      "image/png": "[encoded data removed]",
      "text/plain": [
       "<Figure size 1008x432 with 1 Axes>"
      ]
     },
     "metadata": {
      "tags": []
     },
     "output_type": "display_data"
    }
   ],
   "source": [
    "sns.set_style(\"darkgrid\",\n",
    "              {\n",
    "                  'axes.grid' : True\n",
    "              })\n",
    "plt.figure(figsize=(14,6))\n",
    "ax = sns.barplot(x=\"No. of Epochs\", y=\"Accuracy\", hue=\"Acc\",palette=\"gist_gray\", data=df_epoch)\n",
    "plt.legend(loc='lower right')\n",
    "ax.set_title('Variation of Train/Test Accuracy for different number of Epochs')\n",
    "\n",
    "for p in ax.patches:\n",
    "    ax.text(p.get_x() + p.get_width()/2., p.get_height(), '{0:.2f}'.format(p.get_height()), \n",
    "        fontsize=12, color='black', ha='center', va='bottom')\n",
    "plt.savefig(\"output_epoch.png\",dpi=150)"
   ]
  },
  {
   "cell_type": "code",
   "execution_count": 65,
   "metadata": {
    "colab": {
     "base_uri": "https://localhost:8080/",
     "height": 275
    },
    "colab_type": "code",
    "executionInfo": {
     "elapsed": 120911,
     "status": "ok",
     "timestamp": 1572730408869,
     "user": {
      "displayName": "Sudharsana Rajasekaran",
      "photoUrl": "https://lh6.googleusercontent.com/-Snh27ThCViI/AAAAAAAAAAI/AAAAAAAACSk/On4b8CIBm2U/s64/photo.jpg",
      "userId": "07733356798731725121"
     },
     "user_tz": 300
    },
    "id": "ETPhHT0f90jB",
    "outputId": "f31b1c00-9c2e-4530-91c4-b5f46a6ee74d"
   },
   "outputs": [
    {
     "name": "stdout",
     "output_type": "stream",
     "text": [
      "Parameters have been trained!\n",
      "Train Accuracy: 0.9114666\n",
      "Test Accuracy: 0.87282556\n",
      "Parameters have been trained!\n",
      "Train Accuracy: 0.9499783\n",
      "Test Accuracy: 0.86877215\n",
      "Parameters have been trained!\n",
      "Train Accuracy: 0.94585204\n",
      "Test Accuracy: 0.87772334\n",
      "Parameters have been trained!\n",
      "Train Accuracy: 0.9567106\n",
      "Test Accuracy: 0.87282556\n",
      "Parameters have been trained!\n",
      "Train Accuracy: 0.9664833\n",
      "Test Accuracy: 0.87907445\n"
     ]
    }
   ],
   "source": [
    "### CONSTANTS ###\n",
    "layers_dims = [[27,20, 10, 5, 1],\n",
    "               [27,30,20,10,5,1],\n",
    "               [27,30,25,20,10,5,1],\n",
    "               [27,35,30,25,20,10,5,1],\n",
    "               [27,40,35,30,25,20,10,5,1]]\n",
    "batch = 1000 #mini batch size\n",
    "cost_dict=dict()\n",
    "train_acc = []\n",
    "test_acc = []\n",
    "for layers_dim in layers_dims:\n",
    "  _,costs,Training_Accuracy,Testing_Accuracy = parameters = model(X_train, y_train, X_test, y_test,learning_rate = 0.01,num_epochs = 500,\n",
    "                                                                  minibatch_size = batch,print_cost = False,layers_dims=layers_dim)\n",
    "  cost_dict[batch] = costs\n",
    "  train_acc.append(Training_Accuracy)\n",
    "  test_acc.append(Testing_Accuracy)"
   ]
  },
  {
   "cell_type": "code",
   "execution_count": 0,
   "metadata": {
    "colab": {},
    "colab_type": "code",
    "id": "IZ-W9LeiBY_9"
   },
   "outputs": [],
   "source": [
    "no_of_hidden_layers=[3,4,5,6,7]\n",
    "df41 = pd.DataFrame(\n",
    "    {'no_of_hidden_layers' : no_of_hidden_layers,\n",
    "     'Acc': 'TrainingAccuracy',\n",
    "     'Accuracy': train_acc\n",
    "    })\n",
    "df42 = pd.DataFrame(\n",
    "    {'no_of_hidden_layers' : no_of_hidden_layers,\n",
    "     'Acc': 'TestingAccuracy',\n",
    "     'Accuracy': test_acc\n",
    "    })\n",
    "\n",
    "df_hidden = pd.concat([df41, df42],sort=False)\n",
    "df_hidden['Accuracy'] = (df_hidden['Accuracy'] * 100).round(2)"
   ]
  },
  {
   "cell_type": "code",
   "execution_count": 69,
   "metadata": {
    "colab": {
     "base_uri": "https://localhost:8080/",
     "height": 404
    },
    "colab_type": "code",
    "executionInfo": {
     "elapsed": 719,
     "status": "ok",
     "timestamp": 1572730559825,
     "user": {
      "displayName": "Sudharsana Rajasekaran",
      "photoUrl": "https://lh6.googleusercontent.com/-Snh27ThCViI/AAAAAAAAAAI/AAAAAAAACSk/On4b8CIBm2U/s64/photo.jpg",
      "userId": "07733356798731725121"
     },
     "user_tz": 300
    },
    "id": "8_5LeMkzCZ7B",
    "outputId": "3c32d18e-bc2d-4152-9fc0-287e20d4b8ae"
   },
   "outputs": [
    {
     "data": {
      "image/png": "[encoded data removed]",
      "text/plain": [
       "<Figure size 720x432 with 1 Axes>"
      ]
     },
     "metadata": {
      "tags": []
     },
     "output_type": "display_data"
    }
   ],
   "source": [
    "sns.set_style(\"darkgrid\",\n",
    "              {\n",
    "                  'axes.grid' : True\n",
    "              })\n",
    "plt.figure(figsize=(10,6))\n",
    "ax = sns.barplot(x=\"no_of_hidden_layers\", y=\"Accuracy\", hue=\"Acc\",palette=\"Paired\", data=df_hidden)\n",
    "plt.legend(loc='lower right')\n",
    "ax.set_title('Variation of Train/Test Accuracy for number of Hidden Layers')\n",
    "ax.set(xlabel='No of Hidden Layers', ylabel='Accuracy')\n",
    "\n",
    "for p in ax.patches:\n",
    "    ax.text(p.get_x() + p.get_width()/2., p.get_height(), '{0:.2f}'.format(p.get_height()), \n",
    "        fontsize=12, color='black', ha='center', va='bottom')\n",
    "plt.savefig(\"output_hidden.png\",dpi=150)"
   ]
  },
  {
   "cell_type": "code",
   "execution_count": 73,
   "metadata": {
    "colab": {
     "base_uri": "https://localhost:8080/",
     "height": 327
    },
    "colab_type": "code",
    "executionInfo": {
     "elapsed": 569654,
     "status": "ok",
     "timestamp": 1572732130557,
     "user": {
      "displayName": "Sudharsana Rajasekaran",
      "photoUrl": "https://lh6.googleusercontent.com/-Snh27ThCViI/AAAAAAAAAAI/AAAAAAAACSk/On4b8CIBm2U/s64/photo.jpg",
      "userId": "07733356798731725121"
     },
     "user_tz": 300
    },
    "id": "eFw80dnJC0Wj",
    "outputId": "548cb998-af8e-4505-b320-8df26744c06e"
   },
   "outputs": [
    {
     "name": "stdout",
     "output_type": "stream",
     "text": [
      "Parameters have been trained!\n",
      "Train Accuracy: 0.73555815\n",
      "Test Accuracy: 0.7368688\n",
      "Parameters have been trained!\n",
      "Train Accuracy: 0.75177354\n",
      "Test Accuracy: 0.7446377\n",
      "Parameters have been trained!\n",
      "Train Accuracy: 0.9188504\n",
      "Test Accuracy: 0.87519\n",
      "Parameters have been trained!\n",
      "Train Accuracy: 0.9309396\n",
      "Test Accuracy: 0.87400776\n",
      "Parameters have been trained!\n",
      "Train Accuracy: 0.9370928\n",
      "Test Accuracy: 0.87620336\n",
      "Parameters have been trained!\n",
      "Train Accuracy: 0.92840594\n",
      "Test Accuracy: 0.8772167\n"
     ]
    }
   ],
   "source": [
    "#Varying Learning Rates\n",
    "layers_dims = [27, 20, 10, 5, 1]#  4-layer hidden model\n",
    "batch = 1000 #mini batch size\n",
    "cost_dict=dict()\n",
    "train_acc = []\n",
    "test_acc = []\n",
    "num_epochs = 500\n",
    "learning_rates = [0.5,0.1,0.05,0.01,0.005,0.001]\n",
    "for learning_rate in learning_rates:\n",
    "  _,costs,Training_Accuracy,Testing_Accuracy = parameters = model(X_train, y_train, X_test, y_test,learning_rate = learning_rate,num_epochs = num_epoch,\n",
    "                                                                  minibatch_size = batch,print_cost = False,layers_dims=layers_dims)\n",
    "  cost_dict[batch] = costs\n",
    "  train_acc.append(Training_Accuracy)\n",
    "  test_acc.append(Testing_Accuracy)"
   ]
  },
  {
   "cell_type": "code",
   "execution_count": 0,
   "metadata": {
    "colab": {},
    "colab_type": "code",
    "id": "37-uG7AhFaOt"
   },
   "outputs": [],
   "source": [
    "df51 = pd.DataFrame(\n",
    "    {'Learning Rate' : learning_rates,\n",
    "     'Acc': 'TrainingAccuracy',\n",
    "     'Accuracy': train_acc\n",
    "    })\n",
    "df52 = pd.DataFrame(\n",
    "    {'Learning Rate' : learning_rates,\n",
    "     'Acc': 'TestingAccuracy',\n",
    "     'Accuracy': test_acc\n",
    "    })\n",
    "\n",
    "df_learning_rate = pd.concat([df51, df52],sort=False).reset_index(drop=True)\n",
    "df_learning_rate['Accuracy'] = (df_learning_rate['Accuracy'] * 100).round(2)"
   ]
  },
  {
   "cell_type": "code",
   "execution_count": 84,
   "metadata": {
    "colab": {
     "base_uri": "https://localhost:8080/",
     "height": 441
    },
    "colab_type": "code",
    "executionInfo": {
     "elapsed": 905,
     "status": "ok",
     "timestamp": 1572732624995,
     "user": {
      "displayName": "Sudharsana Rajasekaran",
      "photoUrl": "https://lh6.googleusercontent.com/-Snh27ThCViI/AAAAAAAAAAI/AAAAAAAACSk/On4b8CIBm2U/s64/photo.jpg",
      "userId": "07733356798731725121"
     },
     "user_tz": 300
    },
    "id": "y3r-umKtFzzV",
    "outputId": "8aa1a5fa-5c9c-4ee3-851b-0a0d041d694f"
   },
   "outputs": [
    {
     "data": {
      "image/png": "[encoded data removed]",
      "text/plain": [
       "<Figure size 720x432 with 1 Axes>"
      ]
     },
     "metadata": {
      "tags": []
     },
     "output_type": "display_data"
    }
   ],
   "source": [
    "sns.set_style(\"darkgrid\",\n",
    "              {\n",
    "                  'axes.grid' : True\n",
    "              })\n",
    "plt.figure(figsize=(10,6))\n",
    "ax = sns.barplot(x=\"Learning Rate\", y=\"Accuracy\", hue=\"Acc\",palette=\"bone\", data=df_learning_rate)\n",
    "plt.legend(loc='lower right')\n",
    "ax.set_title('Variation of Train/Test Accuracy for different Learning Rates')\n",
    "\n",
    "for p in ax.patches:\n",
    "    ax.text(p.get_x() + p.get_width()/2., p.get_height(), '{0:.2f}'.format(p.get_height()), \n",
    "        fontsize=12, color='black', ha='center', va='bottom')\n",
    "plt.tight_layout()\n",
    "plt.savefig(\"output_learning_rate.png\",dpi=150)"
   ]
  }
 ],
 "metadata": {
  "accelerator": "TPU",
  "colab": {
   "collapsed_sections": [],
   "name": "Assignment3_Neural_Network_Generalized.ipynb",
   "provenance": []
  },
  "kernelspec": {
   "display_name": "Python 3",
   "language": "python",
   "name": "python3"
  },
  "language_info": {
   "codemirror_mode": {
    "name": "ipython",
    "version": 3
   },
   "file_extension": ".py",
   "mimetype": "text/x-python",
   "name": "python",
   "nbconvert_exporter": "python",
   "pygments_lexer": "ipython3",
   "version": "3.7.2"
  }
 },
 "nbformat": 4,
 "nbformat_minor": 1
}
