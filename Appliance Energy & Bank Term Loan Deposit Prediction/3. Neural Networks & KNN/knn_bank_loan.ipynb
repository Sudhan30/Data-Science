{
 "cells": [
  {
   "cell_type": "code",
   "execution_count": 0,
   "metadata": {
    "colab": {},
    "colab_type": "code",
    "id": "LibJWi6drqC8"
   },
   "outputs": [],
   "source": [
    "import numpy as np\n",
    "import pandas as pd\n",
    "import seaborn as sns\n",
    "import matplotlib.pyplot as plt\n",
    "from google.colab import files\n",
    "from sklearn.neighbors import KNeighborsClassifier\n",
    "from sklearn import metrics\n",
    "from sklearn.model_selection import train_test_split\n",
    "from sklearn.model_selection import cross_val_score\n",
    "from sklearn.model_selection import GridSearchCV\n",
    "import numpy as np"
   ]
  },
  {
   "cell_type": "code",
   "execution_count": 14,
   "metadata": {
    "colab": {
     "base_uri": "https://localhost:8080/",
     "height": 203
    },
    "colab_type": "code",
    "executionInfo": {
     "elapsed": 840,
     "status": "ok",
     "timestamp": 1572748961729,
     "user": {
      "displayName": "Sudharsana Rajasekaran",
      "photoUrl": "https://lh6.googleusercontent.com/-Snh27ThCViI/AAAAAAAAAAI/AAAAAAAACSk/On4b8CIBm2U/s64/photo.jpg",
      "userId": "07733356798731725121"
     },
     "user_tz": 300
    },
    "id": "82311jMCtklS",
    "outputId": "d93c5abc-d835-4ba3-e2e8-99455844e444"
   },
   "outputs": [
    {
     "data": {
      "text/html": [
       "<div>\n",
       "<style scoped>\n",
       "    .dataframe tbody tr th:only-of-type {\n",
       "        vertical-align: middle;\n",
       "    }\n",
       "\n",
       "    .dataframe tbody tr th {\n",
       "        vertical-align: top;\n",
       "    }\n",
       "\n",
       "    .dataframe thead th {\n",
       "        text-align: right;\n",
       "    }\n",
       "</style>\n",
       "<table border=\"1\" class=\"dataframe\">\n",
       "  <thead>\n",
       "    <tr style=\"text-align: right;\">\n",
       "      <th></th>\n",
       "      <th>age</th>\n",
       "      <th>job</th>\n",
       "      <th>marital</th>\n",
       "      <th>education</th>\n",
       "      <th>default</th>\n",
       "      <th>balance</th>\n",
       "      <th>housing</th>\n",
       "      <th>loan</th>\n",
       "      <th>contact</th>\n",
       "      <th>day</th>\n",
       "      <th>month</th>\n",
       "      <th>duration</th>\n",
       "      <th>campaign</th>\n",
       "      <th>pdays</th>\n",
       "      <th>previous</th>\n",
       "      <th>poutcome</th>\n",
       "      <th>y</th>\n",
       "    </tr>\n",
       "  </thead>\n",
       "  <tbody>\n",
       "    <tr>\n",
       "      <th>0</th>\n",
       "      <td>58</td>\n",
       "      <td>management</td>\n",
       "      <td>married</td>\n",
       "      <td>tertiary</td>\n",
       "      <td>no</td>\n",
       "      <td>2143</td>\n",
       "      <td>yes</td>\n",
       "      <td>no</td>\n",
       "      <td>unknown</td>\n",
       "      <td>5</td>\n",
       "      <td>may</td>\n",
       "      <td>261</td>\n",
       "      <td>1</td>\n",
       "      <td>-1</td>\n",
       "      <td>0</td>\n",
       "      <td>unknown</td>\n",
       "      <td>no</td>\n",
       "    </tr>\n",
       "    <tr>\n",
       "      <th>1</th>\n",
       "      <td>44</td>\n",
       "      <td>technician</td>\n",
       "      <td>single</td>\n",
       "      <td>secondary</td>\n",
       "      <td>no</td>\n",
       "      <td>29</td>\n",
       "      <td>yes</td>\n",
       "      <td>no</td>\n",
       "      <td>unknown</td>\n",
       "      <td>5</td>\n",
       "      <td>may</td>\n",
       "      <td>151</td>\n",
       "      <td>1</td>\n",
       "      <td>-1</td>\n",
       "      <td>0</td>\n",
       "      <td>unknown</td>\n",
       "      <td>no</td>\n",
       "    </tr>\n",
       "    <tr>\n",
       "      <th>2</th>\n",
       "      <td>33</td>\n",
       "      <td>entrepreneur</td>\n",
       "      <td>married</td>\n",
       "      <td>secondary</td>\n",
       "      <td>no</td>\n",
       "      <td>2</td>\n",
       "      <td>yes</td>\n",
       "      <td>yes</td>\n",
       "      <td>unknown</td>\n",
       "      <td>5</td>\n",
       "      <td>may</td>\n",
       "      <td>76</td>\n",
       "      <td>1</td>\n",
       "      <td>-1</td>\n",
       "      <td>0</td>\n",
       "      <td>unknown</td>\n",
       "      <td>no</td>\n",
       "    </tr>\n",
       "    <tr>\n",
       "      <th>3</th>\n",
       "      <td>47</td>\n",
       "      <td>blue-collar</td>\n",
       "      <td>married</td>\n",
       "      <td>unknown</td>\n",
       "      <td>no</td>\n",
       "      <td>1506</td>\n",
       "      <td>yes</td>\n",
       "      <td>no</td>\n",
       "      <td>unknown</td>\n",
       "      <td>5</td>\n",
       "      <td>may</td>\n",
       "      <td>92</td>\n",
       "      <td>1</td>\n",
       "      <td>-1</td>\n",
       "      <td>0</td>\n",
       "      <td>unknown</td>\n",
       "      <td>no</td>\n",
       "    </tr>\n",
       "    <tr>\n",
       "      <th>4</th>\n",
       "      <td>33</td>\n",
       "      <td>unknown</td>\n",
       "      <td>single</td>\n",
       "      <td>unknown</td>\n",
       "      <td>no</td>\n",
       "      <td>1</td>\n",
       "      <td>no</td>\n",
       "      <td>no</td>\n",
       "      <td>unknown</td>\n",
       "      <td>5</td>\n",
       "      <td>may</td>\n",
       "      <td>198</td>\n",
       "      <td>1</td>\n",
       "      <td>-1</td>\n",
       "      <td>0</td>\n",
       "      <td>unknown</td>\n",
       "      <td>no</td>\n",
       "    </tr>\n",
       "  </tbody>\n",
       "</table>\n",
       "</div>"
      ],
      "text/plain": [
       "   age           job  marital  education  ... pdays  previous poutcome   y\n",
       "0   58    management  married   tertiary  ...    -1         0  unknown  no\n",
       "1   44    technician   single  secondary  ...    -1         0  unknown  no\n",
       "2   33  entrepreneur  married  secondary  ...    -1         0  unknown  no\n",
       "3   47   blue-collar  married    unknown  ...    -1         0  unknown  no\n",
       "4   33       unknown   single    unknown  ...    -1         0  unknown  no\n",
       "\n",
       "[5 rows x 17 columns]"
      ]
     },
     "execution_count": 14,
     "metadata": {
      "tags": []
     },
     "output_type": "execute_result"
    }
   ],
   "source": [
    "#Loading Dataset\n",
    "df=pd.read_csv(\"bank-full.csv\",sep=';')\n",
    "#printing the head of the Dataset\n",
    "df.head()"
   ]
  },
  {
   "cell_type": "code",
   "execution_count": 0,
   "metadata": {
    "colab": {},
    "colab_type": "code",
    "id": "A9yJ3d3rtyQd"
   },
   "outputs": [],
   "source": [
    "#Creating Dummy Variables\n",
    "\n",
    "df['y'] = df['y'].map({'yes': 1, 'no': 0})\n",
    "df['default']=df['default'].map({'yes': 1, 'no': 0})\n",
    "df['housing']=df['housing'].map({'yes': 1, 'no': 0})\n",
    "df['loan']=df['loan'].map({'yes': 1, 'no': 0})\n",
    "df_marital = pd.get_dummies(df['marital'])\n",
    "df['married'] = df_marital['married']\n",
    "df['divorced'] = df_marital['divorced']\n",
    "df_education = pd.get_dummies(df['education'])\n",
    "df['tertiary'] = df_education['tertiary']\n",
    "df['secondary'] = df_education['secondary']"
   ]
  },
  {
   "cell_type": "code",
   "execution_count": 0,
   "metadata": {
    "colab": {},
    "colab_type": "code",
    "id": "KeY3UMp_t6-u"
   },
   "outputs": [],
   "source": [
    "cols = ['age', 'default', 'balance', 'housing',\n",
    "       'loan','duration', 'campaign', 'pdays',\n",
    "       'previous', 'y', 'married', 'divorced','tertiary',\n",
    "       'secondary']\n",
    "df = df[cols]"
   ]
  },
  {
   "cell_type": "code",
   "execution_count": 0,
   "metadata": {
    "colab": {},
    "colab_type": "code",
    "id": "cJOlApOKuDe5"
   },
   "outputs": [],
   "source": [
    "#Splitting x and y\n",
    "y=df['y'].values\n",
    "X=df.drop(['y'], axis=1).values\n",
    "#X=df[['lights', 'T1', 'RH_1', 'T2', 'RH_2', 'T3',]].values\n",
    "#Test Train Split\n",
    "X_train, X_test, y_train, y_test = train_test_split(X, y, test_size = 0.30,random_state=100)"
   ]
  },
  {
   "cell_type": "code",
   "execution_count": 0,
   "metadata": {
    "colab": {},
    "colab_type": "code",
    "id": "Iy6yCmRRuJg6"
   },
   "outputs": [],
   "source": [
    "def featureNormalize(X):\n",
    "    X_norm = X\n",
    "    mu    = np.zeros((1, X.shape[1]))\n",
    "    sigma = np.zeros((1, X.shape[1]))\n",
    "    for i in range(X.shape[1]):\n",
    "      mu[:,i] = np.mean(X[:,i])\n",
    "      sigma[:,i] = np.std(X[:,i])\n",
    "      X_norm[:,i] = (X[:,i] - float(mu[:,i]))/float(sigma[:,i])\n",
    "    return X_norm, mu, sigma"
   ]
  },
  {
   "cell_type": "code",
   "execution_count": 0,
   "metadata": {
    "colab": {},
    "colab_type": "code",
    "id": "0fTvEnzOuLJG"
   },
   "outputs": [],
   "source": [
    "X_norm, mu, sigma = featureNormalize(X_train)\n",
    "X_train = X_norm\n",
    "X_test = (X_test - mu)/sigma"
   ]
  },
  {
   "cell_type": "code",
   "execution_count": 0,
   "metadata": {
    "colab": {},
    "colab_type": "code",
    "id": "beWEiBKZuM_a"
   },
   "outputs": [],
   "source": [
    "k_range = range(1,26)\n",
    "scores_train=[]\n",
    "scores_test=[]\n",
    "scores_list =[]\n",
    "\n",
    "for k in k_range:\n",
    "  knn = KNeighborsClassifier(n_neighbors=k)\n",
    "  knn.fit(X_train,y_train)\n",
    "  y_pred_train = knn.predict(X_train)\n",
    "  scores_train.append(metrics.accuracy_score(y_train,y_pred_train))\n",
    "  y_pred_test = knn.predict(X_test)\n",
    "  scores_test.append(metrics.accuracy_score(y_test,y_pred_test))"
   ]
  },
  {
   "cell_type": "code",
   "execution_count": 0,
   "metadata": {
    "colab": {},
    "colab_type": "code",
    "id": "AxCM0Z4puUbo"
   },
   "outputs": [],
   "source": [
    "df1 = pd.DataFrame(\n",
    "    {'K-Neighbor': k_range,\n",
    "     'Acc': 'Training Accuracy',\n",
    "     'Accuracy': scores_train\n",
    "    })\n",
    "df2 = pd.DataFrame(\n",
    "    {'K-Neighbor': k_range,\n",
    "     'Acc': 'Testing Accuracy',\n",
    "     'Accuracy': scores_test\n",
    "    })\n",
    "\n",
    "df_knn = pd.concat([df1, df2],sort=False)\n",
    "df_knn['Accuracy'] = (df_knn['Accuracy'] * 100).round(2)"
   ]
  },
  {
   "cell_type": "code",
   "execution_count": 22,
   "metadata": {
    "colab": {
     "base_uri": "https://localhost:8080/",
     "height": 404
    },
    "colab_type": "code",
    "executionInfo": {
     "elapsed": 673754,
     "status": "ok",
     "timestamp": 1572749647836,
     "user": {
      "displayName": "Sudharsana Rajasekaran",
      "photoUrl": "https://lh6.googleusercontent.com/-Snh27ThCViI/AAAAAAAAAAI/AAAAAAAACSk/On4b8CIBm2U/s64/photo.jpg",
      "userId": "07733356798731725121"
     },
     "user_tz": 300
    },
    "id": "pvHEds3CuYYN",
    "outputId": "e5eb6fc1-ec5a-4a50-a9cb-b407028fa747"
   },
   "outputs": [
    {
     "data": {
      "image/png": "[encoded data removed]",
      "text/plain": [
       "<Figure size 720x432 with 1 Axes>"
      ]
     },
     "metadata": {
      "tags": []
     },
     "output_type": "display_data"
    }
   ],
   "source": [
    "sns.set_style(\"darkgrid\",\n",
    "              {\n",
    "                  'axes.grid' : True\n",
    "              })\n",
    "plt.figure(figsize=(10,6))\n",
    "ax = sns.pointplot(x=\"K-Neighbor\", y=\"Accuracy\", hue=\"Acc\",palette=\"gist_gray\", data=df_knn)\n",
    "plt.legend(loc='upper right')\n",
    "ax.set_title('Variation of Train/Test Accuracy for different number of k-neighbors')\n",
    "\n",
    "for p in ax.patches:\n",
    "    ax.text(p.get_x() + p.get_width()/2., p.get_height(), '{0:.2f}'.format(p.get_height()), \n",
    "        fontsize=12, color='black', ha='center', va='bottom')\n",
    "plt.savefig(\"output_knn.png\",dpi=150)"
   ]
  },
  {
   "cell_type": "code",
   "execution_count": 0,
   "metadata": {
    "colab": {},
    "colab_type": "code",
    "id": "8xK7ilvRubdI"
   },
   "outputs": [],
   "source": [
    "#create a new KNN model\n",
    "knn_cv = KNeighborsClassifier(n_neighbors=3)\n",
    "#Cross Validations\n",
    "cvs = range(2,31)\n",
    "accuracy = []\n",
    "for cv in cvs:\n",
    "  cv_scores = cross_val_score(knn_cv, X_train, y_train, cv=cv)\n",
    "  accuracy.append(np.mean(cv_scores))"
   ]
  },
  {
   "cell_type": "code",
   "execution_count": 0,
   "metadata": {
    "colab": {},
    "colab_type": "code",
    "id": "tmaIW4LBJTnk"
   },
   "outputs": [],
   "source": [
    "df_knn_cv = pd.DataFrame(\n",
    "    {'K-Fold': cvs,\n",
    "     'Accuracy': accuracy\n",
    "    })\n",
    "\n",
    "df_knn_cv['Accuracy'] = (df_knn_cv['Accuracy'] * 100).round(2)"
   ]
  },
  {
   "cell_type": "code",
   "execution_count": 29,
   "metadata": {
    "colab": {
     "base_uri": "https://localhost:8080/",
     "height": 404
    },
    "colab_type": "code",
    "executionInfo": {
     "elapsed": 1057740,
     "status": "ok",
     "timestamp": 1572750766205,
     "user": {
      "displayName": "Sudharsana Rajasekaran",
      "photoUrl": "https://lh6.googleusercontent.com/-Snh27ThCViI/AAAAAAAAAAI/AAAAAAAACSk/On4b8CIBm2U/s64/photo.jpg",
      "userId": "07733356798731725121"
     },
     "user_tz": 300
    },
    "id": "b0vzVV51JU03",
    "outputId": "ce51a7b3-4e88-4e47-eed5-ce42a5d73e87"
   },
   "outputs": [
    {
     "data": {
      "image/png": "[encoded data removed]",
      "text/plain": [
       "<Figure size 720x432 with 1 Axes>"
      ]
     },
     "metadata": {
      "tags": []
     },
     "output_type": "display_data"
    }
   ],
   "source": [
    "sns.set_style(\"darkgrid\",\n",
    "              {\n",
    "                  'axes.grid' : True\n",
    "              })\n",
    "plt.figure(figsize=(10,6))\n",
    "ax = sns.pointplot(x=\"K-Fold\", y=\"Accuracy\",data=df_knn_cv)\n",
    "ax.set_title('Variation of Train/Test Accuracy for different K-Folds')\n",
    "\n",
    "plt.savefig(\"output_knn_cv.png\",dpi=150)"
   ]
  },
  {
   "cell_type": "code",
   "execution_count": 32,
   "metadata": {
    "colab": {
     "base_uri": "https://localhost:8080/",
     "height": 172
    },
    "colab_type": "code",
    "executionInfo": {
     "elapsed": 838774,
     "status": "ok",
     "timestamp": 1572751860893,
     "user": {
      "displayName": "Sudharsana Rajasekaran",
      "photoUrl": "https://lh6.googleusercontent.com/-Snh27ThCViI/AAAAAAAAAAI/AAAAAAAACSk/On4b8CIBm2U/s64/photo.jpg",
      "userId": "07733356798731725121"
     },
     "user_tz": 300
    },
    "id": "bm7dTpluL46N",
    "outputId": "40ed8f1e-e47b-4ab1-93d1-0e41682e10a7"
   },
   "outputs": [
    {
     "data": {
      "text/plain": [
       "GridSearchCV(cv=10, error_score='raise-deprecating',\n",
       "             estimator=KNeighborsClassifier(algorithm='auto', leaf_size=30,\n",
       "                                            metric='minkowski',\n",
       "                                            metric_params=None, n_jobs=None,\n",
       "                                            n_neighbors=5, p=2,\n",
       "                                            weights='uniform'),\n",
       "             iid='warn', n_jobs=None, param_grid={'n_neighbors': range(1, 31)},\n",
       "             pre_dispatch='2*n_jobs', refit=True, return_train_score=False,\n",
       "             scoring='accuracy', verbose=0)"
      ]
     },
     "execution_count": 32,
     "metadata": {
      "tags": []
     },
     "output_type": "execute_result"
    }
   ],
   "source": [
    "#create new a knn model\n",
    "knn2 = KNeighborsClassifier()\n",
    "#create a dictionary of all values we want to test for n_neighbors\n",
    "k_range = range(1,31)\n",
    "param_grid = dict(n_neighbors=k_range)\n",
    "#use gridsearch to test all values for n_neighbors\n",
    "knn_gscv = GridSearchCV(knn2, param_grid, cv=10, scoring='accuracy')\n",
    "#fit model to data\n",
    "knn_gscv.fit(X_train, y_train)"
   ]
  },
  {
   "cell_type": "code",
   "execution_count": 36,
   "metadata": {
    "colab": {
     "base_uri": "https://localhost:8080/",
     "height": 69
    },
    "colab_type": "code",
    "executionInfo": {
     "elapsed": 823,
     "status": "ok",
     "timestamp": 1572753691849,
     "user": {
      "displayName": "Sudharsana Rajasekaran",
      "photoUrl": "https://lh6.googleusercontent.com/-Snh27ThCViI/AAAAAAAAAAI/AAAAAAAACSk/On4b8CIBm2U/s64/photo.jpg",
      "userId": "07733356798731725121"
     },
     "user_tz": 300
    },
    "id": "Qaa-OEiZQ86p",
    "outputId": "19191942-a3a1-4511-8526-025bbaad34c8"
   },
   "outputs": [
    {
     "name": "stdout",
     "output_type": "stream",
     "text": [
      "Cross Validated K-Nearest Neighbour\n",
      "Accuracy: 88.75%\n",
      "Number of k-Nearest Neighbor: {'n_neighbors': 16}\n"
     ]
    }
   ],
   "source": [
    "# examine the best model\n",
    "print(\"Cross Validated K-Nearest Neighbour\")\n",
    "print('Accuracy:',str((knn_gscv.best_score_*100).round(2)) + '%')\n",
    "print('Number of k-Nearest Neighbor:',knn_gscv.best_params_)"
   ]
  },
  {
   "cell_type": "code",
   "execution_count": 34,
   "metadata": {
    "colab": {
     "base_uri": "https://localhost:8080/",
     "height": 206
    },
    "colab_type": "code",
    "executionInfo": {
     "elapsed": 2471844,
     "status": "ok",
     "timestamp": 1572753515707,
     "user": {
      "displayName": "Sudharsana Rajasekaran",
      "photoUrl": "https://lh6.googleusercontent.com/-Snh27ThCViI/AAAAAAAAAAI/AAAAAAAACSk/On4b8CIBm2U/s64/photo.jpg",
      "userId": "07733356798731725121"
     },
     "user_tz": 300
    },
    "id": "vZr9yjJ4REIn",
    "outputId": "d724a637-60c2-4f71-cdf2-1074daad5d3d"
   },
   "outputs": [
    {
     "data": {
      "text/plain": [
       "GridSearchCV(cv=10, error_score='raise-deprecating',\n",
       "             estimator=KNeighborsClassifier(algorithm='auto', leaf_size=30,\n",
       "                                            metric='minkowski',\n",
       "                                            metric_params=None, n_jobs=None,\n",
       "                                            n_neighbors=5, p=2,\n",
       "                                            weights='uniform'),\n",
       "             iid='warn', n_jobs=None,\n",
       "             param_grid={'n_neighbors': range(1, 31),\n",
       "                         'weights': ['uniform', 'distance']},\n",
       "             pre_dispatch='2*n_jobs', refit=True, return_train_score=False,\n",
       "             scoring='accuracy', verbose=0)"
      ]
     },
     "execution_count": 34,
     "metadata": {
      "tags": []
     },
     "output_type": "execute_result"
    }
   ],
   "source": [
    "#create new a knn model\n",
    "knn3 = KNeighborsClassifier()\n",
    "#create a dictionary of all values we want to test for n_neighbors\n",
    "k_range = range(1,31)\n",
    "weight_options = ['uniform', 'distance']\n",
    "param_grid = dict(n_neighbors=k_range,weights=weight_options)\n",
    "#use gridsearch to test all values for n_neighbors\n",
    "knn_gscv2 = GridSearchCV(knn3, param_grid, cv=10, scoring='accuracy')\n",
    "#fit model to data\n",
    "knn_gscv2.fit(X_train, y_train)"
   ]
  },
  {
   "cell_type": "code",
   "execution_count": 37,
   "metadata": {
    "colab": {
     "base_uri": "https://localhost:8080/",
     "height": 69
    },
    "colab_type": "code",
    "executionInfo": {
     "elapsed": 817,
     "status": "ok",
     "timestamp": 1572753703680,
     "user": {
      "displayName": "Sudharsana Rajasekaran",
      "photoUrl": "https://lh6.googleusercontent.com/-Snh27ThCViI/AAAAAAAAAAI/AAAAAAAACSk/On4b8CIBm2U/s64/photo.jpg",
      "userId": "07733356798731725121"
     },
     "user_tz": 300
    },
    "id": "G5riOfVfRGxr",
    "outputId": "c2f2018b-69ae-45cc-d894-f006b017d947"
   },
   "outputs": [
    {
     "name": "stdout",
     "output_type": "stream",
     "text": [
      "Cross Validated K-Nearest Neighbour and Distance\n",
      "Accuracy: 88.75%\n",
      "Number of k-Nearest Neighbor: {'n_neighbors': 16, 'weights': 'uniform'}\n"
     ]
    }
   ],
   "source": [
    "# examine the best model\n",
    "print(\"Cross Validated K-Nearest Neighbour and Distance\")\n",
    "print('Accuracy:',str((knn_gscv2.best_score_*100).round(2)) + '%')\n",
    "print('Number of k-Nearest Neighbor:',knn_gscv2.best_params_)"
   ]
  },
  {
   "cell_type": "code",
   "execution_count": 0,
   "metadata": {
    "colab": {},
    "colab_type": "code",
    "id": "ZEwyX2rjbEqx"
   },
   "outputs": [],
   "source": []
  }
 ],
 "metadata": {
  "colab": {
   "collapsed_sections": [],
   "name": "knn_bank_loan.ipynb",
   "provenance": []
  },
  "kernelspec": {
   "display_name": "Python 3",
   "language": "python",
   "name": "python3"
  },
  "language_info": {
   "codemirror_mode": {
    "name": "ipython",
    "version": 3
   },
   "file_extension": ".py",
   "mimetype": "text/x-python",
   "name": "python",
   "nbconvert_exporter": "python",
   "pygments_lexer": "ipython3",
   "version": "3.7.2"
  }
 },
 "nbformat": 4,
 "nbformat_minor": 1
}
