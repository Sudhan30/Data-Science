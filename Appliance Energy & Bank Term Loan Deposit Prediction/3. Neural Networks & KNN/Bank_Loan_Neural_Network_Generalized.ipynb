{
 "cells": [
  {
   "cell_type": "code",
   "execution_count": 0,
   "metadata": {
    "colab": {},
    "colab_type": "code",
    "id": "uxUhsfLRJy1W"
   },
   "outputs": [],
   "source": [
    "import math\n",
    "import numpy as np\n",
    "import pandas as pd\n",
    "import seaborn as sns\n",
    "from google.colab import files\n",
    "import matplotlib.pyplot as plt\n",
    "import tensorflow.compat.v1 as tf\n",
    "from tensorflow.python.framework import ops\n",
    "from sklearn.model_selection import train_test_split"
   ]
  },
  {
   "cell_type": "code",
   "execution_count": 2,
   "metadata": {
    "colab": {
     "base_uri": "https://localhost:8080/",
     "height": 203
    },
    "colab_type": "code",
    "executionInfo": {
     "elapsed": 2462,
     "status": "ok",
     "timestamp": 1572725581526,
     "user": {
      "displayName": "Sudharsana Rajasekaran",
      "photoUrl": "https://lh6.googleusercontent.com/-Snh27ThCViI/AAAAAAAAAAI/AAAAAAAACSk/On4b8CIBm2U/s64/photo.jpg",
      "userId": "07733356798731725121"
     },
     "user_tz": 300
    },
    "id": "95YtENEfJ4jb",
    "outputId": "db557169-4cf6-4812-ea24-b384782fda0d"
   },
   "outputs": [
    {
     "data": {
      "text/html": [
       "<div>\n",
       "<style scoped>\n",
       "    .dataframe tbody tr th:only-of-type {\n",
       "        vertical-align: middle;\n",
       "    }\n",
       "\n",
       "    .dataframe tbody tr th {\n",
       "        vertical-align: top;\n",
       "    }\n",
       "\n",
       "    .dataframe thead th {\n",
       "        text-align: right;\n",
       "    }\n",
       "</style>\n",
       "<table border=\"1\" class=\"dataframe\">\n",
       "  <thead>\n",
       "    <tr style=\"text-align: right;\">\n",
       "      <th></th>\n",
       "      <th>age</th>\n",
       "      <th>job</th>\n",
       "      <th>marital</th>\n",
       "      <th>education</th>\n",
       "      <th>default</th>\n",
       "      <th>balance</th>\n",
       "      <th>housing</th>\n",
       "      <th>loan</th>\n",
       "      <th>contact</th>\n",
       "      <th>day</th>\n",
       "      <th>month</th>\n",
       "      <th>duration</th>\n",
       "      <th>campaign</th>\n",
       "      <th>pdays</th>\n",
       "      <th>previous</th>\n",
       "      <th>poutcome</th>\n",
       "      <th>y</th>\n",
       "    </tr>\n",
       "  </thead>\n",
       "  <tbody>\n",
       "    <tr>\n",
       "      <th>0</th>\n",
       "      <td>58</td>\n",
       "      <td>management</td>\n",
       "      <td>married</td>\n",
       "      <td>tertiary</td>\n",
       "      <td>no</td>\n",
       "      <td>2143</td>\n",
       "      <td>yes</td>\n",
       "      <td>no</td>\n",
       "      <td>unknown</td>\n",
       "      <td>5</td>\n",
       "      <td>may</td>\n",
       "      <td>261</td>\n",
       "      <td>1</td>\n",
       "      <td>-1</td>\n",
       "      <td>0</td>\n",
       "      <td>unknown</td>\n",
       "      <td>no</td>\n",
       "    </tr>\n",
       "    <tr>\n",
       "      <th>1</th>\n",
       "      <td>44</td>\n",
       "      <td>technician</td>\n",
       "      <td>single</td>\n",
       "      <td>secondary</td>\n",
       "      <td>no</td>\n",
       "      <td>29</td>\n",
       "      <td>yes</td>\n",
       "      <td>no</td>\n",
       "      <td>unknown</td>\n",
       "      <td>5</td>\n",
       "      <td>may</td>\n",
       "      <td>151</td>\n",
       "      <td>1</td>\n",
       "      <td>-1</td>\n",
       "      <td>0</td>\n",
       "      <td>unknown</td>\n",
       "      <td>no</td>\n",
       "    </tr>\n",
       "    <tr>\n",
       "      <th>2</th>\n",
       "      <td>33</td>\n",
       "      <td>entrepreneur</td>\n",
       "      <td>married</td>\n",
       "      <td>secondary</td>\n",
       "      <td>no</td>\n",
       "      <td>2</td>\n",
       "      <td>yes</td>\n",
       "      <td>yes</td>\n",
       "      <td>unknown</td>\n",
       "      <td>5</td>\n",
       "      <td>may</td>\n",
       "      <td>76</td>\n",
       "      <td>1</td>\n",
       "      <td>-1</td>\n",
       "      <td>0</td>\n",
       "      <td>unknown</td>\n",
       "      <td>no</td>\n",
       "    </tr>\n",
       "    <tr>\n",
       "      <th>3</th>\n",
       "      <td>47</td>\n",
       "      <td>blue-collar</td>\n",
       "      <td>married</td>\n",
       "      <td>unknown</td>\n",
       "      <td>no</td>\n",
       "      <td>1506</td>\n",
       "      <td>yes</td>\n",
       "      <td>no</td>\n",
       "      <td>unknown</td>\n",
       "      <td>5</td>\n",
       "      <td>may</td>\n",
       "      <td>92</td>\n",
       "      <td>1</td>\n",
       "      <td>-1</td>\n",
       "      <td>0</td>\n",
       "      <td>unknown</td>\n",
       "      <td>no</td>\n",
       "    </tr>\n",
       "    <tr>\n",
       "      <th>4</th>\n",
       "      <td>33</td>\n",
       "      <td>unknown</td>\n",
       "      <td>single</td>\n",
       "      <td>unknown</td>\n",
       "      <td>no</td>\n",
       "      <td>1</td>\n",
       "      <td>no</td>\n",
       "      <td>no</td>\n",
       "      <td>unknown</td>\n",
       "      <td>5</td>\n",
       "      <td>may</td>\n",
       "      <td>198</td>\n",
       "      <td>1</td>\n",
       "      <td>-1</td>\n",
       "      <td>0</td>\n",
       "      <td>unknown</td>\n",
       "      <td>no</td>\n",
       "    </tr>\n",
       "  </tbody>\n",
       "</table>\n",
       "</div>"
      ],
      "text/plain": [
       "   age           job  marital  education  ... pdays  previous poutcome   y\n",
       "0   58    management  married   tertiary  ...    -1         0  unknown  no\n",
       "1   44    technician   single  secondary  ...    -1         0  unknown  no\n",
       "2   33  entrepreneur  married  secondary  ...    -1         0  unknown  no\n",
       "3   47   blue-collar  married    unknown  ...    -1         0  unknown  no\n",
       "4   33       unknown   single    unknown  ...    -1         0  unknown  no\n",
       "\n",
       "[5 rows x 17 columns]"
      ]
     },
     "execution_count": 2,
     "metadata": {
      "tags": []
     },
     "output_type": "execute_result"
    }
   ],
   "source": [
    "#Loading Dataset\n",
    "df=pd.read_csv(\"bank-full.csv\",sep=';')\n",
    "#printing the head of the Dataset\n",
    "df.head()"
   ]
  },
  {
   "cell_type": "code",
   "execution_count": 0,
   "metadata": {
    "colab": {},
    "colab_type": "code",
    "id": "bk1CuUsAGmgZ"
   },
   "outputs": [],
   "source": [
    "#Creating Dummy Variables\n",
    "\n",
    "df['y'] = df['y'].map({'yes': 1, 'no': 0})\n",
    "df['default']=df['default'].map({'yes': 1, 'no': 0})\n",
    "df['housing']=df['housing'].map({'yes': 1, 'no': 0})\n",
    "df['loan']=df['loan'].map({'yes': 1, 'no': 0})\n",
    "df_marital = pd.get_dummies(df['marital'])\n",
    "df['married'] = df_marital['married']\n",
    "df['divorced'] = df_marital['divorced']\n",
    "df_education = pd.get_dummies(df['education'])\n",
    "df['tertiary'] = df_education['tertiary']\n",
    "df['secondary'] = df_education['secondary']"
   ]
  },
  {
   "cell_type": "code",
   "execution_count": 4,
   "metadata": {
    "colab": {
     "base_uri": "https://localhost:8080/",
     "height": 203
    },
    "colab_type": "code",
    "executionInfo": {
     "elapsed": 2021,
     "status": "ok",
     "timestamp": 1572725581529,
     "user": {
      "displayName": "Sudharsana Rajasekaran",
      "photoUrl": "https://lh6.googleusercontent.com/-Snh27ThCViI/AAAAAAAAAAI/AAAAAAAACSk/On4b8CIBm2U/s64/photo.jpg",
      "userId": "07733356798731725121"
     },
     "user_tz": 300
    },
    "id": "IXd6kNp1GpK6",
    "outputId": "37ff4423-c39d-49f7-bde1-e95e62193dbd"
   },
   "outputs": [
    {
     "data": {
      "text/html": [
       "<div>\n",
       "<style scoped>\n",
       "    .dataframe tbody tr th:only-of-type {\n",
       "        vertical-align: middle;\n",
       "    }\n",
       "\n",
       "    .dataframe tbody tr th {\n",
       "        vertical-align: top;\n",
       "    }\n",
       "\n",
       "    .dataframe thead th {\n",
       "        text-align: right;\n",
       "    }\n",
       "</style>\n",
       "<table border=\"1\" class=\"dataframe\">\n",
       "  <thead>\n",
       "    <tr style=\"text-align: right;\">\n",
       "      <th></th>\n",
       "      <th>age</th>\n",
       "      <th>job</th>\n",
       "      <th>marital</th>\n",
       "      <th>education</th>\n",
       "      <th>default</th>\n",
       "      <th>balance</th>\n",
       "      <th>housing</th>\n",
       "      <th>loan</th>\n",
       "      <th>contact</th>\n",
       "      <th>day</th>\n",
       "      <th>month</th>\n",
       "      <th>duration</th>\n",
       "      <th>campaign</th>\n",
       "      <th>pdays</th>\n",
       "      <th>previous</th>\n",
       "      <th>poutcome</th>\n",
       "      <th>y</th>\n",
       "      <th>married</th>\n",
       "      <th>divorced</th>\n",
       "      <th>tertiary</th>\n",
       "      <th>secondary</th>\n",
       "    </tr>\n",
       "  </thead>\n",
       "  <tbody>\n",
       "    <tr>\n",
       "      <th>0</th>\n",
       "      <td>58</td>\n",
       "      <td>management</td>\n",
       "      <td>married</td>\n",
       "      <td>tertiary</td>\n",
       "      <td>0</td>\n",
       "      <td>2143</td>\n",
       "      <td>1</td>\n",
       "      <td>0</td>\n",
       "      <td>unknown</td>\n",
       "      <td>5</td>\n",
       "      <td>may</td>\n",
       "      <td>261</td>\n",
       "      <td>1</td>\n",
       "      <td>-1</td>\n",
       "      <td>0</td>\n",
       "      <td>unknown</td>\n",
       "      <td>0</td>\n",
       "      <td>1</td>\n",
       "      <td>0</td>\n",
       "      <td>1</td>\n",
       "      <td>0</td>\n",
       "    </tr>\n",
       "    <tr>\n",
       "      <th>1</th>\n",
       "      <td>44</td>\n",
       "      <td>technician</td>\n",
       "      <td>single</td>\n",
       "      <td>secondary</td>\n",
       "      <td>0</td>\n",
       "      <td>29</td>\n",
       "      <td>1</td>\n",
       "      <td>0</td>\n",
       "      <td>unknown</td>\n",
       "      <td>5</td>\n",
       "      <td>may</td>\n",
       "      <td>151</td>\n",
       "      <td>1</td>\n",
       "      <td>-1</td>\n",
       "      <td>0</td>\n",
       "      <td>unknown</td>\n",
       "      <td>0</td>\n",
       "      <td>0</td>\n",
       "      <td>0</td>\n",
       "      <td>0</td>\n",
       "      <td>1</td>\n",
       "    </tr>\n",
       "    <tr>\n",
       "      <th>2</th>\n",
       "      <td>33</td>\n",
       "      <td>entrepreneur</td>\n",
       "      <td>married</td>\n",
       "      <td>secondary</td>\n",
       "      <td>0</td>\n",
       "      <td>2</td>\n",
       "      <td>1</td>\n",
       "      <td>1</td>\n",
       "      <td>unknown</td>\n",
       "      <td>5</td>\n",
       "      <td>may</td>\n",
       "      <td>76</td>\n",
       "      <td>1</td>\n",
       "      <td>-1</td>\n",
       "      <td>0</td>\n",
       "      <td>unknown</td>\n",
       "      <td>0</td>\n",
       "      <td>1</td>\n",
       "      <td>0</td>\n",
       "      <td>0</td>\n",
       "      <td>1</td>\n",
       "    </tr>\n",
       "    <tr>\n",
       "      <th>3</th>\n",
       "      <td>47</td>\n",
       "      <td>blue-collar</td>\n",
       "      <td>married</td>\n",
       "      <td>unknown</td>\n",
       "      <td>0</td>\n",
       "      <td>1506</td>\n",
       "      <td>1</td>\n",
       "      <td>0</td>\n",
       "      <td>unknown</td>\n",
       "      <td>5</td>\n",
       "      <td>may</td>\n",
       "      <td>92</td>\n",
       "      <td>1</td>\n",
       "      <td>-1</td>\n",
       "      <td>0</td>\n",
       "      <td>unknown</td>\n",
       "      <td>0</td>\n",
       "      <td>1</td>\n",
       "      <td>0</td>\n",
       "      <td>0</td>\n",
       "      <td>0</td>\n",
       "    </tr>\n",
       "    <tr>\n",
       "      <th>4</th>\n",
       "      <td>33</td>\n",
       "      <td>unknown</td>\n",
       "      <td>single</td>\n",
       "      <td>unknown</td>\n",
       "      <td>0</td>\n",
       "      <td>1</td>\n",
       "      <td>0</td>\n",
       "      <td>0</td>\n",
       "      <td>unknown</td>\n",
       "      <td>5</td>\n",
       "      <td>may</td>\n",
       "      <td>198</td>\n",
       "      <td>1</td>\n",
       "      <td>-1</td>\n",
       "      <td>0</td>\n",
       "      <td>unknown</td>\n",
       "      <td>0</td>\n",
       "      <td>0</td>\n",
       "      <td>0</td>\n",
       "      <td>0</td>\n",
       "      <td>0</td>\n",
       "    </tr>\n",
       "  </tbody>\n",
       "</table>\n",
       "</div>"
      ],
      "text/plain": [
       "   age           job  marital  ... divorced  tertiary  secondary\n",
       "0   58    management  married  ...        0         1          0\n",
       "1   44    technician   single  ...        0         0          1\n",
       "2   33  entrepreneur  married  ...        0         0          1\n",
       "3   47   blue-collar  married  ...        0         0          0\n",
       "4   33       unknown   single  ...        0         0          0\n",
       "\n",
       "[5 rows x 21 columns]"
      ]
     },
     "execution_count": 4,
     "metadata": {
      "tags": []
     },
     "output_type": "execute_result"
    }
   ],
   "source": [
    "df.head()"
   ]
  },
  {
   "cell_type": "code",
   "execution_count": 0,
   "metadata": {
    "colab": {},
    "colab_type": "code",
    "id": "V3sKDgz-HBJr"
   },
   "outputs": [],
   "source": [
    "cols = ['age', 'default', 'balance', 'housing',\n",
    "       'loan','duration', 'campaign', 'pdays',\n",
    "       'previous', 'y', 'married', 'divorced','tertiary',\n",
    "       'secondary']\n",
    "df = df[cols]"
   ]
  },
  {
   "cell_type": "code",
   "execution_count": 6,
   "metadata": {
    "colab": {
     "base_uri": "https://localhost:8080/",
     "height": 203
    },
    "colab_type": "code",
    "executionInfo": {
     "elapsed": 1285,
     "status": "ok",
     "timestamp": 1572725581530,
     "user": {
      "displayName": "Sudharsana Rajasekaran",
      "photoUrl": "https://lh6.googleusercontent.com/-Snh27ThCViI/AAAAAAAAAAI/AAAAAAAACSk/On4b8CIBm2U/s64/photo.jpg",
      "userId": "07733356798731725121"
     },
     "user_tz": 300
    },
    "id": "PjP0klHwMlwE",
    "outputId": "c1a78ff2-8343-4318-d53a-aa3d34d49182"
   },
   "outputs": [
    {
     "data": {
      "text/html": [
       "<div>\n",
       "<style scoped>\n",
       "    .dataframe tbody tr th:only-of-type {\n",
       "        vertical-align: middle;\n",
       "    }\n",
       "\n",
       "    .dataframe tbody tr th {\n",
       "        vertical-align: top;\n",
       "    }\n",
       "\n",
       "    .dataframe thead th {\n",
       "        text-align: right;\n",
       "    }\n",
       "</style>\n",
       "<table border=\"1\" class=\"dataframe\">\n",
       "  <thead>\n",
       "    <tr style=\"text-align: right;\">\n",
       "      <th></th>\n",
       "      <th>age</th>\n",
       "      <th>default</th>\n",
       "      <th>balance</th>\n",
       "      <th>housing</th>\n",
       "      <th>loan</th>\n",
       "      <th>duration</th>\n",
       "      <th>campaign</th>\n",
       "      <th>pdays</th>\n",
       "      <th>previous</th>\n",
       "      <th>y</th>\n",
       "      <th>married</th>\n",
       "      <th>divorced</th>\n",
       "      <th>tertiary</th>\n",
       "      <th>secondary</th>\n",
       "    </tr>\n",
       "  </thead>\n",
       "  <tbody>\n",
       "    <tr>\n",
       "      <th>0</th>\n",
       "      <td>58</td>\n",
       "      <td>0</td>\n",
       "      <td>2143</td>\n",
       "      <td>1</td>\n",
       "      <td>0</td>\n",
       "      <td>261</td>\n",
       "      <td>1</td>\n",
       "      <td>-1</td>\n",
       "      <td>0</td>\n",
       "      <td>0</td>\n",
       "      <td>1</td>\n",
       "      <td>0</td>\n",
       "      <td>1</td>\n",
       "      <td>0</td>\n",
       "    </tr>\n",
       "    <tr>\n",
       "      <th>1</th>\n",
       "      <td>44</td>\n",
       "      <td>0</td>\n",
       "      <td>29</td>\n",
       "      <td>1</td>\n",
       "      <td>0</td>\n",
       "      <td>151</td>\n",
       "      <td>1</td>\n",
       "      <td>-1</td>\n",
       "      <td>0</td>\n",
       "      <td>0</td>\n",
       "      <td>0</td>\n",
       "      <td>0</td>\n",
       "      <td>0</td>\n",
       "      <td>1</td>\n",
       "    </tr>\n",
       "    <tr>\n",
       "      <th>2</th>\n",
       "      <td>33</td>\n",
       "      <td>0</td>\n",
       "      <td>2</td>\n",
       "      <td>1</td>\n",
       "      <td>1</td>\n",
       "      <td>76</td>\n",
       "      <td>1</td>\n",
       "      <td>-1</td>\n",
       "      <td>0</td>\n",
       "      <td>0</td>\n",
       "      <td>1</td>\n",
       "      <td>0</td>\n",
       "      <td>0</td>\n",
       "      <td>1</td>\n",
       "    </tr>\n",
       "    <tr>\n",
       "      <th>3</th>\n",
       "      <td>47</td>\n",
       "      <td>0</td>\n",
       "      <td>1506</td>\n",
       "      <td>1</td>\n",
       "      <td>0</td>\n",
       "      <td>92</td>\n",
       "      <td>1</td>\n",
       "      <td>-1</td>\n",
       "      <td>0</td>\n",
       "      <td>0</td>\n",
       "      <td>1</td>\n",
       "      <td>0</td>\n",
       "      <td>0</td>\n",
       "      <td>0</td>\n",
       "    </tr>\n",
       "    <tr>\n",
       "      <th>4</th>\n",
       "      <td>33</td>\n",
       "      <td>0</td>\n",
       "      <td>1</td>\n",
       "      <td>0</td>\n",
       "      <td>0</td>\n",
       "      <td>198</td>\n",
       "      <td>1</td>\n",
       "      <td>-1</td>\n",
       "      <td>0</td>\n",
       "      <td>0</td>\n",
       "      <td>0</td>\n",
       "      <td>0</td>\n",
       "      <td>0</td>\n",
       "      <td>0</td>\n",
       "    </tr>\n",
       "  </tbody>\n",
       "</table>\n",
       "</div>"
      ],
      "text/plain": [
       "   age  default  balance  housing  ...  married  divorced  tertiary  secondary\n",
       "0   58        0     2143        1  ...        1         0         1          0\n",
       "1   44        0       29        1  ...        0         0         0          1\n",
       "2   33        0        2        1  ...        1         0         0          1\n",
       "3   47        0     1506        1  ...        1         0         0          0\n",
       "4   33        0        1        0  ...        0         0         0          0\n",
       "\n",
       "[5 rows x 14 columns]"
      ]
     },
     "execution_count": 6,
     "metadata": {
      "tags": []
     },
     "output_type": "execute_result"
    }
   ],
   "source": [
    "df.head()"
   ]
  },
  {
   "cell_type": "code",
   "execution_count": 0,
   "metadata": {
    "colab": {},
    "colab_type": "code",
    "id": "kYtdl-y9KCRm"
   },
   "outputs": [],
   "source": [
    "#Splitting x and y\n",
    "y=df['y'].values\n",
    "X=df.drop(['y'], axis=1).values\n",
    "#X=df[['lights', 'T1', 'RH_1', 'T2', 'RH_2', 'T3',]].values\n",
    "#Test Train Split\n",
    "X_train, X_test, y_train, y_test = train_test_split(X, y, test_size = 0.30,random_state=100)"
   ]
  },
  {
   "cell_type": "code",
   "execution_count": 0,
   "metadata": {
    "colab": {},
    "colab_type": "code",
    "id": "k-0ilh1Hd1Tg"
   },
   "outputs": [],
   "source": [
    "def featureNormalize(X):\n",
    "    X_norm = X\n",
    "    mu    = np.zeros((1, X.shape[1]))\n",
    "    sigma = np.zeros((1, X.shape[1]))\n",
    "    for i in range(X.shape[1]):\n",
    "      mu[:,i] = np.mean(X[:,i])\n",
    "      sigma[:,i] = np.std(X[:,i])\n",
    "      X_norm[:,i] = (X[:,i] - float(mu[:,i]))/float(sigma[:,i])\n",
    "    return X_norm, mu, sigma"
   ]
  },
  {
   "cell_type": "code",
   "execution_count": 0,
   "metadata": {
    "colab": {},
    "colab_type": "code",
    "id": "O-qOzOTqeKD2"
   },
   "outputs": [],
   "source": [
    "X_norm, mu, sigma = featureNormalize(X_train)\n",
    "X_train = X_norm\n",
    "X_test = (X_test - mu)/sigma"
   ]
  },
  {
   "cell_type": "code",
   "execution_count": 10,
   "metadata": {
    "colab": {
     "base_uri": "https://localhost:8080/",
     "height": 51
    },
    "colab_type": "code",
    "executionInfo": {
     "elapsed": 563,
     "status": "ok",
     "timestamp": 1572725581712,
     "user": {
      "displayName": "Sudharsana Rajasekaran",
      "photoUrl": "https://lh6.googleusercontent.com/-Snh27ThCViI/AAAAAAAAAAI/AAAAAAAACSk/On4b8CIBm2U/s64/photo.jpg",
      "userId": "07733356798731725121"
     },
     "user_tz": 300
    },
    "id": "-KTd9Lu4KIXQ",
    "outputId": "619606ab-3060-43bf-a3c8-fcabb278b335"
   },
   "outputs": [
    {
     "name": "stdout",
     "output_type": "stream",
     "text": [
      "(31647, 13) (31647,)\n",
      "(13564, 13) (13564,)\n"
     ]
    }
   ],
   "source": [
    "print (X_train.shape, y_train.shape)\n",
    "print (X_test.shape, y_test.shape)"
   ]
  },
  {
   "cell_type": "code",
   "execution_count": 0,
   "metadata": {
    "colab": {},
    "colab_type": "code",
    "id": "IWedwuq-MJle"
   },
   "outputs": [],
   "source": [
    "X_train_flatten  = X_train.reshape(X_train.shape[0],-1).T\n",
    "y_train_flatten = y_train.reshape(y_train.shape[0],-1).T\n",
    "X_test_flatten  = X_test.reshape(X_test.shape[0],-1).T\n",
    "y_test_flatten = y_test.reshape(y_test.shape[0],-1).T"
   ]
  },
  {
   "cell_type": "code",
   "execution_count": 0,
   "metadata": {
    "colab": {},
    "colab_type": "code",
    "id": "r56dNWH3pXTM"
   },
   "outputs": [],
   "source": [
    "X_train = X_train_flatten\n",
    "X_test = X_test_flatten\n",
    "y_train = y_train_flatten\n",
    "y_test = y_test_flatten"
   ]
  },
  {
   "cell_type": "code",
   "execution_count": 13,
   "metadata": {
    "colab": {
     "base_uri": "https://localhost:8080/",
     "height": 51
    },
    "colab_type": "code",
    "executionInfo": {
     "elapsed": 434,
     "status": "ok",
     "timestamp": 1572725582615,
     "user": {
      "displayName": "Sudharsana Rajasekaran",
      "photoUrl": "https://lh6.googleusercontent.com/-Snh27ThCViI/AAAAAAAAAAI/AAAAAAAACSk/On4b8CIBm2U/s64/photo.jpg",
      "userId": "07733356798731725121"
     },
     "user_tz": 300
    },
    "id": "gGUCFeMPyNVz",
    "outputId": "4b5ed1db-945a-4bdb-af6a-98018910911e"
   },
   "outputs": [
    {
     "name": "stdout",
     "output_type": "stream",
     "text": [
      "(13, 31647) (1, 31647)\n",
      "(13, 13564) (1, 13564)\n"
     ]
    }
   ],
   "source": [
    "print (X_train.shape, y_train.shape)\n",
    "print (X_test.shape, y_test.shape)"
   ]
  },
  {
   "cell_type": "code",
   "execution_count": 0,
   "metadata": {
    "colab": {},
    "colab_type": "code",
    "id": "Qs_Zs08YKKDL"
   },
   "outputs": [],
   "source": [
    "@tf.function\n",
    "def create_placeholders(n_x, n_y):\n",
    "  X = tf.placeholder(tf.float32,[n_x,None]) # Since we have 27 features as input\n",
    "  y = tf.placeholder(tf.float32,[n_y,None])  # Since we have 1 outut labels\n",
    "  return X,y"
   ]
  },
  {
   "cell_type": "code",
   "execution_count": 0,
   "metadata": {
    "colab": {},
    "colab_type": "code",
    "id": "7efQJravP7MH"
   },
   "outputs": [],
   "source": [
    "def initialize_parameters(layer_dims):\n",
    "  tf.set_random_seed(1)  \n",
    "  parameters = {}\n",
    "  L = len(layer_dims)       \n",
    "\n",
    "  for l in range(1, L):\n",
    "    #Intializing Parameters\n",
    "    parameters['W' + str(l)] = tf.get_variable('W' + str(l) ,shape = [layer_dims[l],layer_dims[l-1]],initializer =  tf.initializers.glorot_normal())\n",
    "    parameters['b' + str(l)] = tf.get_variable('b' + str(l) ,shape = [layer_dims[l],1],initializer = tf.zeros_initializer)\n",
    " \n",
    "  return parameters"
   ]
  },
  {
   "cell_type": "code",
   "execution_count": 0,
   "metadata": {
    "colab": {},
    "colab_type": "code",
    "id": "uLlKNVVu6lY7"
   },
   "outputs": [],
   "source": [
    "@tf.function\n",
    "def relu(Z):  \n",
    "    A = tf.nn.relu(Z)\n",
    "    cache = Z \n",
    "    return A, cache"
   ]
  },
  {
   "cell_type": "code",
   "execution_count": 0,
   "metadata": {
    "colab": {},
    "colab_type": "code",
    "id": "MAhv3d6e-v_A"
   },
   "outputs": [],
   "source": [
    "@tf.function\n",
    "def sigmoid(Z):\n",
    "    A = tf.nn.sigmoid(Z)\n",
    "    cache = Z\n",
    "    \n",
    "    return A, cache"
   ]
  },
  {
   "cell_type": "code",
   "execution_count": 0,
   "metadata": {
    "colab": {},
    "colab_type": "code",
    "id": "k32JAIwOY5cw"
   },
   "outputs": [],
   "source": [
    "def linear_forward(A, W, b):\n",
    "    \n",
    "    Z = tf.matmul(W,A) + b\n",
    "\n",
    "    cache = (A, W, b)\n",
    "    \n",
    "    return Z, cache"
   ]
  },
  {
   "cell_type": "code",
   "execution_count": 0,
   "metadata": {
    "colab": {},
    "colab_type": "code",
    "id": "mz2eyLAX3EoT"
   },
   "outputs": [],
   "source": [
    "@tf.function\n",
    "def linear_activation_forward(A_prev, W, b, activation):\n",
    "\n",
    "  if activation == \"sigmoid\":\n",
    "      # Inputs: \"A_prev, W, b\". Outputs: \"A, activation_cache\".\n",
    "      Z, linear_cache = linear_forward(A_prev, W, b)\n",
    "      A, activation_cache = sigmoid(Z)\n",
    "\n",
    "  elif activation == \"relu\":\n",
    "      # Inputs: \"A_prev, W, b\". Outputs: \"A, activation_cache\".\n",
    "      Z, linear_cache = linear_forward(A_prev, W, b)\n",
    "      A, activation_cache = relu(Z)\n",
    "\n",
    "  cache = (linear_cache, activation_cache)\n",
    "\n",
    "  return A, cache"
   ]
  },
  {
   "cell_type": "code",
   "execution_count": 0,
   "metadata": {
    "colab": {},
    "colab_type": "code",
    "id": "lC1EoKtm3MPX"
   },
   "outputs": [],
   "source": [
    "@tf.function\n",
    "def L_model_forward(X, parameters):\n",
    "    caches = []\n",
    "    A = X\n",
    "    L = len(parameters) // 2                  # number of layers in the neural network\n",
    "    \n",
    "    # Implement [LINEAR -> RELU]*(L-1). Add \"cache\" to the \"caches\" list.\n",
    "    for l in range(1, L):\n",
    "        A_prev = A \n",
    "        A, cache = linear_activation_forward(A_prev, parameters['W' + str(l)], parameters['b' + str(l)], activation=\"relu\")\n",
    "        caches.append(cache)\n",
    "    \n",
    "    # Implement LINEAR -> SIGMOID. Add \"cache\" to the \"caches\" list.\n",
    "    AL, cache = linear_activation_forward(A, parameters['W' + str(L)], parameters['b' + str(L)], activation=\"sigmoid\")\n",
    "    caches.append(cache)\n",
    "    \n",
    "    #assert(AL.shape == (1,X.shape[1]))\n",
    "            \n",
    "    return AL, caches"
   ]
  },
  {
   "cell_type": "code",
   "execution_count": 0,
   "metadata": {
    "colab": {},
    "colab_type": "code",
    "id": "_RnalVfKklTl"
   },
   "outputs": [],
   "source": [
    "@tf.function\n",
    "def compute_cost(AL, Y):\n",
    "    logits = tf.transpose(AL)\n",
    "    labels = tf.transpose(Y)\n",
    "    cost = tf.reduce_mean(tf.math.squared_difference(logits,labels))\n",
    "    return cost"
   ]
  },
  {
   "cell_type": "code",
   "execution_count": 0,
   "metadata": {
    "colab": {},
    "colab_type": "code",
    "id": "uEMmUkVkixx5"
   },
   "outputs": [],
   "source": [
    "### CONSTANTS ###\n",
    "layers_dims = [13, 20, 10, 5, 1] #  4-layer model"
   ]
  },
  {
   "cell_type": "code",
   "execution_count": 23,
   "metadata": {
    "colab": {
     "base_uri": "https://localhost:8080/",
     "height": 71
    },
    "colab_type": "code",
    "executionInfo": {
     "elapsed": 3298,
     "status": "ok",
     "timestamp": 1572725593851,
     "user": {
      "displayName": "Sudharsana Rajasekaran",
      "photoUrl": "https://lh6.googleusercontent.com/-Snh27ThCViI/AAAAAAAAAAI/AAAAAAAACSk/On4b8CIBm2U/s64/photo.jpg",
      "userId": "07733356798731725121"
     },
     "user_tz": 300
    },
    "id": "N5guh820PKyo",
    "outputId": "959fb77b-4f86-4e8c-caca-4d5d451b36dc"
   },
   "outputs": [
    {
     "name": "stdout",
     "output_type": "stream",
     "text": [
      "cost = Tensor(\"PartitionedCall_2:0\", shape=(), dtype=float32)\n",
      "{'W1': <tf.Variable 'W1:0' shape=(20, 13) dtype=float32_ref>, 'b1': <tf.Variable 'b1:0' shape=(20, 1) dtype=float32_ref>, 'W2': <tf.Variable 'W2:0' shape=(10, 20) dtype=float32_ref>, 'b2': <tf.Variable 'b2:0' shape=(10, 1) dtype=float32_ref>, 'W3': <tf.Variable 'W3:0' shape=(5, 10) dtype=float32_ref>, 'b3': <tf.Variable 'b3:0' shape=(5, 1) dtype=float32_ref>, 'W4': <tf.Variable 'W4:0' shape=(1, 5) dtype=float32_ref>, 'b4': <tf.Variable 'b4:0' shape=(1, 1) dtype=float32_ref>}\n"
     ]
    }
   ],
   "source": [
    "tf.reset_default_graph()\n",
    "\n",
    "with tf.Session() as sess:\n",
    "    X, Y = create_placeholders(13,1)\n",
    "    parameters = initialize_parameters(layers_dims)\n",
    "    AL, caches = L_model_forward(X, parameters)\n",
    "    cost = compute_cost(AL, Y)\n",
    "    print(\"cost = \" + str(cost))\n",
    "    print(parameters)"
   ]
  },
  {
   "cell_type": "code",
   "execution_count": 0,
   "metadata": {
    "colab": {},
    "colab_type": "code",
    "id": "e1tajQWXoQnu"
   },
   "outputs": [],
   "source": [
    "def random_mini_batches(X, Y, mini_batch_size = 64, seed = 0):\n",
    "   \n",
    "    m = X.shape[1]                 # number of training examples\n",
    "    mini_batches = []\n",
    "    np.random.seed(seed)\n",
    "    \n",
    "    # Step 1: Shuffle (X, Y)\n",
    "    permutation = list(np.random.permutation(m))\n",
    "    shuffled_X = X[:, permutation]\n",
    "    shuffled_Y = Y[:, permutation].reshape((Y.shape[0],m))\n",
    "\n",
    "    # Step 2: Partition (shuffled_X, shuffled_Y). Minus the end case.\n",
    "    num_complete_minibatches = math.floor(m/mini_batch_size) # number of mini batches of size mini_batch_size in your partitionning\n",
    "    for k in range(0, num_complete_minibatches):\n",
    "        mini_batch_X = shuffled_X[:, k * mini_batch_size : k * mini_batch_size + mini_batch_size]\n",
    "        mini_batch_Y = shuffled_Y[:, k * mini_batch_size : k * mini_batch_size + mini_batch_size]\n",
    "        mini_batch = (mini_batch_X, mini_batch_Y)\n",
    "        mini_batches.append(mini_batch)\n",
    "    \n",
    "    # Handling the end case (last mini-batch < mini_batch_size)\n",
    "    if m % mini_batch_size != 0:\n",
    "        mini_batch_X = shuffled_X[:, num_complete_minibatches * mini_batch_size : m]\n",
    "        mini_batch_Y = shuffled_Y[:, num_complete_minibatches * mini_batch_size : m]\n",
    "        mini_batch = (mini_batch_X, mini_batch_Y)\n",
    "        mini_batches.append(mini_batch)\n",
    "    \n",
    "    return mini_batches"
   ]
  },
  {
   "cell_type": "code",
   "execution_count": 0,
   "metadata": {
    "colab": {},
    "colab_type": "code",
    "id": "76oD0HxLQ_hH"
   },
   "outputs": [],
   "source": [
    "def model(X_train, Y_train, X_test, Y_test, layers_dims, learning_rate = 0.01,\n",
    "          num_epochs = 1500, minibatch_size = 32, print_cost = True):\n",
    "\n",
    "    ops.reset_default_graph()                         # to be able to rerun the model without overwriting tf variables\n",
    "    tf.set_random_seed(1)                             # to keep consistent results\n",
    "    seed = 30                                          # to keep consistent results\n",
    "    (n_x, m) = X_train.shape                          # (n_x: input size, m : number of examples in the train set)\n",
    "    n_y = Y_train.shape[0]                            # n_y : output size\n",
    "    costs = []                                        # To keep track of the cost\n",
    "    \n",
    "    # Create Placeholders\n",
    "    X, Y = create_placeholders(n_x, n_y)\n",
    "\n",
    "    # Initialize parameters\n",
    "    parameters = initialize_parameters(layers_dims)\n",
    "    \n",
    "    # Forward propagation\n",
    "    AL, caches = L_model_forward(X, parameters)\n",
    "    \n",
    "    # Cost function\n",
    "    cost = compute_cost(AL, Y)\n",
    "    \n",
    "    # Backpropagation\n",
    "    optimizer = tf.train.AdamOptimizer(learning_rate = learning_rate).minimize(cost)\n",
    "\n",
    "    # Initialize all the variables\n",
    "    init = tf.global_variables_initializer()\n",
    "\n",
    "    # Start the session to compute the tensorflow graph\n",
    "    with tf.Session() as sess:\n",
    "        \n",
    "        # Run the initialization\n",
    "        sess.run(init)\n",
    "        \n",
    "        for epoch in range(num_epochs):\n",
    "            epoch_cost = 0.                       \n",
    "            num_minibatches = int(m / minibatch_size)\n",
    "            seed = seed + 1\n",
    "            minibatches = random_mini_batches(X_train, Y_train, minibatch_size, seed)\n",
    "\n",
    "            for minibatch in minibatches:\n",
    "\n",
    "                # Select a minibatch\n",
    "                (minibatch_X, minibatch_Y) = minibatch\n",
    "          \n",
    "                _ , minibatch_cost = sess.run([optimizer, cost], feed_dict={X: minibatch_X, Y: minibatch_Y})\n",
    "                \n",
    "                epoch_cost += minibatch_cost / num_minibatches\n",
    "\n",
    "            # Print the cost every epoch\n",
    "            if print_cost == True and epoch % 100 == 0:\n",
    "                print (\"Cost after epoch %i: %f\" % (epoch, epoch_cost))\n",
    "            if epoch % 5 == 0:\n",
    "                costs.append(epoch_cost)\n",
    "                \n",
    "        # plot the cost\n",
    "        # plt.plot(np.squeeze(costs))\n",
    "        # plt.ylabel('cost')\n",
    "        # plt.xlabel('iterations (per tens)')\n",
    "        # plt.title(\"Learning rate =\" + str(learning_rate))\n",
    "        # plt.show()\n",
    "\n",
    "        # lets save the parameters in a variable\n",
    "        parameters = sess.run(parameters)\n",
    "        print (\"Parameters have been trained!\")\n",
    "\n",
    "        predicted = AL\n",
    "\n",
    "        # Calculate the correct predictions\n",
    "        correct_prediction = tf.equal(tf.round(predicted), Y)\n",
    "\n",
    "        # Calculate accuracy on the test set\n",
    "        accuracy = tf.reduce_mean(tf.cast(correct_prediction, \"float\"))\n",
    "\n",
    "        Training_Accuracy = accuracy.eval({X: X_train, Y: Y_train})\n",
    "        Testing_Accuracy  = accuracy.eval({X: X_test, Y: Y_test})\n",
    "        print (\"Train Accuracy:\", Training_Accuracy)\n",
    "        print (\"Test Accuracy:\", Testing_Accuracy)\n",
    "        \n",
    "        return parameters, costs, Training_Accuracy, Testing_Accuracy"
   ]
  },
  {
   "cell_type": "code",
   "execution_count": 26,
   "metadata": {
    "colab": {
     "base_uri": "https://localhost:8080/",
     "height": 327
    },
    "colab_type": "code",
    "executionInfo": {
     "elapsed": 395954,
     "status": "ok",
     "timestamp": 1572725993485,
     "user": {
      "displayName": "Sudharsana Rajasekaran",
      "photoUrl": "https://lh6.googleusercontent.com/-Snh27ThCViI/AAAAAAAAAAI/AAAAAAAACSk/On4b8CIBm2U/s64/photo.jpg",
      "userId": "07733356798731725121"
     },
     "user_tz": 300
    },
    "id": "YTeuLrMHletM",
    "outputId": "e6f7eebb-e2f5-4d67-e093-0842e9d48df4"
   },
   "outputs": [
    {
     "name": "stdout",
     "output_type": "stream",
     "text": [
      "Parameters have been trained!\n",
      "Train Accuracy: 0.89695704\n",
      "Test Accuracy: 0.8806399\n",
      "Parameters have been trained!\n",
      "Train Accuracy: 0.8988846\n",
      "Test Accuracy: 0.8661899\n",
      "Parameters have been trained!\n",
      "Train Accuracy: 0.8989478\n",
      "Test Accuracy: 0.8800501\n",
      "Parameters have been trained!\n",
      "Train Accuracy: 0.8988846\n",
      "Test Accuracy: 0.8793866\n",
      "Parameters have been trained!\n",
      "Train Accuracy: 0.8995165\n",
      "Test Accuracy: 0.8758478\n",
      "Parameters have been trained!\n",
      "Train Accuracy: 0.8982842\n",
      "Test Accuracy: 0.8806399\n"
     ]
    }
   ],
   "source": [
    "### CONSTANTS ###\n",
    "layers_dims = [13, 20, 10, 5, 1] #  3-layer hidden model\n",
    "batches = [100,250,500,2000,5000,10000]\n",
    "cost_dict=dict()\n",
    "train_acc = []\n",
    "test_acc = []\n",
    "for batch in batches:\n",
    "  _,costs,Training_Accuracy,Testing_Accuracy = parameters = model(X_train, y_train, X_test, y_test,learning_rate = 0.01,num_epochs = 500,\n",
    "                                                                  minibatch_size = batch,print_cost = False,layers_dims=layers_dims)\n",
    "  cost_dict[batch] = costs\n",
    "  train_acc.append(Training_Accuracy)\n",
    "  test_acc.append(Testing_Accuracy)"
   ]
  },
  {
   "cell_type": "code",
   "execution_count": 27,
   "metadata": {
    "colab": {
     "base_uri": "https://localhost:8080/",
     "height": 418
    },
    "colab_type": "code",
    "executionInfo": {
     "elapsed": 146,
     "status": "ok",
     "timestamp": 1572726081802,
     "user": {
      "displayName": "Sudharsana Rajasekaran",
      "photoUrl": "https://lh6.googleusercontent.com/-Snh27ThCViI/AAAAAAAAAAI/AAAAAAAACSk/On4b8CIBm2U/s64/photo.jpg",
      "userId": "07733356798731725121"
     },
     "user_tz": 300
    },
    "id": "09kGsCD6ixI3",
    "outputId": "51970a89-b82f-425b-d99c-64cf512b3aad"
   },
   "outputs": [
    {
     "data": {
      "text/html": [
       "<div>\n",
       "<style scoped>\n",
       "    .dataframe tbody tr th:only-of-type {\n",
       "        vertical-align: middle;\n",
       "    }\n",
       "\n",
       "    .dataframe tbody tr th {\n",
       "        vertical-align: top;\n",
       "    }\n",
       "\n",
       "    .dataframe thead th {\n",
       "        text-align: right;\n",
       "    }\n",
       "</style>\n",
       "<table border=\"1\" class=\"dataframe\">\n",
       "  <thead>\n",
       "    <tr style=\"text-align: right;\">\n",
       "      <th></th>\n",
       "      <th>MiniBatch Size</th>\n",
       "      <th>Acc</th>\n",
       "      <th>Accuracy</th>\n",
       "    </tr>\n",
       "  </thead>\n",
       "  <tbody>\n",
       "    <tr>\n",
       "      <th>0</th>\n",
       "      <td>100</td>\n",
       "      <td>TrainingAccuracy</td>\n",
       "      <td>89.70</td>\n",
       "    </tr>\n",
       "    <tr>\n",
       "      <th>1</th>\n",
       "      <td>250</td>\n",
       "      <td>TrainingAccuracy</td>\n",
       "      <td>89.89</td>\n",
       "    </tr>\n",
       "    <tr>\n",
       "      <th>2</th>\n",
       "      <td>500</td>\n",
       "      <td>TrainingAccuracy</td>\n",
       "      <td>89.89</td>\n",
       "    </tr>\n",
       "    <tr>\n",
       "      <th>3</th>\n",
       "      <td>2000</td>\n",
       "      <td>TrainingAccuracy</td>\n",
       "      <td>89.89</td>\n",
       "    </tr>\n",
       "    <tr>\n",
       "      <th>4</th>\n",
       "      <td>5000</td>\n",
       "      <td>TrainingAccuracy</td>\n",
       "      <td>89.95</td>\n",
       "    </tr>\n",
       "    <tr>\n",
       "      <th>5</th>\n",
       "      <td>10000</td>\n",
       "      <td>TrainingAccuracy</td>\n",
       "      <td>89.83</td>\n",
       "    </tr>\n",
       "    <tr>\n",
       "      <th>0</th>\n",
       "      <td>100</td>\n",
       "      <td>TestingAccuracy</td>\n",
       "      <td>88.06</td>\n",
       "    </tr>\n",
       "    <tr>\n",
       "      <th>1</th>\n",
       "      <td>250</td>\n",
       "      <td>TestingAccuracy</td>\n",
       "      <td>86.62</td>\n",
       "    </tr>\n",
       "    <tr>\n",
       "      <th>2</th>\n",
       "      <td>500</td>\n",
       "      <td>TestingAccuracy</td>\n",
       "      <td>88.01</td>\n",
       "    </tr>\n",
       "    <tr>\n",
       "      <th>3</th>\n",
       "      <td>2000</td>\n",
       "      <td>TestingAccuracy</td>\n",
       "      <td>87.94</td>\n",
       "    </tr>\n",
       "    <tr>\n",
       "      <th>4</th>\n",
       "      <td>5000</td>\n",
       "      <td>TestingAccuracy</td>\n",
       "      <td>87.58</td>\n",
       "    </tr>\n",
       "    <tr>\n",
       "      <th>5</th>\n",
       "      <td>10000</td>\n",
       "      <td>TestingAccuracy</td>\n",
       "      <td>88.06</td>\n",
       "    </tr>\n",
       "  </tbody>\n",
       "</table>\n",
       "</div>"
      ],
      "text/plain": [
       "   MiniBatch Size               Acc  Accuracy\n",
       "0             100  TrainingAccuracy     89.70\n",
       "1             250  TrainingAccuracy     89.89\n",
       "2             500  TrainingAccuracy     89.89\n",
       "3            2000  TrainingAccuracy     89.89\n",
       "4            5000  TrainingAccuracy     89.95\n",
       "5           10000  TrainingAccuracy     89.83\n",
       "0             100   TestingAccuracy     88.06\n",
       "1             250   TestingAccuracy     86.62\n",
       "2             500   TestingAccuracy     88.01\n",
       "3            2000   TestingAccuracy     87.94\n",
       "4            5000   TestingAccuracy     87.58\n",
       "5           10000   TestingAccuracy     88.06"
      ]
     },
     "execution_count": 27,
     "metadata": {
      "tags": []
     },
     "output_type": "execute_result"
    }
   ],
   "source": [
    "df1 = pd.DataFrame(\n",
    "    {'MiniBatch Size': batches,\n",
    "     'Acc': 'TrainingAccuracy',\n",
    "     'Accuracy': train_acc\n",
    "    })\n",
    "df2 = pd.DataFrame(\n",
    "    {'MiniBatch Size': batches,\n",
    "     'Acc': 'TestingAccuracy',\n",
    "     'Accuracy': test_acc\n",
    "    })\n",
    "\n",
    "df_mini = pd.concat([df1, df2],sort=False)\n",
    "df_mini['Accuracy'] = (df_mini['Accuracy'] * 100).round(2)\n",
    "df_mini"
   ]
  },
  {
   "cell_type": "code",
   "execution_count": 28,
   "metadata": {
    "colab": {
     "base_uri": "https://localhost:8080/",
     "height": 404
    },
    "colab_type": "code",
    "executionInfo": {
     "elapsed": 1129,
     "status": "ok",
     "timestamp": 1572726085559,
     "user": {
      "displayName": "Sudharsana Rajasekaran",
      "photoUrl": "https://lh6.googleusercontent.com/-Snh27ThCViI/AAAAAAAAAAI/AAAAAAAACSk/On4b8CIBm2U/s64/photo.jpg",
      "userId": "07733356798731725121"
     },
     "user_tz": 300
    },
    "id": "eAkf4cXGqI65",
    "outputId": "40cc58e3-2130-4b30-e3c6-34b56f8af6ab"
   },
   "outputs": [
    {
     "data": {
      "image/png": "[encoded data removed]",
      "text/plain": [
       "<Figure size 720x432 with 1 Axes>"
      ]
     },
     "metadata": {
      "tags": []
     },
     "output_type": "display_data"
    }
   ],
   "source": [
    "sns.set_style(\"darkgrid\",\n",
    "              {\n",
    "                  'axes.grid' : True\n",
    "              })\n",
    "plt.figure(figsize=(10,6))\n",
    "ax = sns.barplot(x=\"MiniBatch Size\", y=\"Accuracy\", hue=\"Acc\",palette=\"Accent\", data=df_mini)\n",
    "plt.legend(loc='lower right')\n",
    "ax.set_title('Variation of Train/Test Accuracy for different sizes of Mini Batch')\n",
    "\n",
    "for p in ax.patches:\n",
    "    ax.text(p.get_x() + p.get_width()/2., p.get_height(), '{0:.2f}'.format(p.get_height()), \n",
    "        fontsize=12, color='black', ha='center', va='bottom')\n",
    "plt.savefig(\"output_mini.png\",dpi=150)"
   ]
  },
  {
   "cell_type": "code",
   "execution_count": 29,
   "metadata": {
    "colab": {
     "base_uri": "https://localhost:8080/",
     "height": 295
    },
    "colab_type": "code",
    "executionInfo": {
     "elapsed": 968,
     "status": "ok",
     "timestamp": 1572726095373,
     "user": {
      "displayName": "Sudharsana Rajasekaran",
      "photoUrl": "https://lh6.googleusercontent.com/-Snh27ThCViI/AAAAAAAAAAI/AAAAAAAACSk/On4b8CIBm2U/s64/photo.jpg",
      "userId": "07733356798731725121"
     },
     "user_tz": 300
    },
    "id": "TfqDeHXHDp0i",
    "outputId": "e4f8ff35-41a8-4a88-fcb0-5f7cc04200b6"
   },
   "outputs": [
    {
     "data": {
      "image/png": "[encoded data removed]",
      "text/plain": [
       "<Figure size 432x288 with 1 Axes>"
      ]
     },
     "metadata": {
      "tags": []
     },
     "output_type": "display_data"
    }
   ],
   "source": [
    "cost_df = pd.DataFrame(cost_dict)\n",
    "cost_df.plot()\n",
    "plt.xlabel(\"Iterations\")\n",
    "plt.ylabel(\"Cost\")\n",
    "plt.title(\"Variation of Cost for different Mini batch sizes\")\n",
    "plt.legend(title='Mini Batch Size')\n",
    "sns.set_style(\"darkgrid\", {\"axes.facecolor\": \".9\"})\n",
    "plt.savefig(\"output_line.png\",dpi=150)\n",
    "plt.show()"
   ]
  },
  {
   "cell_type": "code",
   "execution_count": 31,
   "metadata": {
    "colab": {
     "base_uri": "https://localhost:8080/",
     "height": 223
    },
    "colab_type": "code",
    "executionInfo": {
     "elapsed": 2205708,
     "status": "ok",
     "timestamp": 1572728502977,
     "user": {
      "displayName": "Sudharsana Rajasekaran",
      "photoUrl": "https://lh6.googleusercontent.com/-Snh27ThCViI/AAAAAAAAAAI/AAAAAAAACSk/On4b8CIBm2U/s64/photo.jpg",
      "userId": "07733356798731725121"
     },
     "user_tz": 300
    },
    "id": "dgnCTdqvMIj_",
    "outputId": "433c3481-832d-4721-da41-8426e0f5e358"
   },
   "outputs": [
    {
     "name": "stdout",
     "output_type": "stream",
     "text": [
      "Parameters have been trained!\n",
      "Train Accuracy: 0.9012545\n",
      "Test Accuracy: 0.86596876\n",
      "Parameters have been trained!\n",
      "Train Accuracy: 0.91013366\n",
      "Test Accuracy: 0.8835152\n",
      "Parameters have been trained!\n",
      "Train Accuracy: 0.8827693\n",
      "Test Accuracy: 0.8835889\n",
      "Parameters have been trained!\n",
      "Train Accuracy: 0.8827693\n",
      "Test Accuracy: 0.8835889\n"
     ]
    }
   ],
   "source": [
    "### CONSTANTS ###\n",
    "layers_dims = [[13, 20, 10, 5, 1],\n",
    "               [13,200,100,50,1],\n",
    "               [13,500,250,100,1],\n",
    "               [13,1000,500,250,1]]#  4-layer hidden model\n",
    "batch = 1000 #mini batch size\n",
    "cost_dict=dict()\n",
    "train_acc = []\n",
    "test_acc = []\n",
    "for layers_dim in layers_dims:\n",
    "  _,costs,Training_Accuracy,Testing_Accuracy = parameters = model(X_train, y_train, X_test, y_test,learning_rate = 0.01,num_epochs = 500,\n",
    "                                                                  minibatch_size = batch,print_cost = False,layers_dims=layers_dim)\n",
    "  cost_dict[batch] = costs\n",
    "  train_acc.append(Training_Accuracy)\n",
    "  test_acc.append(Testing_Accuracy)"
   ]
  },
  {
   "cell_type": "code",
   "execution_count": 0,
   "metadata": {
    "colab": {},
    "colab_type": "code",
    "id": "hCSTHVUuypmF"
   },
   "outputs": [],
   "source": [
    "df11 = pd.DataFrame(\n",
    "    {'Accuracy': 'TrainingAccuracy',\n",
    "     'Accuracy_val': train_acc\n",
    "    })\n",
    "df11[\"Layer number\"] = df11.index + 1\n",
    "df11[['i/p','HL1','HL2','HL3','o/p']] = pd.DataFrame(layers_dims)\n",
    "\n",
    "df21 = pd.DataFrame(\n",
    "    {'Accuracy': 'TestingAccuracy',\n",
    "     'Accuracy_val': test_acc\n",
    "    })\n",
    "df21[\"Layer number\"] = df21.index + 1\n",
    "df21[['i/p','HL1','HL2','HL3','o/p']] = pd.DataFrame(layers_dims)\n",
    "\n",
    "df_broad = pd.concat([df11, df21],sort=False)\n",
    "df_broad['Accuracy_val'] = (df_broad['Accuracy_val'] * 100).round(2)\n",
    "\n",
    "df_broad = df_broad[['Layer number', 'i/p', 'HL1', 'HL2', 'HL3','o/p','Accuracy', 'Accuracy_val']]"
   ]
  },
  {
   "cell_type": "code",
   "execution_count": 34,
   "metadata": {
    "colab": {
     "base_uri": "https://localhost:8080/",
     "height": 295
    },
    "colab_type": "code",
    "executionInfo": {
     "elapsed": 169,
     "status": "ok",
     "timestamp": 1572728643042,
     "user": {
      "displayName": "Sudharsana Rajasekaran",
      "photoUrl": "https://lh6.googleusercontent.com/-Snh27ThCViI/AAAAAAAAAAI/AAAAAAAACSk/On4b8CIBm2U/s64/photo.jpg",
      "userId": "07733356798731725121"
     },
     "user_tz": 300
    },
    "id": "GjgHlXF77pU9",
    "outputId": "2ee5455a-60d3-4bac-a009-e427bd8b17ed"
   },
   "outputs": [
    {
     "data": {
      "text/html": [
       "<div>\n",
       "<style scoped>\n",
       "    .dataframe tbody tr th:only-of-type {\n",
       "        vertical-align: middle;\n",
       "    }\n",
       "\n",
       "    .dataframe tbody tr th {\n",
       "        vertical-align: top;\n",
       "    }\n",
       "\n",
       "    .dataframe thead th {\n",
       "        text-align: right;\n",
       "    }\n",
       "</style>\n",
       "<table border=\"1\" class=\"dataframe\">\n",
       "  <thead>\n",
       "    <tr style=\"text-align: right;\">\n",
       "      <th></th>\n",
       "      <th>Layer number</th>\n",
       "      <th>i/p</th>\n",
       "      <th>HL1</th>\n",
       "      <th>HL2</th>\n",
       "      <th>HL3</th>\n",
       "      <th>o/p</th>\n",
       "      <th>Accuracy</th>\n",
       "      <th>Accuracy_val</th>\n",
       "    </tr>\n",
       "  </thead>\n",
       "  <tbody>\n",
       "    <tr>\n",
       "      <th>0</th>\n",
       "      <td>1</td>\n",
       "      <td>13</td>\n",
       "      <td>20</td>\n",
       "      <td>10</td>\n",
       "      <td>5</td>\n",
       "      <td>1</td>\n",
       "      <td>TrainingAccuracy</td>\n",
       "      <td>90.13</td>\n",
       "    </tr>\n",
       "    <tr>\n",
       "      <th>1</th>\n",
       "      <td>2</td>\n",
       "      <td>13</td>\n",
       "      <td>200</td>\n",
       "      <td>100</td>\n",
       "      <td>50</td>\n",
       "      <td>1</td>\n",
       "      <td>TrainingAccuracy</td>\n",
       "      <td>91.01</td>\n",
       "    </tr>\n",
       "    <tr>\n",
       "      <th>2</th>\n",
       "      <td>3</td>\n",
       "      <td>13</td>\n",
       "      <td>500</td>\n",
       "      <td>250</td>\n",
       "      <td>100</td>\n",
       "      <td>1</td>\n",
       "      <td>TrainingAccuracy</td>\n",
       "      <td>88.28</td>\n",
       "    </tr>\n",
       "    <tr>\n",
       "      <th>3</th>\n",
       "      <td>4</td>\n",
       "      <td>13</td>\n",
       "      <td>1000</td>\n",
       "      <td>500</td>\n",
       "      <td>250</td>\n",
       "      <td>1</td>\n",
       "      <td>TrainingAccuracy</td>\n",
       "      <td>88.28</td>\n",
       "    </tr>\n",
       "    <tr>\n",
       "      <th>0</th>\n",
       "      <td>1</td>\n",
       "      <td>13</td>\n",
       "      <td>20</td>\n",
       "      <td>10</td>\n",
       "      <td>5</td>\n",
       "      <td>1</td>\n",
       "      <td>TestingAccuracy</td>\n",
       "      <td>86.60</td>\n",
       "    </tr>\n",
       "    <tr>\n",
       "      <th>1</th>\n",
       "      <td>2</td>\n",
       "      <td>13</td>\n",
       "      <td>200</td>\n",
       "      <td>100</td>\n",
       "      <td>50</td>\n",
       "      <td>1</td>\n",
       "      <td>TestingAccuracy</td>\n",
       "      <td>88.35</td>\n",
       "    </tr>\n",
       "    <tr>\n",
       "      <th>2</th>\n",
       "      <td>3</td>\n",
       "      <td>13</td>\n",
       "      <td>500</td>\n",
       "      <td>250</td>\n",
       "      <td>100</td>\n",
       "      <td>1</td>\n",
       "      <td>TestingAccuracy</td>\n",
       "      <td>88.36</td>\n",
       "    </tr>\n",
       "    <tr>\n",
       "      <th>3</th>\n",
       "      <td>4</td>\n",
       "      <td>13</td>\n",
       "      <td>1000</td>\n",
       "      <td>500</td>\n",
       "      <td>250</td>\n",
       "      <td>1</td>\n",
       "      <td>TestingAccuracy</td>\n",
       "      <td>88.36</td>\n",
       "    </tr>\n",
       "  </tbody>\n",
       "</table>\n",
       "</div>"
      ],
      "text/plain": [
       "   Layer number  i/p   HL1  HL2  HL3  o/p          Accuracy  Accuracy_val\n",
       "0             1   13    20   10    5    1  TrainingAccuracy         90.13\n",
       "1             2   13   200  100   50    1  TrainingAccuracy         91.01\n",
       "2             3   13   500  250  100    1  TrainingAccuracy         88.28\n",
       "3             4   13  1000  500  250    1  TrainingAccuracy         88.28\n",
       "0             1   13    20   10    5    1   TestingAccuracy         86.60\n",
       "1             2   13   200  100   50    1   TestingAccuracy         88.35\n",
       "2             3   13   500  250  100    1   TestingAccuracy         88.36\n",
       "3             4   13  1000  500  250    1   TestingAccuracy         88.36"
      ]
     },
     "execution_count": 34,
     "metadata": {
      "tags": []
     },
     "output_type": "execute_result"
    }
   ],
   "source": [
    "df_broad"
   ]
  },
  {
   "cell_type": "code",
   "execution_count": 38,
   "metadata": {
    "colab": {
     "base_uri": "https://localhost:8080/",
     "height": 404
    },
    "colab_type": "code",
    "executionInfo": {
     "elapsed": 657,
     "status": "ok",
     "timestamp": 1572729459638,
     "user": {
      "displayName": "Sudharsana Rajasekaran",
      "photoUrl": "https://lh6.googleusercontent.com/-Snh27ThCViI/AAAAAAAAAAI/AAAAAAAACSk/On4b8CIBm2U/s64/photo.jpg",
      "userId": "07733356798731725121"
     },
     "user_tz": 300
    },
    "id": "48v4pLOT7bt9",
    "outputId": "bae3033d-5a49-4b3b-cde3-4600c1ea7487"
   },
   "outputs": [
    {
     "data": {
      "image/png": "[encoded data removed]",
      "text/plain": [
       "<Figure size 720x432 with 1 Axes>"
      ]
     },
     "metadata": {
      "tags": []
     },
     "output_type": "display_data"
    }
   ],
   "source": [
    "sns.set_style(\"darkgrid\",\n",
    "              {\n",
    "                  'axes.grid' : True\n",
    "              })\n",
    "plt.figure(figsize=(10,6))\n",
    "ax = sns.barplot(x=\"Layer number\", y=\"Accuracy_val\", hue=\"Accuracy\",palette='viridis', data=df_broad)\n",
    "plt.legend(loc='lower right')\n",
    "ax.set_title('Variation of Train/Test Accuracy for different hidden layer width')\n",
    "ax.set(xlabel='Layer Number', ylabel='Accuracy')\n",
    "\n",
    "for p in ax.patches:\n",
    "    ax.text(p.get_x() + p.get_width()/2., p.get_height(), '{0:.2f}'.format(p.get_height()), \n",
    "        fontsize=12, color='black', ha='center', va='bottom')\n",
    "plt.savefig(\"output_broad.png\",dpi=150)"
   ]
  },
  {
   "cell_type": "code",
   "execution_count": 35,
   "metadata": {
    "colab": {
     "base_uri": "https://localhost:8080/",
     "height": 430
    },
    "colab_type": "code",
    "executionInfo": {
     "elapsed": 490737,
     "status": "ok",
     "timestamp": 1572729244716,
     "user": {
      "displayName": "Sudharsana Rajasekaran",
      "photoUrl": "https://lh6.googleusercontent.com/-Snh27ThCViI/AAAAAAAAAAI/AAAAAAAACSk/On4b8CIBm2U/s64/photo.jpg",
      "userId": "07733356798731725121"
     },
     "user_tz": 300
    },
    "id": "2CF-bJ1B7ed8",
    "outputId": "41fbae3c-a08b-4631-cef2-9876a76472dc"
   },
   "outputs": [
    {
     "name": "stdout",
     "output_type": "stream",
     "text": [
      "Parameters have been trained!\n",
      "Train Accuracy: 0.8939552\n",
      "Test Accuracy: 0.888381\n",
      "Parameters have been trained!\n",
      "Train Accuracy: 0.8958195\n",
      "Test Accuracy: 0.88882333\n",
      "Parameters have been trained!\n",
      "Train Accuracy: 0.898695\n",
      "Test Accuracy: 0.8829254\n",
      "Parameters have been trained!\n",
      "Train Accuracy: 0.9012545\n",
      "Test Accuracy: 0.86596876\n",
      "Parameters have been trained!\n",
      "Train Accuracy: 0.90093845\n",
      "Test Accuracy: 0.8382483\n",
      "Parameters have been trained!\n",
      "Train Accuracy: 0.9012229\n",
      "Test Accuracy: 0.8229136\n",
      "Parameters have been trained!\n",
      "Train Accuracy: 0.9008753\n",
      "Test Accuracy: 0.85129756\n",
      "Parameters have been trained!\n",
      "Train Accuracy: 0.9022972\n",
      "Test Accuracy: 0.8547626\n"
     ]
    }
   ],
   "source": [
    "### CONSTANTS ###\n",
    "#Varying Number of Epochs\n",
    "layers_dims = [13, 20, 10, 5, 1]#  4-layer hidden model\n",
    "batch = 1000 #mini batch size\n",
    "cost_dict=dict()\n",
    "train_acc = []\n",
    "test_acc = []\n",
    "num_epochs = [50,100,250,500,750,1000,2000,3000]\n",
    "for num_epoch in num_epochs:\n",
    "  _,costs,Training_Accuracy,Testing_Accuracy = parameters = model(X_train, y_train, X_test, y_test,learning_rate = 0.01,num_epochs = num_epoch,\n",
    "                                                                  minibatch_size = batch,print_cost = False,layers_dims=layers_dims)\n",
    "  cost_dict[batch] = costs\n",
    "  train_acc.append(Training_Accuracy)\n",
    "  test_acc.append(Testing_Accuracy)"
   ]
  },
  {
   "cell_type": "code",
   "execution_count": 0,
   "metadata": {
    "colab": {},
    "colab_type": "code",
    "id": "b1LoacbP8E7z"
   },
   "outputs": [],
   "source": [
    "df31 = pd.DataFrame(\n",
    "    {'No. of Epochs': num_epochs,\n",
    "     'Acc': 'TrainingAccuracy',\n",
    "     'Accuracy': train_acc\n",
    "    })\n",
    "df32 = pd.DataFrame(\n",
    "    {'No. of Epochs': num_epochs,\n",
    "     'Acc': 'TestingAccuracy',\n",
    "     'Accuracy': test_acc\n",
    "    })\n",
    "\n",
    "df_epoch = pd.concat([df31, df32],sort=False)\n",
    "df_epoch['Accuracy'] = (df_epoch['Accuracy'] * 100).round(2)"
   ]
  },
  {
   "cell_type": "code",
   "execution_count": 37,
   "metadata": {
    "colab": {
     "base_uri": "https://localhost:8080/",
     "height": 404
    },
    "colab_type": "code",
    "executionInfo": {
     "elapsed": 1266,
     "status": "ok",
     "timestamp": 1572729395478,
     "user": {
      "displayName": "Sudharsana Rajasekaran",
      "photoUrl": "https://lh6.googleusercontent.com/-Snh27ThCViI/AAAAAAAAAAI/AAAAAAAACSk/On4b8CIBm2U/s64/photo.jpg",
      "userId": "07733356798731725121"
     },
     "user_tz": 300
    },
    "id": "dL3D155c-fWf",
    "outputId": "d2cecfbb-8936-4f66-aa0d-ad8561297623"
   },
   "outputs": [
    {
     "data": {
      "image/png": "[encoded data removed]",
      "text/plain": [
       "<Figure size 1008x432 with 1 Axes>"
      ]
     },
     "metadata": {
      "tags": []
     },
     "output_type": "display_data"
    }
   ],
   "source": [
    "sns.set_style(\"darkgrid\",\n",
    "              {\n",
    "                  'axes.grid' : True\n",
    "              })\n",
    "plt.figure(figsize=(14,6))\n",
    "ax = sns.barplot(x=\"No. of Epochs\", y=\"Accuracy\", hue=\"Acc\",palette=\"gist_gray\", data=df_epoch)\n",
    "plt.legend(loc='lower right')\n",
    "ax.set_title('Variation of Train/Test Accuracy for different number of Epochs')\n",
    "\n",
    "for p in ax.patches:\n",
    "    ax.text(p.get_x() + p.get_width()/2., p.get_height(), '{0:.2f}'.format(p.get_height()), \n",
    "        fontsize=12, color='black', ha='center', va='bottom')\n",
    "plt.savefig(\"output_epoch.png\",dpi=150)"
   ]
  },
  {
   "cell_type": "code",
   "execution_count": 39,
   "metadata": {
    "colab": {
     "base_uri": "https://localhost:8080/",
     "height": 275
    },
    "colab_type": "code",
    "executionInfo": {
     "elapsed": 235906,
     "status": "ok",
     "timestamp": 1572730828556,
     "user": {
      "displayName": "Sudharsana Rajasekaran",
      "photoUrl": "https://lh6.googleusercontent.com/-Snh27ThCViI/AAAAAAAAAAI/AAAAAAAACSk/On4b8CIBm2U/s64/photo.jpg",
      "userId": "07733356798731725121"
     },
     "user_tz": 300
    },
    "id": "wZgPA3o1-hPe",
    "outputId": "56e18153-3655-4afe-c1a0-49dbaec47805"
   },
   "outputs": [
    {
     "name": "stdout",
     "output_type": "stream",
     "text": [
      "Parameters have been trained!\n",
      "Train Accuracy: 0.9012545\n",
      "Test Accuracy: 0.86596876\n",
      "Parameters have been trained!\n",
      "Train Accuracy: 0.9046987\n",
      "Test Accuracy: 0.872309\n",
      "Parameters have been trained!\n",
      "Train Accuracy: 0.90548867\n",
      "Test Accuracy: 0.8832203\n",
      "Parameters have been trained!\n",
      "Train Accuracy: 0.9060574\n",
      "Test Accuracy: 0.87990266\n",
      "Parameters have been trained!\n",
      "Train Accuracy: 0.9056151\n",
      "Test Accuracy: 0.8823356\n"
     ]
    }
   ],
   "source": [
    "### CONSTANTS ###\n",
    "layers_dims = [[13,20, 10, 5, 1],\n",
    "               [13,30,20,10,5,1],\n",
    "               [13,30,25,20,10,5,1],\n",
    "               [13,35,30,25,20,10,5,1],\n",
    "               [13,40,35,30,25,20,10,5,1]]\n",
    "batch = 1000 #mini batch size\n",
    "cost_dict=dict()\n",
    "train_acc = []\n",
    "test_acc = []\n",
    "for layers_dim in layers_dims:\n",
    "  _,costs,Training_Accuracy,Testing_Accuracy = parameters = model(X_train, y_train, X_test, y_test,learning_rate = 0.01,num_epochs = 500,\n",
    "                                                                  minibatch_size = batch,print_cost = False,layers_dims=layers_dim)\n",
    "  cost_dict[batch] = costs\n",
    "  train_acc.append(Training_Accuracy)\n",
    "  test_acc.append(Testing_Accuracy)"
   ]
  },
  {
   "cell_type": "code",
   "execution_count": 0,
   "metadata": {
    "colab": {},
    "colab_type": "code",
    "id": "8HZp1HTaDF0b"
   },
   "outputs": [],
   "source": [
    "no_of_hidden_layers=[3,4,5,6,7]\n",
    "df41 = pd.DataFrame(\n",
    "    {'no_of_hidden_layers' : no_of_hidden_layers,\n",
    "     'Acc': 'TrainingAccuracy',\n",
    "     'Accuracy': train_acc\n",
    "    })\n",
    "df42 = pd.DataFrame(\n",
    "    {'no_of_hidden_layers' : no_of_hidden_layers,\n",
    "     'Acc': 'TestingAccuracy',\n",
    "     'Accuracy': test_acc\n",
    "    })\n",
    "\n",
    "df_hidden = pd.concat([df41, df42],sort=False)\n",
    "df_hidden['Accuracy'] = (df_hidden['Accuracy'] * 100).round(2)"
   ]
  },
  {
   "cell_type": "code",
   "execution_count": 41,
   "metadata": {
    "colab": {
     "base_uri": "https://localhost:8080/",
     "height": 404
    },
    "colab_type": "code",
    "executionInfo": {
     "elapsed": 768,
     "status": "ok",
     "timestamp": 1572730829335,
     "user": {
      "displayName": "Sudharsana Rajasekaran",
      "photoUrl": "https://lh6.googleusercontent.com/-Snh27ThCViI/AAAAAAAAAAI/AAAAAAAACSk/On4b8CIBm2U/s64/photo.jpg",
      "userId": "07733356798731725121"
     },
     "user_tz": 300
    },
    "id": "xOaU4zGpDJPs",
    "outputId": "706e5dfc-496d-4d4c-ec66-eb0425b06666"
   },
   "outputs": [
    {
     "data": {
      "image/png": "[encoded data removed]",
      "text/plain": [
       "<Figure size 720x432 with 1 Axes>"
      ]
     },
     "metadata": {
      "tags": []
     },
     "output_type": "display_data"
    }
   ],
   "source": [
    "sns.set_style(\"darkgrid\",\n",
    "              {\n",
    "                  'axes.grid' : True\n",
    "              })\n",
    "plt.figure(figsize=(10,6))\n",
    "ax = sns.barplot(x=\"no_of_hidden_layers\", y=\"Accuracy\", hue=\"Acc\",palette=\"Paired\", data=df_hidden)\n",
    "plt.legend(loc='lower right')\n",
    "ax.set_title('Variation of Train/Test Accuracy for number of Hidden Layers')\n",
    "ax.set(xlabel='No of Hidden Layers', ylabel='Accuracy')\n",
    "\n",
    "for p in ax.patches:\n",
    "    ax.text(p.get_x() + p.get_width()/2., p.get_height(), '{0:.2f}'.format(p.get_height()), \n",
    "        fontsize=12, color='black', ha='center', va='bottom')\n",
    "plt.savefig(\"output_hidden.png\",dpi=150)"
   ]
  },
  {
   "cell_type": "code",
   "execution_count": 44,
   "metadata": {
    "colab": {
     "base_uri": "https://localhost:8080/",
     "height": 327
    },
    "colab_type": "code",
    "executionInfo": {
     "elapsed": 1172239,
     "status": "ok",
     "timestamp": 1572733048071,
     "user": {
      "displayName": "Sudharsana Rajasekaran",
      "photoUrl": "https://lh6.googleusercontent.com/-Snh27ThCViI/AAAAAAAAAAI/AAAAAAAACSk/On4b8CIBm2U/s64/photo.jpg",
      "userId": "07733356798731725121"
     },
     "user_tz": 300
    },
    "id": "aPg4vrPZDLVR",
    "outputId": "d8fe08fd-af56-4121-9f7b-e536d90522fe"
   },
   "outputs": [
    {
     "name": "stdout",
     "output_type": "stream",
     "text": [
      "Parameters have been trained!\n",
      "Train Accuracy: 0.8827693\n",
      "Test Accuracy: 0.8835889\n",
      "Parameters have been trained!\n",
      "Train Accuracy: 0.88472843\n",
      "Test Accuracy: 0.8442937\n",
      "Parameters have been trained!\n",
      "Train Accuracy: 0.89019495\n",
      "Test Accuracy: 0.87444705\n",
      "Parameters have been trained!\n",
      "Train Accuracy: 0.9022972\n",
      "Test Accuracy: 0.8547626\n",
      "Parameters have been trained!\n",
      "Train Accuracy: 0.902234\n",
      "Test Accuracy: 0.88344145\n",
      "Parameters have been trained!\n",
      "Train Accuracy: 0.9006541\n",
      "Test Accuracy: 0.8459157\n"
     ]
    }
   ],
   "source": [
    "#Varying Learning Rates\n",
    "layers_dims = [13, 20, 10, 5, 1]#  4-layer hidden model\n",
    "batch = 1000 #mini batch size\n",
    "cost_dict=dict()\n",
    "train_acc = []\n",
    "test_acc = []\n",
    "num_epochs = 500\n",
    "learning_rates = [0.5,0.1,0.05,0.01,0.005,0.001]\n",
    "for learning_rate in learning_rates:\n",
    "  _,costs,Training_Accuracy,Testing_Accuracy = parameters = model(X_train, y_train, X_test, y_test,learning_rate = learning_rate,num_epochs = num_epoch,\n",
    "                                                                  minibatch_size = batch,print_cost = False,layers_dims=layers_dims)\n",
    "  cost_dict[batch] = costs\n",
    "  train_acc.append(Training_Accuracy)\n",
    "  test_acc.append(Testing_Accuracy)"
   ]
  },
  {
   "cell_type": "code",
   "execution_count": 0,
   "metadata": {
    "colab": {},
    "colab_type": "code",
    "id": "4NVOegwkKw2O"
   },
   "outputs": [],
   "source": [
    "df51 = pd.DataFrame(\n",
    "    {'Learning Rate' : learning_rates,\n",
    "     'Acc': 'TrainingAccuracy',\n",
    "     'Accuracy': train_acc\n",
    "    })\n",
    "df52 = pd.DataFrame(\n",
    "    {'Learning Rate' : learning_rates,\n",
    "     'Acc': 'TestingAccuracy',\n",
    "     'Accuracy': test_acc\n",
    "    })\n",
    "\n",
    "df_learning_rate = pd.concat([df51, df52],sort=False).reset_index(drop=True)\n",
    "df_learning_rate['Accuracy'] = (df_learning_rate['Accuracy'] * 100).round(2)"
   ]
  },
  {
   "cell_type": "code",
   "execution_count": 46,
   "metadata": {
    "colab": {
     "base_uri": "https://localhost:8080/",
     "height": 441
    },
    "colab_type": "code",
    "executionInfo": {
     "elapsed": 1025,
     "status": "ok",
     "timestamp": 1572733049111,
     "user": {
      "displayName": "Sudharsana Rajasekaran",
      "photoUrl": "https://lh6.googleusercontent.com/-Snh27ThCViI/AAAAAAAAAAI/AAAAAAAACSk/On4b8CIBm2U/s64/photo.jpg",
      "userId": "07733356798731725121"
     },
     "user_tz": 300
    },
    "id": "mcTPzX8-Gauk",
    "outputId": "58943ac8-eb7a-4f29-bf26-5e0ee88c8a04"
   },
   "outputs": [
    {
     "data": {
      "image/png": "[encoded data removed]",
      "text/plain": [
       "<Figure size 720x432 with 1 Axes>"
      ]
     },
     "metadata": {
      "tags": []
     },
     "output_type": "display_data"
    }
   ],
   "source": [
    "sns.set_style(\"darkgrid\",\n",
    "              {\n",
    "                  'axes.grid' : True\n",
    "              })\n",
    "plt.figure(figsize=(10,6))\n",
    "ax = sns.barplot(x=\"Learning Rate\", y=\"Accuracy\", hue=\"Acc\",palette=\"bone\", data=df_learning_rate)\n",
    "plt.legend(loc='lower right')\n",
    "ax.set_title('Variation of Train/Test Accuracy for different Learning Rates')\n",
    "\n",
    "for p in ax.patches:\n",
    "    ax.text(p.get_x() + p.get_width()/2., p.get_height(), '{0:.2f}'.format(p.get_height()), \n",
    "        fontsize=12, color='black', ha='center', va='bottom')\n",
    "plt.tight_layout()\n",
    "plt.savefig(\"output_learning_rate.png\",dpi=150)"
   ]
  },
  {
   "cell_type": "code",
   "execution_count": 0,
   "metadata": {
    "colab": {},
    "colab_type": "code",
    "id": "weRfTzO1K-U4"
   },
   "outputs": [],
   "source": []
  }
 ],
 "metadata": {
  "accelerator": "TPU",
  "colab": {
   "collapsed_sections": [],
   "name": "Bank_Loan_Neural_Network_Generalized.ipynb",
   "provenance": []
  },
  "kernelspec": {
   "display_name": "Python 3",
   "language": "python",
   "name": "python3"
  },
  "language_info": {
   "codemirror_mode": {
    "name": "ipython",
    "version": 3
   },
   "file_extension": ".py",
   "mimetype": "text/x-python",
   "name": "python",
   "nbconvert_exporter": "python",
   "pygments_lexer": "ipython3",
   "version": "3.7.2"
  }
 },
 "nbformat": 4,
 "nbformat_minor": 1
}
